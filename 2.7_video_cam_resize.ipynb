{
 "cells": [
  {
   "cell_type": "code",
   "execution_count": 2,
   "id": "82620478",
   "metadata": {},
   "outputs": [],
   "source": [
    "import cv2"
   ]
  },
  {
   "cell_type": "code",
   "execution_count": 4,
   "id": "a0e315d5",
   "metadata": {},
   "outputs": [
    {
     "name": "stdout",
     "output_type": "stream",
     "text": [
      "Original width: 640.0, height: 480.0\n",
      "Resized width: 320.0, height: 240.0\n"
     ]
    }
   ],
   "source": [
    "cap = cv2.VideoCapture(0)\n",
    "width = cap.get(cv2.CAP_PROP_FRAME_WIDTH)            # 프레임 폭 값 구하기\n",
    "height = cap.get(cv2.CAP_PROP_FRAME_HEIGHT)          # 프레임 높이 값 구하기\n",
    "print(f'Original width: {width}, height: {height}')\n",
    "\n",
    "cap.set(cv2.CAP_PROP_FRAME_WIDTH, 320)               # 프레임 폭을 320으로 설정\n",
    "cap.set(cv2.CAP_PROP_FRAME_HEIGHT, 240)              # 프레임 높이를 240으로 설정\n",
    "width = cap.get(cv2.CAP_PROP_FRAME_WIDTH)\n",
    "height = cap.get(cv2.CAP_PROP_FRAME_HEIGHT)\n",
    "print(f'Resized width: {width}, height: {height}')"
   ]
  },
  {
   "cell_type": "code",
   "execution_count": 5,
   "id": "c4986631",
   "metadata": {},
   "outputs": [],
   "source": [
    "if cap.isOpened():\n",
    "    while True:\n",
    "        ret, frame = cap.read()\n",
    "        if ret:\n",
    "            cv2.imshow('camera', frame)\n",
    "            if cv2.waitKey(1) != -1:\n",
    "                break\n",
    "        else:\n",
    "            print('no frame!')\n",
    "            break\n",
    "else:\n",
    "    print(\"can't open camera\")\n",
    "    \n",
    "cap.release()\n",
    "cv2.destroyAllWindows()"
   ]
  },
  {
   "cell_type": "code",
   "execution_count": null,
   "id": "0c5d36ee",
   "metadata": {},
   "outputs": [],
   "source": []
  }
 ],
 "metadata": {
  "kernelspec": {
   "display_name": "py3_8_5",
   "language": "python",
   "name": "py3_8_5"
  },
  "language_info": {
   "codemirror_mode": {
    "name": "ipython",
    "version": 3
   },
   "file_extension": ".py",
   "mimetype": "text/x-python",
   "name": "python",
   "nbconvert_exporter": "python",
   "pygments_lexer": "ipython3",
   "version": "3.8.5"
  }
 },
 "nbformat": 4,
 "nbformat_minor": 5
}
