{
 "cells": [
  {
   "cell_type": "code",
   "execution_count": 5,
   "id": "493827b1",
   "metadata": {},
   "outputs": [],
   "source": [
    "import cv2\n",
    "import numpy as np"
   ]
  },
  {
   "cell_type": "code",
   "execution_count": 6,
   "id": "d90f68a1",
   "metadata": {},
   "outputs": [],
   "source": [
    "img = cv2.imread('./img/sunset.jpg')"
   ]
  },
  {
   "cell_type": "code",
   "execution_count": 10,
   "id": "8a0e6f68",
   "metadata": {},
   "outputs": [
    {
     "name": "stdout",
     "output_type": "stream",
     "text": [
      "0 0\n"
     ]
    }
   ],
   "source": [
    "# cv2.selectROI - 엔터, 스페이스 : 저장, c : 취소\n",
    "x, y, w, h = cv2.selectROI('img', img, False)\n",
    "print(w, h)\n",
    "if w and h:\n",
    "    roi = img[y:y+h, x:x+w]\n",
    "    cv2.imshow('cropped', roi)                # roi 지정 영역을 새 창으로 표시\n",
    "    cv2.moveWindow('cropped', 0, 0)           # 새 창을 좌측 상단으로 이동\n",
    "    cv2.imwrite('./result/cropped2.jpg', roi) # ROI 영역만 파일로 저장\n",
    "    \n",
    "cv2.imshow('img', img)\n",
    "cv2.waitKey(0)\n",
    "cv2.destroyAllWindows()"
   ]
  },
  {
   "cell_type": "code",
   "execution_count": null,
   "id": "24353266",
   "metadata": {},
   "outputs": [],
   "source": []
  }
 ],
 "metadata": {
  "kernelspec": {
   "display_name": "py3_8_5",
   "language": "python",
   "name": "py3_8_5"
  },
  "language_info": {
   "codemirror_mode": {
    "name": "ipython",
    "version": 3
   },
   "file_extension": ".py",
   "mimetype": "text/x-python",
   "name": "python",
   "nbconvert_exporter": "python",
   "pygments_lexer": "ipython3",
   "version": "3.8.5"
  }
 },
 "nbformat": 4,
 "nbformat_minor": 5
}
