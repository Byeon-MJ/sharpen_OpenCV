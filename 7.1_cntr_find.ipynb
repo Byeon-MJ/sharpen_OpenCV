{
 "cells": [
  {
   "cell_type": "code",
   "execution_count": 1,
   "id": "1a8b139b",
   "metadata": {},
   "outputs": [],
   "source": [
    "import cv2\n",
    "import numpy as np"
   ]
  },
  {
   "cell_type": "code",
   "execution_count": 3,
   "id": "6199ffa8",
   "metadata": {},
   "outputs": [],
   "source": [
    "img = cv2.imread('./img/shapes.png')\n",
    "img2 = img.copy()"
   ]
  },
  {
   "cell_type": "code",
   "execution_count": 5,
   "id": "ec33b5b8",
   "metadata": {},
   "outputs": [],
   "source": [
    "# 그레이 스케일로 변환\n",
    "img_gray = cv2.cvtColor(img, cv2.COLOR_BGR2GRAY)\n",
    "\n",
    "# 스레시홀드로 바이너리 이미지로 만들어서 검은색 배경에 흰색 전경으로 반전\n",
    "ret, imthres = cv2.threshold(img_gray, 127, 255, cv2.THRESH_BINARY_INV)"
   ]
  },
  {
   "cell_type": "code",
   "execution_count": 7,
   "id": "5c4c508b",
   "metadata": {},
   "outputs": [],
   "source": [
    "# 가장 바깥쪽 컨투어에 대해 모든 좌표 반환\n",
    "contour, hierarchy = cv2.findContours(imthres, cv2.RETR_EXTERNAL, cv2.CHAIN_APPROX_NONE)[-2:]\n",
    "\n",
    "# 가장 바깥쪽 컨투어에 대해 꼭짓점 좌표만 반환\n",
    "contour2, hierarchy = cv2.findContours(imthres, cv2.RETR_EXTERNAL, cv2.CHAIN_APPROX_SIMPLE)[-2:]"
   ]
  },
  {
   "cell_type": "code",
   "execution_count": 8,
   "id": "04599ebd",
   "metadata": {},
   "outputs": [
    {
     "name": "stdout",
     "output_type": "stream",
     "text": [
      "도형의 개수 : 3(3)\n"
     ]
    }
   ],
   "source": [
    "# 각 컨투어의 개수 출력\n",
    "print(f'도형의 개수 : {len(contour)}({len(contour2)})')"
   ]
  },
  {
   "cell_type": "code",
   "execution_count": 9,
   "id": "d04af5c3",
   "metadata": {},
   "outputs": [
    {
     "data": {
      "text/plain": [
       "array([[[255, 255, 255],\n",
       "        [255, 255, 255],\n",
       "        [255, 255, 255],\n",
       "        ...,\n",
       "        [255, 255, 255],\n",
       "        [255, 255, 255],\n",
       "        [255, 255, 255]],\n",
       "\n",
       "       [[255, 255, 255],\n",
       "        [255, 255, 255],\n",
       "        [255, 255, 255],\n",
       "        ...,\n",
       "        [255, 255, 255],\n",
       "        [255, 255, 255],\n",
       "        [255, 255, 255]],\n",
       "\n",
       "       [[255, 255, 255],\n",
       "        [255, 255, 255],\n",
       "        [255, 255, 255],\n",
       "        ...,\n",
       "        [255, 255, 255],\n",
       "        [255, 255, 255],\n",
       "        [255, 255, 255]],\n",
       "\n",
       "       ...,\n",
       "\n",
       "       [[255, 255, 255],\n",
       "        [255, 255, 255],\n",
       "        [255, 255, 255],\n",
       "        ...,\n",
       "        [255, 255, 255],\n",
       "        [255, 255, 255],\n",
       "        [255, 255, 255]],\n",
       "\n",
       "       [[255, 255, 255],\n",
       "        [255, 255, 255],\n",
       "        [255, 255, 255],\n",
       "        ...,\n",
       "        [255, 255, 255],\n",
       "        [255, 255, 255],\n",
       "        [255, 255, 255]],\n",
       "\n",
       "       [[255, 255, 255],\n",
       "        [255, 255, 255],\n",
       "        [255, 255, 255],\n",
       "        ...,\n",
       "        [255, 255, 255],\n",
       "        [255, 255, 255],\n",
       "        [255, 255, 255]]], dtype=uint8)"
      ]
     },
     "execution_count": 9,
     "metadata": {},
     "output_type": "execute_result"
    }
   ],
   "source": [
    "# 모든 좌표를 갖는 컨투어 그리기, 초록색\n",
    "cv2.drawContours(img, contour, -1, (0, 255, 0), 4)\n",
    "\n",
    "# 꼭짓점 좌표만을 갖는 컨투어 그리기, 초록색\n",
    "cv2.drawContours(img2, contour2, -1, (0, 255, 0), 4)"
   ]
  },
  {
   "cell_type": "code",
   "execution_count": 29,
   "id": "db6c23b3",
   "metadata": {},
   "outputs": [],
   "source": [
    "# 컨투어의 모든 좌표를 작은 파란색 점(원)으로 표시\n",
    "for i in contour:\n",
    "    for j in i:\n",
    "        cv2.circle(img, tuple(j[0]), 1, (255, 0, 0), -1)"
   ]
  },
  {
   "cell_type": "code",
   "execution_count": 30,
   "id": "5284ebe7",
   "metadata": {},
   "outputs": [],
   "source": [
    "# 컨투어의 꼭짓점 좌표를 작은 파란색 점(원)으로 표시\n",
    "for i in contour2:\n",
    "    for j in i:\n",
    "        cv2.circle(img2, tuple(j[0]), 1, (255, 0, 0), -1)"
   ]
  },
  {
   "cell_type": "code",
   "execution_count": 31,
   "id": "48780750",
   "metadata": {},
   "outputs": [],
   "source": [
    "# 결과 출력\n",
    "cv2.imshow('CHAIN_APPROX_NONE', img)\n",
    "cv2.imshow('CHAIN_APPROX_SIMPLE', img2)\n",
    "cv2.waitKey()\n",
    "cv2.destroyAllWindows()"
   ]
  },
  {
   "cell_type": "code",
   "execution_count": null,
   "id": "bf019fe8",
   "metadata": {},
   "outputs": [],
   "source": []
  }
 ],
 "metadata": {
  "kernelspec": {
   "display_name": "py3_8_5",
   "language": "python",
   "name": "py3_8_5"
  },
  "language_info": {
   "codemirror_mode": {
    "name": "ipython",
    "version": 3
   },
   "file_extension": ".py",
   "mimetype": "text/x-python",
   "name": "python",
   "nbconvert_exporter": "python",
   "pygments_lexer": "ipython3",
   "version": "3.8.5"
  }
 },
 "nbformat": 4,
 "nbformat_minor": 5
}
