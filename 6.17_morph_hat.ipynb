{
 "cells": [
  {
   "cell_type": "code",
   "execution_count": 1,
   "id": "bb18854d",
   "metadata": {},
   "outputs": [],
   "source": [
    "import cv2\n",
    "import numpy as np"
   ]
  },
  {
   "cell_type": "code",
   "execution_count": 2,
   "id": "78617bfb",
   "metadata": {},
   "outputs": [],
   "source": [
    "img = cv2.imread('./img/moon_gray.jpg')"
   ]
  },
  {
   "cell_type": "code",
   "execution_count": 3,
   "id": "d46f86ee",
   "metadata": {},
   "outputs": [],
   "source": [
    "# structuring element kernel, create rectangle(5 x 5)\n",
    "k = cv2.getStructuringElement(cv2.MORPH_RECT, (9, 9))"
   ]
  },
  {
   "cell_type": "code",
   "execution_count": 6,
   "id": "c9ad952c",
   "metadata": {},
   "outputs": [],
   "source": [
    "# apply top-hat operation\n",
    "tophat = cv2.morphologyEx(img, cv2.MORPH_TOPHAT, k)\n",
    "\n",
    "# apply black-hat operation\n",
    "blackhat = cv2.morphologyEx(img, cv2.MORPH_BLACKHAT, k)"
   ]
  },
  {
   "cell_type": "code",
   "execution_count": 7,
   "id": "b9875413",
   "metadata": {},
   "outputs": [],
   "source": [
    "# output result\n",
    "merged = np.hstack((img, tophat, blackhat))\n",
    "cv2.imshow('tophat blackhat', merged)\n",
    "cv2.waitKey()\n",
    "cv2.destroyAllWindows()"
   ]
  },
  {
   "cell_type": "code",
   "execution_count": null,
   "id": "19e2843d",
   "metadata": {},
   "outputs": [],
   "source": []
  }
 ],
 "metadata": {
  "kernelspec": {
   "display_name": "py3_8_5",
   "language": "python",
   "name": "py3_8_5"
  },
  "language_info": {
   "codemirror_mode": {
    "name": "ipython",
    "version": 3
   },
   "file_extension": ".py",
   "mimetype": "text/x-python",
   "name": "python",
   "nbconvert_exporter": "python",
   "pygments_lexer": "ipython3",
   "version": "3.8.5"
  }
 },
 "nbformat": 4,
 "nbformat_minor": 5
}
