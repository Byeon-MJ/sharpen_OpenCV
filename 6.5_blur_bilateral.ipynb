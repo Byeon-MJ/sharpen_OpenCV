{
 "cells": [
  {
   "cell_type": "code",
   "execution_count": 26,
   "id": "9d10021b",
   "metadata": {},
   "outputs": [],
   "source": [
    "import cv2\n",
    "import numpy as np"
   ]
  },
  {
   "cell_type": "code",
   "execution_count": 48,
   "id": "c25662f9",
   "metadata": {},
   "outputs": [],
   "source": [
    "img = cv2.imread('./img/gaussian_noise.jpg')"
   ]
  },
  {
   "cell_type": "code",
   "execution_count": 49,
   "id": "b457d9b9",
   "metadata": {},
   "outputs": [],
   "source": [
    "# 가우시안 필터 적용\n",
    "blur1 = cv2.GaussianBlur(img, (5, 5), 0)"
   ]
  },
  {
   "cell_type": "code",
   "execution_count": 50,
   "id": "84861a88",
   "metadata": {},
   "outputs": [],
   "source": [
    "# 바이레터럴 필터 적용\n",
    "blur2 = cv2.bilateralFilter(img, 5, 75, 75)"
   ]
  },
  {
   "cell_type": "code",
   "execution_count": 51,
   "id": "7fa431f7",
   "metadata": {},
   "outputs": [],
   "source": [
    "# 결과 출력\n",
    "merged = np.hstack((img, blur1, blur2))\n",
    "cv2.imshow('bilateral', merged)\n",
    "cv2.waitKey()\n",
    "cv2.destroyAllWindows()"
   ]
  },
  {
   "cell_type": "code",
   "execution_count": null,
   "id": "8ca00a23",
   "metadata": {},
   "outputs": [],
   "source": []
  }
 ],
 "metadata": {
  "kernelspec": {
   "display_name": "py3_8_5",
   "language": "python",
   "name": "py3_8_5"
  },
  "language_info": {
   "codemirror_mode": {
    "name": "ipython",
    "version": 3
   },
   "file_extension": ".py",
   "mimetype": "text/x-python",
   "name": "python",
   "nbconvert_exporter": "python",
   "pygments_lexer": "ipython3",
   "version": "3.8.5"
  }
 },
 "nbformat": 4,
 "nbformat_minor": 5
}
