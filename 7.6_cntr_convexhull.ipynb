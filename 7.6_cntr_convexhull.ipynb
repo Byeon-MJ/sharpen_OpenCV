{
 "cells": [
  {
   "cell_type": "code",
   "execution_count": 1,
   "id": "da353655",
   "metadata": {},
   "outputs": [],
   "source": [
    "    import cv2\n",
    "    import numpy as np"
   ]
  },
  {
   "cell_type": "code",
   "execution_count": 2,
   "id": "9c1b5022",
   "metadata": {},
   "outputs": [],
   "source": [
    "img = cv2.imread('./img/hand.jpg')\n",
    "img2 = img.copy()"
   ]
  },
  {
   "cell_type": "code",
   "execution_count": 5,
   "id": "a44d8856",
   "metadata": {},
   "outputs": [],
   "source": [
    "# Convert to gray scale and binary scale\n",
    "gray = cv2.cvtColor(img, cv2.COLOR_BGR2GRAY)\n",
    "ret, th = cv2.threshold(gray, 127, 255, cv2.THRESH_BINARY_INV)"
   ]
  },
  {
   "cell_type": "code",
   "execution_count": 6,
   "id": "49508ca9",
   "metadata": {},
   "outputs": [
    {
     "data": {
      "text/plain": [
       "array([[[255, 255, 255],\n",
       "        [255, 255, 255],\n",
       "        [255, 255, 255],\n",
       "        ...,\n",
       "        [255, 255, 255],\n",
       "        [255, 255, 255],\n",
       "        [255, 255, 255]],\n",
       "\n",
       "       [[255, 255, 255],\n",
       "        [255, 255, 255],\n",
       "        [255, 255, 255],\n",
       "        ...,\n",
       "        [255, 255, 255],\n",
       "        [255, 255, 255],\n",
       "        [255, 255, 255]],\n",
       "\n",
       "       [[255, 255, 255],\n",
       "        [255, 255, 255],\n",
       "        [255, 255, 255],\n",
       "        ...,\n",
       "        [255, 255, 255],\n",
       "        [255, 255, 255],\n",
       "        [255, 255, 255]],\n",
       "\n",
       "       ...,\n",
       "\n",
       "       [[255, 255, 255],\n",
       "        [255, 255, 255],\n",
       "        [255, 255, 255],\n",
       "        ...,\n",
       "        [255, 255, 255],\n",
       "        [255, 255, 255],\n",
       "        [255, 255, 255]],\n",
       "\n",
       "       [[255, 255, 255],\n",
       "        [255, 255, 255],\n",
       "        [255, 255, 255],\n",
       "        ...,\n",
       "        [255, 255, 255],\n",
       "        [255, 255, 255],\n",
       "        [255, 255, 255]],\n",
       "\n",
       "       [[255, 255, 255],\n",
       "        [255, 255, 255],\n",
       "        [255, 255, 255],\n",
       "        ...,\n",
       "        [255, 255, 255],\n",
       "        [255, 255, 255],\n",
       "        [255, 255, 255]]], dtype=uint8)"
      ]
     },
     "execution_count": 6,
     "metadata": {},
     "output_type": "execute_result"
    }
   ],
   "source": [
    "# Find and draw a contour\n",
    "contours, hr = cv2.findContours(th, cv2.RETR_EXTERNAL, cv2.CHAIN_APPROX_SIMPLE)[-2:]\n",
    "cntr = contours[0]\n",
    "cv2.drawContours(img, [cntr], -1, (0, 255, 0), 1)"
   ]
  },
  {
   "cell_type": "code",
   "execution_count": 7,
   "id": "e8187968",
   "metadata": {},
   "outputs": [
    {
     "name": "stdout",
     "output_type": "stream",
     "text": [
      "False True\n"
     ]
    }
   ],
   "source": [
    "# Find and draw a convex hull(based on coordinates)\n",
    "hull = cv2.convexHull(cntr)\n",
    "cv2.drawContours(img2, [hull], -1, (0, 255, 0), 1)\n",
    "\n",
    "# Check satisfaction with the convex hull\n",
    "print(cv2.isContourConvex(cntr), cv2.isContourConvex(hull))"
   ]
  },
  {
   "cell_type": "code",
   "execution_count": 8,
   "id": "bfcb7d0e",
   "metadata": {},
   "outputs": [],
   "source": [
    "# Find a convex hull(based on index)\n",
    "hull2 = cv2.convexHull(cntr, returnPoints=False)"
   ]
  },
  {
   "cell_type": "code",
   "execution_count": 10,
   "id": "548d404f",
   "metadata": {},
   "outputs": [],
   "source": [
    "# Find a convex hull defects\n",
    "defects = cv2.convexityDefects(cntr, hull2)\n",
    "\n",
    "# Iterate convex hull defects\n",
    "for i in range(defects.shape[0]):\n",
    "    # start, end, farthest point, distance\n",
    "    startP, endP, farthestP, distance = defects[i, 0]\n",
    "    \n",
    "    # Get the coordinates of the farthest point\n",
    "    farthest = tuple(cntr[farthestP][0])\n",
    "    \n",
    "    # Convert distance to floating point number\n",
    "    dist = distance/256.0\n",
    "    \n",
    "    # When the distance is greater than 1\n",
    "    if dist > 1 :\n",
    "        # Mark red dot\n",
    "        cv2.circle(img2, farthest, 3, (0, 0, 255), -1)"
   ]
  },
  {
   "cell_type": "code",
   "execution_count": 11,
   "id": "e25f32c9",
   "metadata": {},
   "outputs": [],
   "source": [
    "# Display result image\n",
    "cv2.imshow('contour', img)\n",
    "cv2.imshow('convex hull', img2)\n",
    "cv2.waitKey()\n",
    "cv2.destroyAllWindows()"
   ]
  },
  {
   "cell_type": "code",
   "execution_count": null,
   "id": "4508e556",
   "metadata": {},
   "outputs": [],
   "source": []
  }
 ],
 "metadata": {
  "kernelspec": {
   "display_name": "py3_8_5",
   "language": "python",
   "name": "py3_8_5"
  },
  "language_info": {
   "codemirror_mode": {
    "name": "ipython",
    "version": 3
   },
   "file_extension": ".py",
   "mimetype": "text/x-python",
   "name": "python",
   "nbconvert_exporter": "python",
   "pygments_lexer": "ipython3",
   "version": "3.8.5"
  }
 },
 "nbformat": 4,
 "nbformat_minor": 5
}
