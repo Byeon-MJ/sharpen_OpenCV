{
 "cells": [
  {
   "cell_type": "code",
   "execution_count": 1,
   "id": "82dbda4a",
   "metadata": {},
   "outputs": [],
   "source": [
    "import cv2\n",
    "import numpy as np"
   ]
  },
  {
   "cell_type": "code",
   "execution_count": 2,
   "id": "c4ec0846",
   "metadata": {},
   "outputs": [],
   "source": [
    "win_name = 'Alpha blending'\n",
    "trackbar_name = 'fade'"
   ]
  },
  {
   "cell_type": "code",
   "execution_count": 3,
   "id": "d763a17e",
   "metadata": {},
   "outputs": [],
   "source": [
    "# 트랙바 이벤트 핸들러\n",
    "def onChange(x):\n",
    "    alpha = x/100\n",
    "    dst = cv2.addWeighted(img1, 1-alpha, img2, alpha, 0)\n",
    "    cv2.imshow(win_name, dst)"
   ]
  },
  {
   "cell_type": "code",
   "execution_count": 4,
   "id": "20115df8",
   "metadata": {},
   "outputs": [],
   "source": [
    "# 합성할 이미지 읽기\n",
    "img1 = cv2.imread('./img/man_face.jpg')\n",
    "img2 = cv2.imread('./img/lion_face.jpg')"
   ]
  },
  {
   "cell_type": "code",
   "execution_count": 5,
   "id": "15d665bd",
   "metadata": {},
   "outputs": [],
   "source": [
    "# 이미지 표시 및 트랙바 붙이기\n",
    "cv2.imshow(win_name, img1)\n",
    "cv2.createTrackbar(trackbar_name, win_name, 0, 100, onChange)\n",
    "\n",
    "cv2.waitKey()\n",
    "cv2.destroyAllWindows()"
   ]
  },
  {
   "cell_type": "code",
   "execution_count": null,
   "id": "411fb79b",
   "metadata": {},
   "outputs": [],
   "source": []
  }
 ],
 "metadata": {
  "kernelspec": {
   "display_name": "py3_8_5",
   "language": "python",
   "name": "py3_8_5"
  },
  "language_info": {
   "codemirror_mode": {
    "name": "ipython",
    "version": 3
   },
   "file_extension": ".py",
   "mimetype": "text/x-python",
   "name": "python",
   "nbconvert_exporter": "python",
   "pygments_lexer": "ipython3",
   "version": "3.8.5"
  }
 },
 "nbformat": 4,
 "nbformat_minor": 5
}
