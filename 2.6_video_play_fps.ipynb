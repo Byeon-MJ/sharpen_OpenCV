{
 "cells": [
  {
   "cell_type": "code",
   "execution_count": 6,
   "id": "801290ed",
   "metadata": {},
   "outputs": [
    {
     "name": "stdout",
     "output_type": "stream",
     "text": [
      "FPS:24.0, Delay: 41\n"
     ]
    }
   ],
   "source": [
    "import cv2\n",
    "\n",
    "video_file = './img/big_buck.avi'\n",
    " \n",
    "cap = cv2.VideoCapture(video_file)\n",
    "\n",
    "if cap.isOpened():\n",
    "    fps = cap.get(cv2.CAP_PROP_FPS)\n",
    "    delay = int(1000/fps)\n",
    "    print(f'FPS:{fps}, Delay: {delay}')\n",
    "\n",
    "    while True:\n",
    "        ret, img = cap.read()\n",
    "        if ret:\n",
    "#             흑백 영상 보기\n",
    "#             img = cv2.cvtColor(img, cv2.COLOR_BGR2GRAY)\n",
    "            cv2.imshow(video_file, img)\n",
    "            cv2.waitKey(delay)\n",
    "        else:\n",
    "            break\n",
    "else:\n",
    "    print(\"can't open video.\")\n",
    "\n",
    "cap.release()\n",
    "cv2.destroyAllWindows()"
   ]
  },
  {
   "cell_type": "code",
   "execution_count": null,
   "id": "16d4d757",
   "metadata": {},
   "outputs": [],
   "source": []
  }
 ],
 "metadata": {
  "kernelspec": {
   "display_name": "py3_8_5",
   "language": "python",
   "name": "py3_8_5"
  },
  "language_info": {
   "codemirror_mode": {
    "name": "ipython",
    "version": 3
   },
   "file_extension": ".py",
   "mimetype": "text/x-python",
   "name": "python",
   "nbconvert_exporter": "python",
   "pygments_lexer": "ipython3",
   "version": "3.8.5"
  }
 },
 "nbformat": 4,
 "nbformat_minor": 5
}
