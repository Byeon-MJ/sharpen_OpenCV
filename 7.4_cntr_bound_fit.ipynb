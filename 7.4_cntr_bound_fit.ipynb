{
 "cells": [
  {
   "cell_type": "code",
   "execution_count": 1,
   "id": "81316677",
   "metadata": {},
   "outputs": [],
   "source": [
    "import cv2\n",
    "import numpy as np"
   ]
  },
  {
   "cell_type": "code",
   "execution_count": 2,
   "id": "ad7789b1",
   "metadata": {},
   "outputs": [],
   "source": [
    "# Read image and convert to grayscale, then convert to binary scale\n",
    "img = cv2.imread('./img/lightning.png')\n",
    "img_gray = cv2.cvtColor(img, cv2.COLOR_BGR2GRAY)\n",
    "ret, th = cv2.threshold(img_gray, 127, 255, cv2.THRESH_BINARY_INV)"
   ]
  },
  {
   "cell_type": "code",
   "execution_count": 3,
   "id": "8fd7f2f4",
   "metadata": {},
   "outputs": [],
   "source": [
    "# Find contour\n",
    "contours, hr = cv2.findContours(th, cv2.RETR_EXTERNAL, cv2.CHAIN_APPROX_SIMPLE)[-2:]"
   ]
  },
  {
   "cell_type": "code",
   "execution_count": 4,
   "id": "658e4c63",
   "metadata": {},
   "outputs": [],
   "source": [
    "contour = contours[0]"
   ]
  },
  {
   "cell_type": "code",
   "execution_count": 7,
   "id": "382f0d07",
   "metadata": {},
   "outputs": [
    {
     "data": {
      "text/plain": [
       "array([[[255, 255, 255],\n",
       "        [255, 255, 255],\n",
       "        [255, 255, 255],\n",
       "        ...,\n",
       "        [255, 255, 255],\n",
       "        [255, 255, 255],\n",
       "        [255, 255, 255]],\n",
       "\n",
       "       [[255, 255, 255],\n",
       "        [255, 255, 255],\n",
       "        [255, 255, 255],\n",
       "        ...,\n",
       "        [255, 255, 255],\n",
       "        [255, 255, 255],\n",
       "        [255, 255, 255]],\n",
       "\n",
       "       [[255, 255, 255],\n",
       "        [255, 255, 255],\n",
       "        [255, 255, 255],\n",
       "        ...,\n",
       "        [255, 255, 255],\n",
       "        [255, 255, 255],\n",
       "        [255, 255, 255]],\n",
       "\n",
       "       ...,\n",
       "\n",
       "       [[255, 255, 255],\n",
       "        [255, 255, 255],\n",
       "        [255, 255, 255],\n",
       "        ...,\n",
       "        [255, 255, 255],\n",
       "        [255, 255, 255],\n",
       "        [255, 255, 255]],\n",
       "\n",
       "       [[255, 255, 255],\n",
       "        [255, 255, 255],\n",
       "        [255, 255, 255],\n",
       "        ...,\n",
       "        [255, 255, 255],\n",
       "        [255, 255, 255],\n",
       "        [255, 255, 255]],\n",
       "\n",
       "       [[255, 255, 255],\n",
       "        [255, 255, 255],\n",
       "        [255, 255, 255],\n",
       "        ...,\n",
       "        [255, 255, 255],\n",
       "        [255, 255, 255],\n",
       "        [255, 255, 255]]], dtype=uint8)"
      ]
     },
     "execution_count": 7,
     "metadata": {},
     "output_type": "execute_result"
    }
   ],
   "source": [
    "# Display rectangle surrounding contour(black)\n",
    "x, y, w, h = cv2.boundingRect(contour)\n",
    "cv2.rectangle(img, (x, y), (x+w, y+h), (0, 0, 0), 3)\n",
    "\n",
    "# Display minimum enclosing rectangle(green)\n",
    "rect = cv2.minAreaRect(contour)\n",
    "box = cv2.boxPoints(rect)    # Convert center point and angle into coordinates of four vertices\n",
    "box = np.int0(box)           # Convert to Integer\n",
    "cv2.drawContours(img, [box], -1, (0, 255, 0), 3)\n",
    "\n",
    "# Display minimum enclosing circle(blue)\n",
    "(x, y), radius = cv2.minEnclosingCircle(contour)\n",
    "cv2.circle(img, (int(x), int(y)), int(radius), (255, 0, 0), 2)\n",
    "\n",
    "# Display minimum enclosing triangle(pink)\n",
    "ret, tri = cv2.minEnclosingTriangle(np.float32(contour))\n",
    "cv2.polylines(img, [np.int32(tri)], True, (255, 0, 255), 2)\n",
    "\n",
    "# Display minimum enclosing ellipse(yellow)\n",
    "ellipse = cv2.fitEllipse(contour)\n",
    "cv2.ellipse(img, ellipse, (0, 255, 255), 3)\n",
    "\n",
    "# Display a straight line passing through the center point(red)\n",
    "[vx, vy, x, y] = cv2.fitLine(contour, cv2.DIST_L2, 0, 0.01, 0.01)\n",
    "cols, rows = img.shape[:2]\n",
    "cv2.line(img, (0, int(0-x*(vy/vx) + y)), (cols-1, int((cols-x)*(vy/vx) + y)), (0, 0, 255), 2)"
   ]
  },
  {
   "cell_type": "code",
   "execution_count": 8,
   "id": "73e44f15",
   "metadata": {},
   "outputs": [],
   "source": [
    "# Output result\n",
    "cv2.imshow('Bound Fit shapes', img)\n",
    "cv2.waitKey()\n",
    "cv2.destroyAllWindows()"
   ]
  },
  {
   "cell_type": "code",
   "execution_count": null,
   "id": "2ee9e7a1",
   "metadata": {},
   "outputs": [],
   "source": []
  }
 ],
 "metadata": {
  "kernelspec": {
   "display_name": "py3_8_5",
   "language": "python",
   "name": "py3_8_5"
  },
  "language_info": {
   "codemirror_mode": {
    "name": "ipython",
    "version": 3
   },
   "file_extension": ".py",
   "mimetype": "text/x-python",
   "name": "python",
   "nbconvert_exporter": "python",
   "pygments_lexer": "ipython3",
   "version": "3.8.5"
  }
 },
 "nbformat": 4,
 "nbformat_minor": 5
}
