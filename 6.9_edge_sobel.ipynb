{
 "cells": [
  {
   "cell_type": "code",
   "execution_count": 1,
   "id": "9fbe7886",
   "metadata": {},
   "outputs": [],
   "source": [
    "import cv2\n",
    "import numpy as np"
   ]
  },
  {
   "cell_type": "code",
   "execution_count": 19,
   "id": "f33eacb6",
   "metadata": {},
   "outputs": [],
   "source": [
    "img = cv2.imread('./img/sudoku.jpg')"
   ]
  },
  {
   "cell_type": "code",
   "execution_count": 20,
   "id": "9db17ca4",
   "metadata": {},
   "outputs": [],
   "source": [
    "# Create Sobel kernel directly to detect bounaries\n",
    "# Create Sobel Kernel\n",
    "sobel_x = np.array([[-1, 0, 1], [-2, 0, 2], [-1, 0, 1]])\n",
    "sobel_y = np.array([[-1, -2, -1], [0, 0, 0], [1, 2, 1]])"
   ]
  },
  {
   "cell_type": "code",
   "execution_count": 21,
   "id": "4c2651f2",
   "metadata": {},
   "outputs": [],
   "source": [
    "# Apply Sobel filter\n",
    "edge_x = cv2.filter2D(img, -1, sobel_x)\n",
    "edge_y = cv2.filter2D(img, -1, sobel_y)"
   ]
  },
  {
   "cell_type": "code",
   "execution_count": 22,
   "id": "4d860dcd",
   "metadata": {},
   "outputs": [],
   "source": [
    "# Boundary detection with Sobel API\n",
    "sobelx = cv2.Sobel(img, -1, 1, 0, ksize=3)\n",
    "sobely = cv2.Sobel(img, -1, 0, 1, ksize=3)"
   ]
  },
  {
   "cell_type": "code",
   "execution_count": 23,
   "id": "e545a58f",
   "metadata": {},
   "outputs": [],
   "source": [
    "# Result Output\n",
    "merged1 = np.hstack((img, edge_x, edge_y, edge_x+edge_y))\n",
    "merged2 = np.hstack((img, sobelx, sobely, sobelx+sobely))\n",
    "merged = np.vstack((merged1, merged2))\n",
    "cv2.imshow('sobel', merged)\n",
    "cv2.waitKey()\n",
    "cv2.destroyAllWindows()"
   ]
  },
  {
   "cell_type": "code",
   "execution_count": null,
   "id": "506d88e6",
   "metadata": {},
   "outputs": [],
   "source": []
  }
 ],
 "metadata": {
  "kernelspec": {
   "display_name": "py3_8_5",
   "language": "python",
   "name": "py3_8_5"
  },
  "language_info": {
   "codemirror_mode": {
    "name": "ipython",
    "version": 3
   },
   "file_extension": ".py",
   "mimetype": "text/x-python",
   "name": "python",
   "nbconvert_exporter": "python",
   "pygments_lexer": "ipython3",
   "version": "3.8.5"
  }
 },
 "nbformat": 4,
 "nbformat_minor": 5
}
