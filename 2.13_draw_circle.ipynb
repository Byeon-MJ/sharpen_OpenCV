{
 "cells": [
  {
   "cell_type": "code",
   "execution_count": 1,
   "id": "faa2921f",
   "metadata": {},
   "outputs": [],
   "source": [
    "import cv2"
   ]
  },
  {
   "cell_type": "code",
   "execution_count": 2,
   "id": "79875732",
   "metadata": {},
   "outputs": [],
   "source": [
    "img = cv2.imread('./img/blank_500.jpg')"
   ]
  },
  {
   "cell_type": "code",
   "execution_count": 6,
   "id": "6a1e447a",
   "metadata": {},
   "outputs": [
    {
     "data": {
      "text/plain": [
       "array([[[255, 255, 255],\n",
       "        [255, 255, 255],\n",
       "        [255, 255, 255],\n",
       "        ...,\n",
       "        [255, 255, 255],\n",
       "        [255, 255, 255],\n",
       "        [255, 255, 255]],\n",
       "\n",
       "       [[255, 255, 255],\n",
       "        [255, 255, 255],\n",
       "        [255, 255, 255],\n",
       "        ...,\n",
       "        [255, 255, 255],\n",
       "        [255, 255, 255],\n",
       "        [255, 255, 255]],\n",
       "\n",
       "       [[255, 255, 255],\n",
       "        [255, 255, 255],\n",
       "        [255, 255, 255],\n",
       "        ...,\n",
       "        [255, 255, 255],\n",
       "        [255, 255, 255],\n",
       "        [255, 255, 255]],\n",
       "\n",
       "       ...,\n",
       "\n",
       "       [[255, 255, 255],\n",
       "        [255, 255, 255],\n",
       "        [255, 255, 255],\n",
       "        ...,\n",
       "        [255, 255, 255],\n",
       "        [255, 255, 255],\n",
       "        [255, 255, 255]],\n",
       "\n",
       "       [[255, 255, 255],\n",
       "        [255, 255, 255],\n",
       "        [255, 255, 255],\n",
       "        ...,\n",
       "        [255, 255, 255],\n",
       "        [255, 255, 255],\n",
       "        [255, 255, 255]],\n",
       "\n",
       "       [[255, 255, 255],\n",
       "        [255, 255, 255],\n",
       "        [255, 255, 255],\n",
       "        ...,\n",
       "        [255, 255, 255],\n",
       "        [255, 255, 255],\n",
       "        [255, 255, 255]]], dtype=uint8)"
      ]
     },
     "execution_count": 6,
     "metadata": {},
     "output_type": "execute_result"
    }
   ],
   "source": [
    "# circle()\n",
    "cv2.circle(img, (150, 150), 100, (255, 0, 0))\n",
    "cv2.circle(img, (300, 150), 70, (0, 255, 0), 5)\n",
    "cv2.circle(img, (400, 150), 50, (0, 0, 255), -1)\n",
    "\n",
    "# ellipse()\n",
    "# 원점(50, 300), 반지름(50), 회전 0, 0, 도부터 360도\n",
    "cv2.ellipse(img, (50, 300), (50, 50), 0, 0, 360, (0, 0, 255))\n",
    "# 원점(150, 300), 아래 반원\n",
    "cv2.ellipse(img, (150, 300), (50, 50), 0, 0, 180, (255, 0, 0))\n",
    "# 원점(200, 300), 위 반원\n",
    "cv2.ellipse(img, (200, 300), (50, 50), 0, 181, 360, (0, 0, 255))\n",
    "\n",
    "# 원점(325, 300), 반지름(75, 50) 납작한 타원\n",
    "cv2.ellipse(img, (325, 300), (75, 50), 0, 0, 360, (0, 255, 0))\n",
    "# 원점(450, 300), 반지름(50, 75) 홀쭉한 타원\n",
    "cv2.ellipse(img, (450, 300), (50, 75), 0, 0, 360, (255, 0, 255))\n",
    "\n",
    "# 원점(50, 425), 반지름(50, 75), 회전 15도\n",
    "cv2.ellipse(img, (50, 425), (50, 75), 15, 0, 360, (0, 0, 0))\n",
    "# 원점(200, 425), 반지름(50, 75), 회전 45도\n",
    "cv2.ellipse(img, (200, 425), (50, 75), 45, 0, 360, (0, 0, 0))\n",
    "\n",
    "# 원점(350, 425), 홀쭉한 타원 45도 회전 후 아래 반원 그리기\n",
    "cv2.ellipse(img, (350, 425), (50, 75), 45, 0, 180, (0, 0, 255))\n",
    "# 원점(400, 425), 홀쭉한 타원 45도 회전 후 위 반원 그리기\n",
    "cv2.ellipse(img, (400, 425), (50, 75), 45, 181, 360, (255, 0, 0))"
   ]
  },
  {
   "cell_type": "code",
   "execution_count": 7,
   "id": "f8de6afe",
   "metadata": {},
   "outputs": [],
   "source": [
    "cv2.imshow('circle', img)\n",
    "cv2.waitKey(0)\n",
    "cv2.destroyAllWindows()"
   ]
  },
  {
   "cell_type": "code",
   "execution_count": null,
   "id": "a1ce60b1",
   "metadata": {},
   "outputs": [],
   "source": []
  }
 ],
 "metadata": {
  "kernelspec": {
   "display_name": "py3_8_5",
   "language": "python",
   "name": "py3_8_5"
  },
  "language_info": {
   "codemirror_mode": {
    "name": "ipython",
    "version": 3
   },
   "file_extension": ".py",
   "mimetype": "text/x-python",
   "name": "python",
   "nbconvert_exporter": "python",
   "pygments_lexer": "ipython3",
   "version": "3.8.5"
  }
 },
 "nbformat": 4,
 "nbformat_minor": 5
}
