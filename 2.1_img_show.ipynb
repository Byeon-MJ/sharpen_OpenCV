{
 "cells": [
  {
   "cell_type": "code",
   "execution_count": 1,
   "id": "4312c8dc",
   "metadata": {},
   "outputs": [],
   "source": [
    "import cv2"
   ]
  },
  {
   "cell_type": "code",
   "execution_count": 3,
   "id": "8086ba9c",
   "metadata": {},
   "outputs": [],
   "source": [
    "img_file = './img/girl.jpg'\n",
    "img = cv2.imread(img_file)"
   ]
  },
  {
   "cell_type": "code",
   "execution_count": 4,
   "id": "5d261a5e",
   "metadata": {},
   "outputs": [],
   "source": [
    "if img is not None:\n",
    "    cv2.imshow('IMG', img)\n",
    "    cv2.waitKey()\n",
    "    cv2.destroyAllWindows()\n",
    "else:\n",
    "    print('No image file.')"
   ]
  },
  {
   "cell_type": "code",
   "execution_count": null,
   "id": "e7e1d5ca",
   "metadata": {},
   "outputs": [],
   "source": []
  }
 ],
 "metadata": {
  "kernelspec": {
   "display_name": "py3_8_5",
   "language": "python",
   "name": "py3_8_5"
  },
  "language_info": {
   "codemirror_mode": {
    "name": "ipython",
    "version": 3
   },
   "file_extension": ".py",
   "mimetype": "text/x-python",
   "name": "python",
   "nbconvert_exporter": "python",
   "pygments_lexer": "ipython3",
   "version": "3.8.5"
  }
 },
 "nbformat": 4,
 "nbformat_minor": 5
}
