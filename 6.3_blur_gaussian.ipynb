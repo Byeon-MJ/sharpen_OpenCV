{
 "cells": [
  {
   "cell_type": "code",
   "execution_count": 1,
   "id": "7d9c616b",
   "metadata": {},
   "outputs": [],
   "source": [
    "import cv2\n",
    "import numpy as np"
   ]
  },
  {
   "cell_type": "code",
   "execution_count": 2,
   "id": "d41fcaab",
   "metadata": {},
   "outputs": [],
   "source": [
    "img = cv2.imread('./img/gaussian_noise.jpg')"
   ]
  },
  {
   "cell_type": "code",
   "execution_count": 3,
   "id": "068c9282",
   "metadata": {},
   "outputs": [],
   "source": [
    "# 가우시안 커널을 직접 생성해서 블러링\n",
    "k1 = np.array([[1, 2, 1],\n",
    "               [2, 4, 2],\n",
    "               [1, 2, 1]]) * (1/16)\n",
    "blur1 = cv2.filter2D(img, -1, k1)"
   ]
  },
  {
   "cell_type": "code",
   "execution_count": 4,
   "id": "0810a39c",
   "metadata": {},
   "outputs": [],
   "source": [
    "# 가우시안 커널을 API로 얻어서 블러링\n",
    "k2 = cv2.getGaussianKernel(3, 0)\n",
    "blur2 = cv2.filter2D(img, -1, k2*k2.T)"
   ]
  },
  {
   "cell_type": "code",
   "execution_count": 5,
   "id": "f2975256",
   "metadata": {},
   "outputs": [],
   "source": [
    "# 가우시안 블러 API로 블러링\n",
    "blur3 = cv2.GaussianBlur(img, (3, 3), 0)"
   ]
  },
  {
   "cell_type": "code",
   "execution_count": 7,
   "id": "bd2458f6",
   "metadata": {},
   "outputs": [
    {
     "name": "stdout",
     "output_type": "stream",
     "text": [
      "k1: [[0.0625 0.125  0.0625]\n",
      " [0.125  0.25   0.125 ]\n",
      " [0.0625 0.125  0.0625]]\n",
      "k2: [[0.0625 0.125  0.0625]\n",
      " [0.125  0.25   0.125 ]\n",
      " [0.0625 0.125  0.0625]]\n"
     ]
    }
   ],
   "source": [
    "# 결과 출력\n",
    "print('k1:', k1)\n",
    "print('k2:', k2*k2.T)\n",
    "\n",
    "merged = np.hstack((img, blur1, blur2, blur3))\n",
    "cv2.imshow('gaussian blur', merged)\n",
    "cv2.waitKey()\n",
    "cv2.destroyAllWindows()"
   ]
  },
  {
   "cell_type": "code",
   "execution_count": null,
   "id": "1c287d13",
   "metadata": {},
   "outputs": [],
   "source": []
  }
 ],
 "metadata": {
  "kernelspec": {
   "display_name": "py3_8_5",
   "language": "python",
   "name": "py3_8_5"
  },
  "language_info": {
   "codemirror_mode": {
    "name": "ipython",
    "version": 3
   },
   "file_extension": ".py",
   "mimetype": "text/x-python",
   "name": "python",
   "nbconvert_exporter": "python",
   "pygments_lexer": "ipython3",
   "version": "3.8.5"
  }
 },
 "nbformat": 4,
 "nbformat_minor": 5
}
