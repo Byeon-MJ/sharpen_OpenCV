{
 "cells": [
  {
   "cell_type": "code",
   "execution_count": 1,
   "id": "5f3792ea",
   "metadata": {},
   "outputs": [],
   "source": [
    "import cv2\n",
    "import numpy as np"
   ]
  },
  {
   "cell_type": "code",
   "execution_count": 2,
   "id": "736b5128",
   "metadata": {},
   "outputs": [],
   "source": [
    "# 연산에 사용할 배열 생성\n",
    "a = np. array([[1, 2]], dtype=np.uint8)\n",
    "b = np. array([[10, 20]], dtype=np.uint8)\n",
    "\n",
    "# 두 번째 요소가 0인 마스크 생성\n",
    "mask = np.array([[1, 0]], dtype=np.uint8)"
   ]
  },
  {
   "cell_type": "code",
   "execution_count": 3,
   "id": "8b4d16ee",
   "metadata": {},
   "outputs": [
    {
     "name": "stdout",
     "output_type": "stream",
     "text": [
      "[[11  0]]\n",
      "[[11 20]]\n"
     ]
    }
   ],
   "source": [
    "# 누적 할당과의 비교 연산\n",
    "c1 = cv2.add(a, b, None, mask)\n",
    "print(c1)\n",
    "c2 = cv2.add(a, b, b, mask)\n",
    "print(c2)"
   ]
  },
  {
   "cell_type": "code",
   "execution_count": null,
   "id": "870ce59b",
   "metadata": {},
   "outputs": [],
   "source": []
  }
 ],
 "metadata": {
  "kernelspec": {
   "display_name": "py3_8_5",
   "language": "python",
   "name": "py3_8_5"
  },
  "language_info": {
   "codemirror_mode": {
    "name": "ipython",
    "version": 3
   },
   "file_extension": ".py",
   "mimetype": "text/x-python",
   "name": "python",
   "nbconvert_exporter": "python",
   "pygments_lexer": "ipython3",
   "version": "3.8.5"
  }
 },
 "nbformat": 4,
 "nbformat_minor": 5
}
