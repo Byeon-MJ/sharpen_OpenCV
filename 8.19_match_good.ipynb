{
 "cells": [
  {
   "cell_type": "code",
   "execution_count": 25,
   "id": "bc65517c",
   "metadata": {},
   "outputs": [],
   "source": [
    "import cv2\n",
    "import numpy as np"
   ]
  },
  {
   "cell_type": "code",
   "execution_count": 26,
   "id": "1d84808b",
   "metadata": {},
   "outputs": [],
   "source": [
    "img1 = cv2.imread('./img/taekwonv1.jpg')\n",
    "img2 = cv2.imread('./img/figures.jpg')\n",
    "gray1 = cv2.cvtColor(img1, cv2.COLOR_BGR2GRAY)\n",
    "gray2 = cv2.cvtColor(img2, cv2.COLOR_BGR2GRAY)"
   ]
  },
  {
   "cell_type": "code",
   "execution_count": 27,
   "id": "f02ef77d",
   "metadata": {},
   "outputs": [],
   "source": [
    "# ORB로 디스크립터 추출\n",
    "detector = cv2.ORB_create()\n",
    "kp1, desc1 = detector.detectAndCompute(gray1, None)\n",
    "kp2, desc2 = detector.detectAndCompute(gray2, None)"
   ]
  },
  {
   "cell_type": "code",
   "execution_count": 28,
   "id": "9ffeb4c0",
   "metadata": {},
   "outputs": [],
   "source": [
    "# BF-Hamming으로 매칭\n",
    "matcher = cv2.BFMatcher(cv2.NORM_HAMMING, crossCheck=True)\n",
    "matches = matcher.match(desc1, desc2)"
   ]
  },
  {
   "cell_type": "code",
   "execution_count": 29,
   "id": "f382092f",
   "metadata": {},
   "outputs": [],
   "source": [
    "# 매칭 결과를 거리 기준 오름차순으로 정렬\n",
    "matches = sorted(matches, key=lambda x:x.distance)\n",
    "\n",
    "# 최소 거리값과 최대 거리값 확보\n",
    "min_dist, max_dist = matches[0].distance, matches[-1].distance"
   ]
  },
  {
   "cell_type": "code",
   "execution_count": 30,
   "id": "78330778",
   "metadata": {},
   "outputs": [],
   "source": [
    "# 최소 거리의 20% 지점을 임계점으로 설정\n",
    "ratio = 0.2\n",
    "good_thresh = (max_dist - min_dist) * ratio + min_dist"
   ]
  },
  {
   "cell_type": "code",
   "execution_count": 31,
   "id": "e6597d15",
   "metadata": {},
   "outputs": [
    {
     "name": "stdout",
     "output_type": "stream",
     "text": [
      "matches:18/127, min:24.00, max:78.00, thresh:34.80\n"
     ]
    }
   ],
   "source": [
    "# 임계점보다 작은 매칭점만 좋은 매칭점으로 분류\n",
    "good_matches = [m for m in matches if m.distance < good_thresh]\n",
    "print(f'matches:{len(good_matches):d}/{len(matches):d}, min:{min_dist:.2f}, max:{max_dist:.2f}, thresh:{good_thresh:.2f}')"
   ]
  },
  {
   "cell_type": "code",
   "execution_count": 32,
   "id": "bc239200",
   "metadata": {},
   "outputs": [],
   "source": [
    "# 좋은 매칭점만 그리기\n",
    "res = cv2.drawMatches(img1, kp1, img2, kp2, good_matches, None,\n",
    "                     flags=cv2.DRAW_MATCHES_FLAGS_NOT_DRAW_SINGLE_POINTS)"
   ]
  },
  {
   "cell_type": "code",
   "execution_count": 24,
   "id": "c8136850",
   "metadata": {},
   "outputs": [],
   "source": [
    "# 결과 출력\n",
    "cv2.imshow('Good Match', res)\n",
    "cv2.waitKey()\n",
    "cv2.destroyAllWindows()"
   ]
  },
  {
   "cell_type": "code",
   "execution_count": null,
   "id": "bff507c4",
   "metadata": {},
   "outputs": [],
   "source": []
  }
 ],
 "metadata": {
  "kernelspec": {
   "display_name": "Python 3 (ipykernel)",
   "language": "python",
   "name": "python3"
  },
  "language_info": {
   "codemirror_mode": {
    "name": "ipython",
    "version": 3
   },
   "file_extension": ".py",
   "mimetype": "text/x-python",
   "name": "python",
   "nbconvert_exporter": "python",
   "pygments_lexer": "ipython3",
   "version": "3.8.10"
  }
 },
 "nbformat": 4,
 "nbformat_minor": 5
}
