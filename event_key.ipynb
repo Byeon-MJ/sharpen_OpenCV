{
 "cells": [
  {
   "cell_type": "code",
   "execution_count": 1,
   "id": "fb77da79",
   "metadata": {},
   "outputs": [],
   "source": [
    "import cv2"
   ]
  },
  {
   "cell_type": "code",
   "execution_count": 2,
   "id": "3dc659c8",
   "metadata": {},
   "outputs": [],
   "source": [
    "img_file = './img/girl.jpg'\n",
    "img = cv2.imread(img_file)\n",
    "title = 'IMG'\n",
    "x, y = 100, 100"
   ]
  },
  {
   "cell_type": "code",
   "execution_count": 4,
   "id": "de8f6a61",
   "metadata": {},
   "outputs": [
    {
     "name": "stdout",
     "output_type": "stream",
     "text": [
      "107 k\n",
      "107 k\n",
      "107 k\n",
      "108 l\n",
      "106 j\n",
      "108 l\n",
      "107 k\n",
      "106 j\n",
      "106 j\n",
      "106 j\n",
      "106 j\n",
      "106 j\n",
      "27 \u001b\n"
     ]
    }
   ],
   "source": [
    "while True:\n",
    "    if img is not None:\n",
    "        cv2.imshow(title, img)\n",
    "        cv2.moveWindow(title, x, y)\n",
    "        \n",
    "        key = cv2.waitKey(0) & 0xFF  # 키보드 입력 무한대기, 8비트 마스크 처리\n",
    "        print(key, chr(key))\n",
    "        \n",
    "        if key == ord('h'):\n",
    "            x -= 10\n",
    "        elif key == ord('j'):\n",
    "            y += 10\n",
    "        elif key == ord('k'):\n",
    "            y -= 10\n",
    "        elif key == ord('l'):\n",
    "            x += 10\n",
    "        elif key == ord('q') or key == 27:  # 'q'이거나 'esc'이면 종료\n",
    "            cv2.destroyAllWindows()\n",
    "            break\n",
    "    \n",
    "        cv2.moveWindow(title, x, y)   # 새로운 좌표로 창 이동\n",
    "        \n",
    "        "
   ]
  },
  {
   "cell_type": "code",
   "execution_count": null,
   "id": "9d8ba608",
   "metadata": {},
   "outputs": [],
   "source": []
  }
 ],
 "metadata": {
  "kernelspec": {
   "display_name": "py3_8_5",
   "language": "python",
   "name": "py3_8_5"
  },
  "language_info": {
   "codemirror_mode": {
    "name": "ipython",
    "version": 3
   },
   "file_extension": ".py",
   "mimetype": "text/x-python",
   "name": "python",
   "nbconvert_exporter": "python",
   "pygments_lexer": "ipython3",
   "version": "3.8.5"
  }
 },
 "nbformat": 4,
 "nbformat_minor": 5
}
