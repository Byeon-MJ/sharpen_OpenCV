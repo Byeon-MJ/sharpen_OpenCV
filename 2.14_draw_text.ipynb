{
 "cells": [
  {
   "cell_type": "code",
   "execution_count": 2,
   "id": "2e4dc18f",
   "metadata": {},
   "outputs": [],
   "source": [
    "import cv2"
   ]
  },
  {
   "cell_type": "code",
   "execution_count": 3,
   "id": "aa80e339",
   "metadata": {},
   "outputs": [],
   "source": [
    "img = cv2.imread('./img/blank_500.jpg')"
   ]
  },
  {
   "cell_type": "code",
   "execution_count": 4,
   "id": "f77201eb",
   "metadata": {},
   "outputs": [
    {
     "data": {
      "text/plain": [
       "array([[[255, 255, 255],\n",
       "        [255, 255, 255],\n",
       "        [255, 255, 255],\n",
       "        ...,\n",
       "        [255, 255, 255],\n",
       "        [255, 255, 255],\n",
       "        [255, 255, 255]],\n",
       "\n",
       "       [[255, 255, 255],\n",
       "        [255, 255, 255],\n",
       "        [255, 255, 255],\n",
       "        ...,\n",
       "        [255, 255, 255],\n",
       "        [255, 255, 255],\n",
       "        [255, 255, 255]],\n",
       "\n",
       "       [[255, 255, 255],\n",
       "        [255, 255, 255],\n",
       "        [255, 255, 255],\n",
       "        ...,\n",
       "        [255, 255, 255],\n",
       "        [255, 255, 255],\n",
       "        [255, 255, 255]],\n",
       "\n",
       "       ...,\n",
       "\n",
       "       [[255, 255, 255],\n",
       "        [255, 255, 255],\n",
       "        [255, 255, 255],\n",
       "        ...,\n",
       "        [255, 255, 255],\n",
       "        [255, 255, 255],\n",
       "        [255, 255, 255]],\n",
       "\n",
       "       [[255, 255, 255],\n",
       "        [255, 255, 255],\n",
       "        [255, 255, 255],\n",
       "        ...,\n",
       "        [255, 255, 255],\n",
       "        [255, 255, 255],\n",
       "        [255, 255, 255]],\n",
       "\n",
       "       [[255, 255, 255],\n",
       "        [255, 255, 255],\n",
       "        [255, 255, 255],\n",
       "        ...,\n",
       "        [255, 255, 255],\n",
       "        [255, 255, 255],\n",
       "        [255, 255, 255]]], dtype=uint8)"
      ]
     },
     "execution_count": 4,
     "metadata": {},
     "output_type": "execute_result"
    }
   ],
   "source": [
    "# sans-serif small\n",
    "cv2.putText(img, 'Plain', (50, 30), cv2.FONT_HERSHEY_PLAIN, 1, (0, 0, 0))\n",
    "# sans-serif normal\n",
    "cv2.putText(img, 'Simplex', (50, 70), cv2.FONT_HERSHEY_SIMPLEX, 1, (0, 0, 0))\n",
    "# sans-serif bold\n",
    "cv2.putText(img, 'Duplex', (50, 110), cv2.FONT_HERSHEY_DUPLEX, 1, (0, 0, 0))\n",
    "# sans-serif normal X2\n",
    "cv2.putText(img, 'Simplex', (200, 110), cv2.FONT_HERSHEY_SIMPLEX, 2, (0, 0, 250))\n",
    "\n",
    "# serif small\n",
    "cv2.putText(img, 'Complex Small', (50, 180), cv2.FONT_HERSHEY_COMPLEX_SMALL, 1, (0, 0, 0))\n",
    "# serif normal\n",
    "cv2.putText(img, 'Complex', (50, 220), cv2.FONT_HERSHEY_COMPLEX, 1, (0, 0, 0))\n",
    "# serif bold\n",
    "cv2.putText(img, 'Triplex', (50, 260), cv2.FONT_HERSHEY_TRIPLEX, 1, (0, 0, 0))\n",
    "# serif normal X2\n",
    "cv2.putText(img, 'Complex', (200, 260), cv2.FONT_HERSHEY_COMPLEX, 2, (0, 0, 255))\n",
    "\n",
    "# hand_written sans-serif\n",
    "cv2.putText(img, 'Script Simplex', (50, 330), cv2.FONT_HERSHEY_SCRIPT_SIMPLEX, 1, (0, 0, 0))\n",
    "# hand_written serif\n",
    "cv2.putText(img, 'Script Complex', (50, 370), cv2.FONT_HERSHEY_SCRIPT_COMPLEX, 1, (0, 0, 0))\n",
    "\n",
    "# sans-serif + italic\n",
    "cv2.putText(img, 'Plain Italic', (50, 430), cv2.FONT_HERSHEY_PLAIN | cv2.FONT_ITALIC, 1, (0, 0, 0))\n",
    "# serif + italic\n",
    "cv2.putText(img, 'Complex Italic', (50, 470), cv2.FONT_HERSHEY_COMPLEX | cv2.FONT_ITALIC, 1, (0, 0, 0))"
   ]
  },
  {
   "cell_type": "code",
   "execution_count": null,
   "id": "b136f341",
   "metadata": {},
   "outputs": [],
   "source": [
    "cv2.imshow('draw text', img)"
   ]
  }
 ],
 "metadata": {
  "kernelspec": {
   "display_name": "py3_8_5",
   "language": "python",
   "name": "py3_8_5"
  },
  "language_info": {
   "codemirror_mode": {
    "name": "ipython",
    "version": 3
   },
   "file_extension": ".py",
   "mimetype": "text/x-python",
   "name": "python",
   "nbconvert_exporter": "python",
   "pygments_lexer": "ipython3",
   "version": "3.8.5"
  }
 },
 "nbformat": 4,
 "nbformat_minor": 5
}
