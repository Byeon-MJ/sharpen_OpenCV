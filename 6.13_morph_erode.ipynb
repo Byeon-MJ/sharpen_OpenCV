{
 "cells": [
  {
   "cell_type": "code",
   "execution_count": 1,
   "id": "69e0b1d7",
   "metadata": {},
   "outputs": [],
   "source": [
    "import cv2\n",
    "import numpy as np"
   ]
  },
  {
   "cell_type": "code",
   "execution_count": 2,
   "id": "1ddc6098",
   "metadata": {},
   "outputs": [],
   "source": [
    "img = cv2.imread('./img/morph_dot.png')"
   ]
  },
  {
   "cell_type": "code",
   "execution_count": 3,
   "id": "d7c43089",
   "metadata": {},
   "outputs": [],
   "source": [
    "# Structuring element kernel, Create Rectangle(3 x 3)\n",
    "k = cv2.getStructuringElement(cv2.MORPH_RECT, (3, 3))\n",
    "\n",
    "# Apply Erosion\n",
    "erosion = cv2.erode(img, k)"
   ]
  },
  {
   "cell_type": "code",
   "execution_count": 4,
   "id": "841a4470",
   "metadata": {},
   "outputs": [],
   "source": [
    "# Output Result\n",
    "merged = np.hstack((img, erosion))\n",
    "cv2.imshow('Erode', merged)\n",
    "cv2.waitKey()\n",
    "cv2.destroyAllWindows()"
   ]
  },
  {
   "cell_type": "code",
   "execution_count": null,
   "id": "32f4dc90",
   "metadata": {},
   "outputs": [],
   "source": []
  }
 ],
 "metadata": {
  "kernelspec": {
   "display_name": "py3_8_5",
   "language": "python",
   "name": "py3_8_5"
  },
  "language_info": {
   "codemirror_mode": {
    "name": "ipython",
    "version": 3
   },
   "file_extension": ".py",
   "mimetype": "text/x-python",
   "name": "python",
   "nbconvert_exporter": "python",
   "pygments_lexer": "ipython3",
   "version": "3.8.5"
  }
 },
 "nbformat": 4,
 "nbformat_minor": 5
}
