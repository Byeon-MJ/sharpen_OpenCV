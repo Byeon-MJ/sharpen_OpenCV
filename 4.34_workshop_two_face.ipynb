{
 "cells": [
  {
   "cell_type": "code",
   "execution_count": 1,
   "id": "1e3306df",
   "metadata": {},
   "outputs": [],
   "source": [
    "import cv2\n",
    "import numpy as np"
   ]
  },
  {
   "cell_type": "code",
   "execution_count": 2,
   "id": "109d0833",
   "metadata": {},
   "outputs": [],
   "source": [
    "# 영상의 15%를 알파 블렌딩의 범위로 지정\n",
    "alpha_width_rate = 15\n",
    "\n",
    "# 합성할 이미지 읽기\n",
    "img_face = cv2.imread('./img/man_face.jpg')\n",
    "img_skull = cv2.imread('./img/skull.jpg')\n",
    "\n",
    "# 입력 영상과 같은 크기의 결과 영상 준비\n",
    "img_comp = np.zeros_like(img_face)"
   ]
  },
  {
   "cell_type": "code",
   "execution_count": 3,
   "id": "82088726",
   "metadata": {},
   "outputs": [],
   "source": [
    "# 연산에 필요한 좌표 계산\n",
    "height, width = img_face.shape[:2]\n",
    "middle = width//2                               # 영상의 중앙 좌표\n",
    "alpha_width = width * alpha_width_rate // 100   # 알파 블렌딩 범위\n",
    "start = middle - alpha_width//2                 # 알파 블렌딩 시작 지점\n",
    "step = 100/alpha_width                          # 알파 값 간격"
   ]
  },
  {
   "cell_type": "code",
   "execution_count": 5,
   "id": "1e630aaa",
   "metadata": {},
   "outputs": [],
   "source": [
    "# 입력 영상의 절반씩 복사해서 결과 영상에 합성\n",
    "img_comp[:, :middle, : ] = img_face[:, :middle, :].copy()\n",
    "img_comp[:, middle:, :] = img_skull[:, middle:, :].copy()\n",
    "cv2.imshow('half', img_comp)\n",
    "\n",
    "# 알파 값을 바꾸면서 알파 블렌딩 적용\n",
    "for i in range(alpha_width+1):\n",
    "    alpha = (100 - step * i) / 100   # 증감 간격에 따른 알파 값(1~0)\n",
    "    beta = 1 - alpha                 # 베타 값(0~1)\n",
    "    # 알파 블렌딩 적용\n",
    "    img_comp[:, start+i] = img_face[:, start+i] * alpha + img_skull[:, start+i] * beta\n",
    "#     print(i, alpha, beta)\n",
    "    \n",
    "cv2.imshow('half skull', img_comp)\n",
    "cv2.waitKey()\n",
    "cv2.destroyAllWindows()"
   ]
  },
  {
   "cell_type": "code",
   "execution_count": null,
   "id": "86114940",
   "metadata": {},
   "outputs": [],
   "source": []
  }
 ],
 "metadata": {
  "kernelspec": {
   "display_name": "py3_8_5",
   "language": "python",
   "name": "py3_8_5"
  },
  "language_info": {
   "codemirror_mode": {
    "name": "ipython",
    "version": 3
   },
   "file_extension": ".py",
   "mimetype": "text/x-python",
   "name": "python",
   "nbconvert_exporter": "python",
   "pygments_lexer": "ipython3",
   "version": "3.8.5"
  }
 },
 "nbformat": 4,
 "nbformat_minor": 5
}
