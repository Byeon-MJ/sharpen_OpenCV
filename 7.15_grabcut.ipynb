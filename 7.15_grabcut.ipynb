{
 "cells": [
  {
   "cell_type": "code",
   "execution_count": 41,
   "id": "1b380c2f",
   "metadata": {},
   "outputs": [],
   "source": [
    "import cv2\n",
    "import numpy as np"
   ]
  },
  {
   "cell_type": "code",
   "execution_count": 42,
   "id": "307d4b4e",
   "metadata": {},
   "outputs": [],
   "source": [
    "img = cv2.imread('./img/taekwonv1.jpg')\n",
    "img_draw = img.copy()\n",
    "# Create mask\n",
    "mask = np.zeros(img.shape[:2], dtype=np.uint8)\n",
    "# Initialize coordinates of a rectangular area\n",
    "rect = [0, 0, 0, 0]\n",
    "# Grabcut initial mode\n",
    "mode = cv2.GC_EVAL"
   ]
  },
  {
   "cell_type": "code",
   "execution_count": 43,
   "id": "e48dd587",
   "metadata": {},
   "outputs": [],
   "source": [
    "# Background and foreground model buffer\n",
    "bgdmodel = np.zeros((1, 65), np.float64)\n",
    "fgdmodel = np.zeros((1, 65), np.float64)"
   ]
  },
  {
   "cell_type": "code",
   "execution_count": 44,
   "id": "d4d1310e",
   "metadata": {},
   "outputs": [],
   "source": [
    "# Mouse event handling function\n",
    "def onMouse(event, x, y, flags, param):\n",
    "    global mouse_mode, rect, mask, mode\n",
    "    if event == cv2.EVENT_LBUTTONDOWN:\n",
    "        if flags <= 1:                      # If do not press any key\n",
    "            mode = cv2.GC_INIT_WITH_RECT    # Starting drag, rectangle mode\n",
    "            rect[:2] = x, y                 # Save starting coordinates\n",
    "    elif event == cv2.EVENT_MOUSEMOVE and flags & cv2.EVENT_FLAG_LBUTTON:\n",
    "        if mode == cv2.GC_INIT_WITH_RECT:   # Dragging in progress\n",
    "            img_temp = img.copy()\n",
    "            # Display a drag rectangle\n",
    "            cv2.rectangle(img_temp, (rect[0], rect[1]), (x, y), (0, 255, 0), 2)\n",
    "            cv2.imshow('img', img_temp)\n",
    "        elif flags > 1:                             # Pressed state of a key\n",
    "            mode = cv2.GC_INIT_WITH_MASK            # mask mode\n",
    "            if flags & cv2.EVENT_FLAG_CTRLKEY:      # Ctrl key, definitely foreground\n",
    "                # Display white dots on the screen\n",
    "                cv2.circle(img_draw, (x, y), 3, (255, 255, 255), -1)\n",
    "                # Fill the mask with GC_FGD\n",
    "                cv2.circle(mask, (x, y), 3, cv2.GC_FGD, -1)\n",
    "            if flags & cv2.EVENT_FLAG_SHIFTKEY:     # Shift key, definitely background\n",
    "                # Display black dots on the screen\n",
    "                cv2.circle(img_draw, (x, y), 3, (0, 0, 0), -1)\n",
    "                # Fill the mask with GC_BGD\n",
    "                cv2.circle(mask, (x, y), 3, cv2.GC_BGD, -1)\n",
    "            cv2.imshow('img', img_draw)    # Display drawn image\n",
    "    elif event == cv2.EVENT_LBUTTONUP:\n",
    "        if mode == cv2.GC_INIT_WITH_RECT:\n",
    "            rect[2:] = x, y            # Collect the last coordinate of a rectangle\n",
    "            # Draw rectangle and dispay it\n",
    "            cv2.rectangle(img_draw, (rect[0], rect[1]), (x, y), (255, 0, 0), 2)\n",
    "            cv2.imshow('img', img_draw)\n",
    "        # Apply grabcut\n",
    "        cv2.grabCut(img, mask, tuple(rect), bgdmodel, fgdmodel, 1, mode)\n",
    "        img2 = img.copy()\n",
    "        # Fill the area marked as 'definitely background' and 'probably background' with 0 on the mask\n",
    "        img2[(mask==cv2.GC_BGD) | (mask==cv2.GC_PR_BGD)] = 0\n",
    "        cv2.imshow('grabcut', img2)    # Print final result\n",
    "        mode = cv2.GC_EVAL             # Reset grabcut mode"
   ]
  },
  {
   "cell_type": "code",
   "execution_count": 45,
   "id": "623c2d4a",
   "metadata": {},
   "outputs": [],
   "source": [
    "# Display initial screen and register mouse events\n",
    "cv2.imshow('img', img)\n",
    "cv2.setMouseCallback('img', onMouse)\n",
    "while True:\n",
    "    if cv2.waitKey() & 0xFF == 27:\n",
    "        break\n",
    "cv2.destroyAllWindows()"
   ]
  },
  {
   "cell_type": "code",
   "execution_count": null,
   "id": "7ceee958",
   "metadata": {},
   "outputs": [],
   "source": []
  }
 ],
 "metadata": {
  "kernelspec": {
   "display_name": "py3_8_5",
   "language": "python",
   "name": "py3_8_5"
  },
  "language_info": {
   "codemirror_mode": {
    "name": "ipython",
    "version": 3
   },
   "file_extension": ".py",
   "mimetype": "text/x-python",
   "name": "python",
   "nbconvert_exporter": "python",
   "pygments_lexer": "ipython3",
   "version": "3.8.5"
  }
 },
 "nbformat": 4,
 "nbformat_minor": 5
}
