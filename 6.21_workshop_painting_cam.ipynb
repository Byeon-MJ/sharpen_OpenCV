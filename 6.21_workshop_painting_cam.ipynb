{
 "cells": [
  {
   "cell_type": "code",
   "execution_count": 1,
   "id": "774d62c9",
   "metadata": {},
   "outputs": [],
   "source": [
    "import cv2\n",
    "import numpy as np"
   ]
  },
  {
   "cell_type": "code",
   "execution_count": 10,
   "id": "369ea594",
   "metadata": {},
   "outputs": [],
   "source": [
    "# connect camera device\n",
    "cap = cv2.VideoCapture(0)\n",
    "while cap.isOpened():\n",
    "    # read frame\n",
    "    ret, frame = cap.read()\n",
    "    # reduce video size by half to increase speed\n",
    "    frame = cv2.resize(frame, None, fx=0.5, fy=0.5,\n",
    "                       interpolation=cv2.INTER_AREA)\n",
    "    \n",
    "    if cv2.waitKey(1) == 27:\n",
    "        break\n",
    "    \n",
    "    # convert to gray scale\n",
    "    img_gray = cv2.cvtColor(frame, cv2.COLOR_BGR2GRAY)\n",
    "    # apply Gaussian blur filter to remove noise(essential before applying Laplacian filter)\n",
    "    img_gray = cv2.GaussianBlur(img_gray, (9, 9), 0)\n",
    "    # edge detection using a Laplacian filter\n",
    "    edges = cv2.Laplacian(img_gray, -1, None, 5)\n",
    "    # using threshold to keep only boundary value and inverting the screen (white background black lines)\n",
    "    ret, sketch = cv2.threshold(edges, 10, 255, cv2.THRESH_BINARY_INV)\n",
    "    \n",
    "    # dilatation operation to emphasize borderlines\n",
    "    kernel = cv2.getStructuringElement(cv2.MORPH_CROSS, (3, 3))\n",
    "    sketch = cv2.dilate(sketch, kernel)\n",
    "    # apply median blur filter to achieve a natural border\n",
    "    sketch = cv2.medianBlur(sketch, 5)\n",
    "    # convert from gray scale to BGR color scale\n",
    "    img_sketch = cv2.cvtColor(sketch, cv2.COLOR_GRAY2BGR)\n",
    "    # apply average blur filter to remove color image sharpness\n",
    "    img_paint = cv2.blur(frame, (10, 10))\n",
    "    \n",
    "    # combining color image and sketch image\n",
    "    img_paint = cv2.bitwise_and(img_paint, img_paint, mask=sketch)\n",
    "    # output result\n",
    "    merged = np.hstack((img_sketch, img_paint))\n",
    "    cv2.imshow('Sketch Camera', merged)\n",
    "    \n",
    "cap.release()\n",
    "cv2.destroyAllWindows()"
   ]
  },
  {
   "cell_type": "code",
   "execution_count": null,
   "id": "0ea46660",
   "metadata": {},
   "outputs": [],
   "source": []
  }
 ],
 "metadata": {
  "kernelspec": {
   "display_name": "py3_8_5",
   "language": "python",
   "name": "py3_8_5"
  },
  "language_info": {
   "codemirror_mode": {
    "name": "ipython",
    "version": 3
   },
   "file_extension": ".py",
   "mimetype": "text/x-python",
   "name": "python",
   "nbconvert_exporter": "python",
   "pygments_lexer": "ipython3",
   "version": "3.8.5"
  }
 },
 "nbformat": 4,
 "nbformat_minor": 5
}
