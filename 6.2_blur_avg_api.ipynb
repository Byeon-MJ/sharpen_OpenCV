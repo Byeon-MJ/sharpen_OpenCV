{
 "cells": [
  {
   "cell_type": "code",
   "execution_count": 1,
   "id": "80ca9932",
   "metadata": {},
   "outputs": [],
   "source": [
    "import cv2\n",
    "import numpy as np"
   ]
  },
  {
   "cell_type": "code",
   "execution_count": 2,
   "id": "8381220d",
   "metadata": {},
   "outputs": [],
   "source": [
    "file_name = './img/taekwonv1.jpg'\n",
    "img = cv2.imread(file_name)"
   ]
  },
  {
   "cell_type": "code",
   "execution_count": 11,
   "id": "5cd59528",
   "metadata": {},
   "outputs": [],
   "source": [
    "# blur() 함수로 블러링\n",
    "blur1 = cv2.blur(img, (10, 10))\n",
    "\n",
    "# boxFilter() 함수로 블러링 적용\n",
    "blur2 = cv2.boxFilter(img, -1, (10, 10))"
   ]
  },
  {
   "cell_type": "code",
   "execution_count": 12,
   "id": "4cef17b1",
   "metadata": {},
   "outputs": [],
   "source": [
    "# 결과 출력\n",
    "merged = np.hstack((img, blur1, blur2))\n",
    "cv2.imshow('blur', merged)\n",
    "cv2.waitKey()\n",
    "cv2.destroyAllWindows()"
   ]
  },
  {
   "cell_type": "code",
   "execution_count": null,
   "id": "ea04ed0e",
   "metadata": {},
   "outputs": [],
   "source": []
  }
 ],
 "metadata": {
  "kernelspec": {
   "display_name": "py3_8_5",
   "language": "python",
   "name": "py3_8_5"
  },
  "language_info": {
   "codemirror_mode": {
    "name": "ipython",
    "version": 3
   },
   "file_extension": ".py",
   "mimetype": "text/x-python",
   "name": "python",
   "nbconvert_exporter": "python",
   "pygments_lexer": "ipython3",
   "version": "3.8.5"
  }
 },
 "nbformat": 4,
 "nbformat_minor": 5
}
