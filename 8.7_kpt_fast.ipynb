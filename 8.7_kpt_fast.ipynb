{
 "cells": [
  {
   "cell_type": "code",
   "execution_count": 1,
   "id": "6ec096fc",
   "metadata": {},
   "outputs": [],
   "source": [
    "import cv2\n",
    "import numpy as np"
   ]
  },
  {
   "cell_type": "code",
   "execution_count": 2,
   "id": "1909a397",
   "metadata": {},
   "outputs": [],
   "source": [
    "img = cv2.imread('./img/house.jpg')\n",
    "gray = cv2.cvtColor(img, cv2.COLOR_BGR2GRAY)"
   ]
  },
  {
   "cell_type": "code",
   "execution_count": 3,
   "id": "9d820d4f",
   "metadata": {},
   "outputs": [],
   "source": [
    "# FAST 특징 검출기 생성\n",
    "fast = cv2.FastFeatureDetector_create(50)\n",
    "\n",
    "# 키 포인트 검출\n",
    "keypoints = fast.detect(gray, None)\n",
    "\n",
    "# 키 포인트 그리기\n",
    "img = cv2.drawKeypoints(img, keypoints, None)"
   ]
  },
  {
   "cell_type": "code",
   "execution_count": 4,
   "id": "959d3faa",
   "metadata": {},
   "outputs": [],
   "source": [
    "# 결과 출력\n",
    "cv2.imshow('FAST', img)\n",
    "cv2.waitKey()\n",
    "cv2.destroyAllWindows()"
   ]
  },
  {
   "cell_type": "code",
   "execution_count": null,
   "id": "62e31e21",
   "metadata": {},
   "outputs": [],
   "source": []
  }
 ],
 "metadata": {
  "kernelspec": {
   "display_name": "Python 3 (ipykernel)",
   "language": "python",
   "name": "python3"
  },
  "language_info": {
   "codemirror_mode": {
    "name": "ipython",
    "version": 3
   },
   "file_extension": ".py",
   "mimetype": "text/x-python",
   "name": "python",
   "nbconvert_exporter": "python",
   "pygments_lexer": "ipython3",
   "version": "3.8.10"
  }
 },
 "nbformat": 4,
 "nbformat_minor": 5
}
