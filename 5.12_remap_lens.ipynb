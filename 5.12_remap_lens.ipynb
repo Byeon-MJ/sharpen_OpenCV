{
 "cells": [
  {
   "cell_type": "code",
   "execution_count": 1,
   "id": "557c30d2",
   "metadata": {},
   "outputs": [],
   "source": [
    "import cv2\n",
    "import numpy as np"
   ]
  },
  {
   "cell_type": "code",
   "execution_count": 18,
   "id": "bc00ba80",
   "metadata": {},
   "outputs": [],
   "source": [
    "img = cv2.imread('./img/taekwonv1.jpg')\n",
    "rows, cols = img.shape[:2]"
   ]
  },
  {
   "cell_type": "code",
   "execution_count": 19,
   "id": "6dee8a27",
   "metadata": {},
   "outputs": [],
   "source": [
    "# 설정값 세팅\n",
    "exp = 0.5    # 볼록, 오목 지수(오목 : 0.1 ~ 1, 볼록 : 1.1 ~)\n",
    "exp2 = 1.5\n",
    "scale = 1    # 변환 영역 크기(0 ~ 1)"
   ]
  },
  {
   "cell_type": "code",
   "execution_count": 20,
   "id": "d8447ba7",
   "metadata": {},
   "outputs": [],
   "source": [
    "# 매핑 배열 생성\n",
    "mapy, mapx = np.indices((rows, cols), dtype=np.float32)"
   ]
  },
  {
   "cell_type": "code",
   "execution_count": 21,
   "id": "f00dd0d2",
   "metadata": {},
   "outputs": [],
   "source": [
    "# 좌상단 기준좌표에서 -1 ~ 1로 정규화된 중심점 기준 좌표로 변경\n",
    "mapx = 2*mapx/(cols - 1) - 1\n",
    "mapy = 2*mapy/(rows - 1) - 1\n",
    "\n",
    "# 직교좌표를 극좌표로 변환\n",
    "r, theta = cv2.cartToPolar(mapx, mapy)\n",
    "r2, theta2 = cv2.cartToPolar(mapx, mapy)"
   ]
  },
  {
   "cell_type": "code",
   "execution_count": 22,
   "id": "7e5e6bbf",
   "metadata": {},
   "outputs": [],
   "source": [
    "# 왜곡 영역만 중심 확대/축소 지수 적용\n",
    "r[r<scale] = r[r<scale] ** exp\n",
    "r2[r2<scale] = r2[r2<scale] ** exp2"
   ]
  },
  {
   "cell_type": "code",
   "execution_count": 23,
   "id": "82525a28",
   "metadata": {},
   "outputs": [],
   "source": [
    "# 극좌표를 직교좌표로 변환\n",
    "mapx, mapy = cv2.polarToCart(r, theta)\n",
    "mapx2, mapy2 = cv2.polarToCart(r2, theta)"
   ]
  },
  {
   "cell_type": "code",
   "execution_count": 24,
   "id": "469a9d64",
   "metadata": {},
   "outputs": [],
   "source": [
    "# 중심점 기준에서 좌상단 기준으로 변경\n",
    "mapx = ((mapx + 1) * cols - 1)/2\n",
    "mapy = ((mapy + 1) * rows - 1)/2\n",
    "\n",
    "mapx2 = ((mapx2 + 1) * cols - 1)/2\n",
    "mapy2 = ((mapy2 + 1) * rows - 1)/2"
   ]
  },
  {
   "cell_type": "code",
   "execution_count": 25,
   "id": "64c16421",
   "metadata": {},
   "outputs": [],
   "source": [
    "# 리매핑 변환\n",
    "distorted = cv2.remap(img, mapx, mapy, cv2.INTER_LINEAR)\n",
    "distorted2 = cv2.remap(img, mapx2, mapy2, cv2.INTER_LINEAR)"
   ]
  },
  {
   "cell_type": "code",
   "execution_count": 26,
   "id": "3969ad6c",
   "metadata": {},
   "outputs": [],
   "source": [
    "# 결과 출력\n",
    "cv2.imshow('origin', img)\n",
    "cv2.imshow('distorted', distorted)\n",
    "cv2.imshow('distorted2', distorted2)\n",
    "cv2.waitKey()\n",
    "cv2.destroyAllWindows()"
   ]
  },
  {
   "cell_type": "code",
   "execution_count": null,
   "id": "a4bb3bfd",
   "metadata": {},
   "outputs": [],
   "source": []
  }
 ],
 "metadata": {
  "kernelspec": {
   "display_name": "py3_8_5",
   "language": "python",
   "name": "py3_8_5"
  },
  "language_info": {
   "codemirror_mode": {
    "name": "ipython",
    "version": 3
   },
   "file_extension": ".py",
   "mimetype": "text/x-python",
   "name": "python",
   "nbconvert_exporter": "python",
   "pygments_lexer": "ipython3",
   "version": "3.8.5"
  }
 },
 "nbformat": 4,
 "nbformat_minor": 5
}
