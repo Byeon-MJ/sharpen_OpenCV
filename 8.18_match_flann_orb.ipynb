{
 "cells": [
  {
   "cell_type": "code",
   "execution_count": 1,
   "id": "caee4b5c",
   "metadata": {},
   "outputs": [],
   "source": [
    "import cv2\n",
    "import numpy as np"
   ]
  },
  {
   "cell_type": "code",
   "execution_count": 2,
   "id": "92c506b0",
   "metadata": {},
   "outputs": [],
   "source": [
    "img1 = cv2.imread('./img/taekwonv1.jpg')\n",
    "img2 = cv2.imread('./img/figures.jpg')\n",
    "gray1 = cv2.cvtColor(img1, cv2.COLOR_BGR2GRAY)\n",
    "gray2 = cv2.cvtColor(img2, cv2.COLOR_BGR2GRAY)"
   ]
  },
  {
   "cell_type": "code",
   "execution_count": 3,
   "id": "892eef1a",
   "metadata": {},
   "outputs": [],
   "source": [
    "# ORB 추출기 생성\n",
    "detector = cv2.ORB_create()"
   ]
  },
  {
   "cell_type": "code",
   "execution_count": 4,
   "id": "a3014456",
   "metadata": {},
   "outputs": [],
   "source": [
    "# 키 포인트와 디스크럽터 추출\n",
    "kp1, desc1 = detector.detectAndCompute(gray1, None)\n",
    "kp2, desc2 = detector.detectAndCompute(gray2, None)"
   ]
  },
  {
   "cell_type": "code",
   "execution_count": 5,
   "id": "46d93a07",
   "metadata": {},
   "outputs": [],
   "source": [
    "# 인덱스 파라미터 설정\n",
    "FLANN_INDEX_LSH = 6\n",
    "index_params = dict(algorithm = FLANN_INDEX_LSH,\n",
    "                   table_number = 6,\n",
    "                   key_size = 12,\n",
    "                   multi_probe_level = 1)"
   ]
  },
  {
   "cell_type": "code",
   "execution_count": 6,
   "id": "ebf31e1a",
   "metadata": {},
   "outputs": [],
   "source": [
    "# 검색 파라미터 설정\n",
    "search_params = dict(checks=32)\n",
    "\n",
    "# FlannMatcher 생성\n",
    "matcher = cv2.FlannBasedMatcher(index_params, search_params)"
   ]
  },
  {
   "cell_type": "code",
   "execution_count": 7,
   "id": "c02a3881",
   "metadata": {},
   "outputs": [],
   "source": [
    "# 매칭 계산\n",
    "matches = matcher.match(desc1, desc2)\n",
    "\n",
    "# 매칭 그리기\n",
    "res = cv2.drawMatches(img1, kp1, img2, kp2, matches, None,\n",
    "                     flags=cv2.DRAW_MATCHES_FLAGS_NOT_DRAW_SINGLE_POINTS)"
   ]
  },
  {
   "cell_type": "code",
   "execution_count": 8,
   "id": "ee60441d",
   "metadata": {},
   "outputs": [],
   "source": [
    "# 결과 출력\n",
    "cv2.imshow('Flann + ORB', res)\n",
    "cv2.waitKey()\n",
    "cv2.destroyAllWindows()"
   ]
  },
  {
   "cell_type": "code",
   "execution_count": null,
   "id": "ba993dd7",
   "metadata": {},
   "outputs": [],
   "source": []
  }
 ],
 "metadata": {
  "kernelspec": {
   "display_name": "Python 3 (ipykernel)",
   "language": "python",
   "name": "python3"
  },
  "language_info": {
   "codemirror_mode": {
    "name": "ipython",
    "version": 3
   },
   "file_extension": ".py",
   "mimetype": "text/x-python",
   "name": "python",
   "nbconvert_exporter": "python",
   "pygments_lexer": "ipython3",
   "version": "3.8.10"
  }
 },
 "nbformat": 4,
 "nbformat_minor": 5
}
