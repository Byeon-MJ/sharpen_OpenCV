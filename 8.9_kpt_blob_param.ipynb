{
 "cells": [
  {
   "cell_type": "code",
   "execution_count": 1,
   "id": "02d06221",
   "metadata": {},
   "outputs": [],
   "source": [
    "import cv2\n",
    "import numpy as np"
   ]
  },
  {
   "cell_type": "code",
   "execution_count": 2,
   "id": "39b078ee",
   "metadata": {},
   "outputs": [],
   "source": [
    "img = cv2.imread('./img/house.jpg')\n",
    "gray = cv2.cvtColor(img, cv2.COLOR_BGR2GRAY)"
   ]
  },
  {
   "cell_type": "code",
   "execution_count": 3,
   "id": "64af1c50",
   "metadata": {},
   "outputs": [],
   "source": [
    "# BLOB 검출 필터 파라미터 생성\n",
    "params = cv2.SimpleBlobDetector_Params()"
   ]
  },
  {
   "cell_type": "code",
   "execution_count": 4,
   "id": "621eb539",
   "metadata": {},
   "outputs": [],
   "source": [
    "# 경계값 조정\n",
    "params.minThreshold = 10\n",
    "params.maxThreshold = 240\n",
    "params.thresholdStep = 5\n",
    "\n",
    "# 면적 필터를 켜고 최소값 지정\n",
    "params.filterByArea = True\n",
    "params.minArea = 200"
   ]
  },
  {
   "cell_type": "code",
   "execution_count": 5,
   "id": "d3335282",
   "metadata": {},
   "outputs": [],
   "source": [
    "# # 컬러, 볼록 비율, 원형 비율 필터 옵션 끄기\n",
    "params.filterByColor = False\n",
    "params.filterByConvexity = False\n",
    "params.filterByInertia = False\n",
    "params.filterByCircularity = False"
   ]
  },
  {
   "cell_type": "code",
   "execution_count": 6,
   "id": "3b67ed02",
   "metadata": {},
   "outputs": [],
   "source": [
    "# 필터 파라미터로 BLOB 검출기 생성\n",
    "detector = cv2.SimpleBlobDetector_create(params)\n",
    "\n",
    "# 키 포인트 검출\n",
    "keypoints = detector.detect(gray)\n",
    "\n",
    "# 키 포인트 그리기\n",
    "img_draw = cv2.drawKeypoints(img, keypoints, None, None,\n",
    "                            cv2.DRAW_MATCHES_FLAGS_DRAW_RICH_KEYPOINTS)"
   ]
  },
  {
   "cell_type": "code",
   "execution_count": 7,
   "id": "e5e32ffe",
   "metadata": {},
   "outputs": [],
   "source": [
    "# 결과 출력\n",
    "cv2.imshow(\"Blob with Params\", img_draw)\n",
    "cv2.waitKey()\n",
    "cv2.destroyAllWindows()"
   ]
  },
  {
   "cell_type": "code",
   "execution_count": null,
   "id": "8913d82b",
   "metadata": {},
   "outputs": [],
   "source": []
  }
 ],
 "metadata": {
  "kernelspec": {
   "display_name": "Python 3 (ipykernel)",
   "language": "python",
   "name": "python3"
  },
  "language_info": {
   "codemirror_mode": {
    "name": "ipython",
    "version": 3
   },
   "file_extension": ".py",
   "mimetype": "text/x-python",
   "name": "python",
   "nbconvert_exporter": "python",
   "pygments_lexer": "ipython3",
   "version": "3.8.10"
  }
 },
 "nbformat": 4,
 "nbformat_minor": 5
}
