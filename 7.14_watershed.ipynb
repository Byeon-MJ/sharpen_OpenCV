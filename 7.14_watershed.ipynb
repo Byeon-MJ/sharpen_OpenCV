{
 "cells": [
  {
   "cell_type": "code",
   "execution_count": 2,
   "id": "f4a24bc8",
   "metadata": {},
   "outputs": [],
   "source": [
    "import cv2\n",
    "import numpy as np"
   ]
  },
  {
   "cell_type": "code",
   "execution_count": 29,
   "id": "ea7bb8d1",
   "metadata": {},
   "outputs": [],
   "source": [
    "img=cv2.imread('./img/taekwonv1.jpg')\n",
    "rows,cols = img.shape[:2]\n",
    "img_draw=img.copy()"
   ]
  },
  {
   "cell_type": "code",
   "execution_count": 30,
   "id": "6da3d35d",
   "metadata": {},
   "outputs": [],
   "source": [
    "# Create marker, Initialize all elements to 0\n",
    "marker = np.zeros((rows, cols), np.int32)\n",
    "markerId = 1\n",
    "colors = []\n",
    "isDragging = False    # Variable to check if dragging is happening"
   ]
  },
  {
   "cell_type": "code",
   "execution_count": 31,
   "id": "5714e020",
   "metadata": {},
   "outputs": [],
   "source": [
    "# Mouse event handling function\n",
    "def onMouse(event, x, y, flags, param):\n",
    "    global img_draw, marker, markerId, isDragging, colors\n",
    "    if event == cv2.EVENT_LBUTTONDOWN:\n",
    "        isDragging = True\n",
    "        # Save ID of each marker and color value of its current position as pairs\n",
    "        colors.append((markerId, img[y, x]))\n",
    "    elif event == cv2.EVENT_MOUSEMOVE:\n",
    "        if isDragging:\n",
    "            # Fill in the marker coordinates corresponding to the mouse coordinates with the same marker ID\n",
    "            marker[y, x] = markerId\n",
    "            # Print the marked locations as red dots\n",
    "            cv2.circle(img_draw, (x, y), 3, (0, 0, 255), -1)\n",
    "            cv2.imshow('watershed', img_draw)\n",
    "    elif event == cv2.EVENT_LBUTTONUP:\n",
    "        if isDragging:\n",
    "            isDragging = False\n",
    "            # Increase marker ID for selecting next marker\n",
    "            markerId += 1\n",
    "    elif event == cv2.EVENT_RBUTTONDOWN:\n",
    "        # Apply watershed using the collected marker\n",
    "        cv2.watershed(img, marker)\n",
    "        # Display the boundaries marked with -1 in green color\n",
    "        img_draw[marker == -1] = (0, 255, 0)\n",
    "        for mid, color in colors:    # Iterate for the numbers of selected marker IDs\n",
    "            # Fill the area with the same marker ID value with selected color of the marker\n",
    "            img_draw[marker==mid] = color\n",
    "        cv2.imshow('watershed', img_draw)"
   ]
  },
  {
   "cell_type": "code",
   "execution_count": 32,
   "id": "6ee55c67",
   "metadata": {},
   "outputs": [],
   "source": [
    "# Output result\n",
    "cv2.imshow('watershed', img)\n",
    "cv2.setMouseCallback('watershed', onMouse)\n",
    "cv2.waitKey()\n",
    "cv2.destroyAllWindows()"
   ]
  },
  {
   "cell_type": "code",
   "execution_count": null,
   "id": "22e922e6",
   "metadata": {},
   "outputs": [],
   "source": []
  }
 ],
 "metadata": {
  "kernelspec": {
   "display_name": "py3_8_5",
   "language": "python",
   "name": "py3_8_5"
  },
  "language_info": {
   "codemirror_mode": {
    "name": "ipython",
    "version": 3
   },
   "file_extension": ".py",
   "mimetype": "text/x-python",
   "name": "python",
   "nbconvert_exporter": "python",
   "pygments_lexer": "ipython3",
   "version": "3.8.5"
  }
 },
 "nbformat": 4,
 "nbformat_minor": 5
}
