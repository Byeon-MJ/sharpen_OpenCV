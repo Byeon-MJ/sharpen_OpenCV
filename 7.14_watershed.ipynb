{
 "cells": [
  {
   "cell_type": "code",
   "execution_count": 1,
   "id": "f4a24bc8",
   "metadata": {},
   "outputs": [],
   "source": [
    "import cv2\n",
    "import numpy as np"
   ]
  },
  {
   "cell_type": "code",
   "execution_count": 3,
   "id": "ea7bb8d1",
   "metadata": {},
   "outputs": [],
   "source": [
    "img=cv2.imread('./img/taekwonv1.jpg')\n",
    "rows,cols = img.shape[:2]\n",
    "img_draw=img.copy()"
   ]
  },
  {
   "cell_type": "code",
   "execution_count": null,
   "id": "6da3d35d",
   "metadata": {},
   "outputs": [],
   "source": []
  }
 ],
 "metadata": {
  "kernelspec": {
   "display_name": "py3_8_5",
   "language": "python",
   "name": "py3_8_5"
  },
  "language_info": {
   "codemirror_mode": {
    "name": "ipython",
    "version": 3
   },
   "file_extension": ".py",
   "mimetype": "text/x-python",
   "name": "python",
   "nbconvert_exporter": "python",
   "pygments_lexer": "ipython3",
   "version": "3.8.5"
  }
 },
 "nbformat": 4,
 "nbformat_minor": 5
}
