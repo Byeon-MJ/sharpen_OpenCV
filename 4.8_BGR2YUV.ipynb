{
 "cells": [
  {
   "cell_type": "code",
   "execution_count": 1,
   "id": "c286fe10",
   "metadata": {},
   "outputs": [],
   "source": [
    "import cv2\n",
    "import numpy as np"
   ]
  },
  {
   "cell_type": "code",
   "execution_count": 2,
   "id": "0523f14b",
   "metadata": {},
   "outputs": [],
   "source": [
    "# BGR 컬러 스페이스로 세 가지 밝기의 픽셀 생성\n",
    "dark = np.array([[[0, 0, 0]]], dtype=np.uint8)\n",
    "middle = np.array([[[127, 127, 127]]], dtype=np.uint8)\n",
    "bright = np.array([[[255, 255, 255]]], dtype=np.uint8)"
   ]
  },
  {
   "cell_type": "code",
   "execution_count": 3,
   "id": "7ed15a92",
   "metadata": {},
   "outputs": [],
   "source": [
    "# BGR to YUV\n",
    "dark_yuv= cv2.cvtColor(dark, cv2.COLOR_BGR2YUV)\n",
    "middle_yuv= cv2.cvtColor(middle, cv2.COLOR_BGR2YUV)\n",
    "bright_yuv= cv2.cvtColor(bright, cv2.COLOR_BGR2YUV)"
   ]
  },
  {
   "cell_type": "code",
   "execution_count": 4,
   "id": "751e71b3",
   "metadata": {},
   "outputs": [
    {
     "name": "stdout",
     "output_type": "stream",
     "text": [
      "Dark: [[[  0 128 128]]]\n",
      "Middle: [[[127 128 128]]]\n",
      "Bright: [[[255 128 128]]]\n"
     ]
    }
   ],
   "source": [
    "# YUV 변환 픽셀 출력\n",
    "print('Dark:', dark_yuv)\n",
    "print('Middle:', middle_yuv)\n",
    "print('Bright:', bright_yuv)"
   ]
  },
  {
   "cell_type": "code",
   "execution_count": null,
   "id": "86cfb209",
   "metadata": {},
   "outputs": [],
   "source": []
  }
 ],
 "metadata": {
  "kernelspec": {
   "display_name": "py3_8_5",
   "language": "python",
   "name": "py3_8_5"
  },
  "language_info": {
   "codemirror_mode": {
    "name": "ipython",
    "version": 3
   },
   "file_extension": ".py",
   "mimetype": "text/x-python",
   "name": "python",
   "nbconvert_exporter": "python",
   "pygments_lexer": "ipython3",
   "version": "3.8.5"
  }
 },
 "nbformat": 4,
 "nbformat_minor": 5
}
