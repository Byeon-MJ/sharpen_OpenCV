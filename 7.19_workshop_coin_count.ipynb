{
 "cells": [
  {
   "cell_type": "code",
   "execution_count": 1,
   "id": "fdb8d6d2",
   "metadata": {},
   "outputs": [],
   "source": [
    "import cv2\n",
    "import numpy as np"
   ]
  },
  {
   "cell_type": "code",
   "execution_count": null,
   "id": "67bfe46d",
   "metadata": {},
   "outputs": [],
   "source": [
    "# 이미지 읽기\n",
    "img = cv2.imread('./img/coins_connected.jpg')\n",
    "rows, cols = img.shape[:2]\n",
    "cv2.imshow('original', img)\n",
    "\n",
    "# 동전 표면을 흐릿하게 피라미드 평균 시프트 적용\n",
    "mean = cv2.pyrMeanShiftFiltering(img, 20, 50)\n",
    "cv2.imshow('mean', mean)\n",
    "# 바이너리 이미지 변환\n",
    "gray = cv2.cvtColor(mean, cv2.COLOR_BGR2GRAY)\n",
    "gray = cv2.GaussianBlur(gray, (3, 3), 0)\n",
    "\n",
    "_, thresh = cv2.threshold(gray, 0, 255, cv2.THRESH_BINARY, | cv2.THRESH_OTSU)\n",
    "cv2.imshow('thresh', thresh)\n",
    "# 거리 변환\n",
    "dst = cv2.distanceTransform(thresh, cv2.DIST_L2, 3)"
   ]
  }
 ],
 "metadata": {
  "kernelspec": {
   "display_name": "Python 3 (ipykernel)",
   "language": "python",
   "name": "python3"
  },
  "language_info": {
   "codemirror_mode": {
    "name": "ipython",
    "version": 3
   },
   "file_extension": ".py",
   "mimetype": "text/x-python",
   "name": "python",
   "nbconvert_exporter": "python",
   "pygments_lexer": "ipython3",
   "version": "3.8.10"
  }
 },
 "nbformat": 4,
 "nbformat_minor": 5
}
