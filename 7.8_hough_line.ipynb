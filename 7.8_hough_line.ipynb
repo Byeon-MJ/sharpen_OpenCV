{
 "cells": [
  {
   "cell_type": "code",
   "execution_count": 1,
   "id": "88ac6434",
   "metadata": {},
   "outputs": [],
   "source": [
    "import cv2\n",
    "import numpy as np"
   ]
  },
  {
   "cell_type": "code",
   "execution_count": 32,
   "id": "615e8c98",
   "metadata": {},
   "outputs": [],
   "source": [
    "img = cv2.imread('./img/sudoku.jpg')\n",
    "img2 = img.copy()\n",
    "h, w = img.shape[:2]"
   ]
  },
  {
   "cell_type": "code",
   "execution_count": 33,
   "id": "9148bf69",
   "metadata": {},
   "outputs": [],
   "source": [
    "# Gray scale conversion and edge detection\n",
    "img_gray = cv2.cvtColor(img, cv2.COLOR_BGR2GRAY)\n",
    "edges = cv2.Canny(img_gray, 100, 200)"
   ]
  },
  {
   "cell_type": "code",
   "execution_count": 34,
   "id": "76dc154e",
   "metadata": {},
   "outputs": [],
   "source": [
    "# Hough line detection\n",
    "lines = cv2.HoughLines(edges, 1, np.pi/180, 130)\n",
    "for line in lines:\n",
    "    r, theta = line[0]    # distance and angle\n",
    "    tx, ty = np.cos(theta), np.sin(theta)    # Trigonometric ratios for x and y axes\n",
    "    x0, y0 = tx*r, ty*r    # Coordinates based on x,y axis\n",
    "    \n",
    "    # Draw red dot on based coordinate\n",
    "    cv2.circle(img2, (int(abs(x0)), int(abs(y0))), 3, (0, 0, 255), -1)\n",
    "    \n",
    "    # Calculate starting and ending points for drawing a straight line equation\n",
    "    x1, y1 = int(x0 + w*(-ty)), int(y0 + h * tx)\n",
    "    x2, y2 = int(x0 - w*(-ty)), int(y0 - h * tx)\n",
    "    \n",
    "    # Draw line\n",
    "    cv2.line(img2, (x1, y1), (x2, y2), (0, 255, 0), 1)"
   ]
  },
  {
   "cell_type": "code",
   "execution_count": 35,
   "id": "572dbec7",
   "metadata": {},
   "outputs": [],
   "source": [
    "# Output result\n",
    "merged = np.hstack((img, img2))\n",
    "cv2.imshow('hough line', merged)\n",
    "cv2.waitKey()\n",
    "cv2.destroyAllWindows()"
   ]
  },
  {
   "cell_type": "code",
   "execution_count": null,
   "id": "94501147",
   "metadata": {},
   "outputs": [],
   "source": []
  }
 ],
 "metadata": {
  "kernelspec": {
   "display_name": "py3_8_5",
   "language": "python",
   "name": "py3_8_5"
  },
  "language_info": {
   "codemirror_mode": {
    "name": "ipython",
    "version": 3
   },
   "file_extension": ".py",
   "mimetype": "text/x-python",
   "name": "python",
   "nbconvert_exporter": "python",
   "pygments_lexer": "ipython3",
   "version": "3.8.5"
  }
 },
 "nbformat": 4,
 "nbformat_minor": 5
}
