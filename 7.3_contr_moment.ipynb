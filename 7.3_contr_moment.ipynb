{
 "cells": [
  {
   "cell_type": "code",
   "execution_count": 1,
   "id": "50cbeaca",
   "metadata": {},
   "outputs": [],
   "source": [
    "import cv2\n",
    "import numpy as np"
   ]
  },
  {
   "cell_type": "code",
   "execution_count": 2,
   "id": "5608cc2a",
   "metadata": {},
   "outputs": [],
   "source": [
    "img = cv2.imread('./img/shapes.png')"
   ]
  },
  {
   "cell_type": "code",
   "execution_count": 3,
   "id": "9bb2e1ab",
   "metadata": {},
   "outputs": [],
   "source": [
    "# 그레이 스케일 변환\n",
    "img_gray = cv2.cvtColor(img, cv2.COLOR_BGR2GRAY)\n",
    "\n",
    "# 바이너리 스케일 변환\n",
    "ret, th = cv2.threshold(img_gray, 127, 255, cv2.THRESH_BINARY_INV)"
   ]
  },
  {
   "cell_type": "code",
   "execution_count": 4,
   "id": "06d6aa2f",
   "metadata": {},
   "outputs": [],
   "source": [
    "# 컨투어 찾기\n",
    "contours, hierarchy = cv2.findContours(th, cv2.RETR_EXTERNAL, cv2.CHAIN_APPROX_SIMPLE)[-2:]"
   ]
  },
  {
   "cell_type": "code",
   "execution_count": 6,
   "id": "b1a9fa9d",
   "metadata": {},
   "outputs": [
    {
     "name": "stdout",
     "output_type": "stream",
     "text": [
      "area:9870.00\n",
      "area:12544.00\n",
      "area:6216.00\n"
     ]
    }
   ],
   "source": [
    "# 각 도형의 컨투어에 대한 루프\n",
    "for c in contours:\n",
    "    # 모멘트 계산\n",
    "    mmt = cv2.moments(c)\n",
    "    \n",
    "    # m10/m00, m01/m00 중심점 계산\n",
    "    cx = int(mmt['m10']/mmt['m00'])\n",
    "    cy = int(mmt['m01']/mmt['m00'])\n",
    "    \n",
    "    # 영역 넓이\n",
    "    a = mmt['m00']\n",
    "    \n",
    "    # 영역의 외곽선 길이\n",
    "    l = cv2.arcLength(c, True)\n",
    "    \n",
    "    # 중심점에 노란색 점 그리기\n",
    "    cv2.circle(img, (cx, cy), 5, (0, 255, 255), -1)\n",
    "    \n",
    "    # 중심점 근처에 넓이 그리기\n",
    "    cv2.putText(img, f'A:{a:.0f}', (cx, cy+20), cv2.FONT_HERSHEY_PLAIN, 1, (0, 0, 255))\n",
    "    \n",
    "    # 컨투어 시작점에 길이 그리기\n",
    "    cv2.putText(img, f'L:{l:.2f}', tuple(c[0][0]), cv2.FONT_HERSHEY_PLAIN, 1, (255, 0, 0))\n",
    "    \n",
    "    # 함수로 컨투어 넓이 계산해서 출력\n",
    "    print(f'area:{cv2.contourArea(c, False):.2f}')"
   ]
  },
  {
   "cell_type": "code",
   "execution_count": 7,
   "id": "d5dbcfe8",
   "metadata": {},
   "outputs": [],
   "source": [
    "# 결과 출력\n",
    "cv2.imshow('center', img)\n",
    "cv2.waitKey()\n",
    "cv2.destroyAllWindows()"
   ]
  },
  {
   "cell_type": "code",
   "execution_count": null,
   "id": "37fa0db6",
   "metadata": {},
   "outputs": [],
   "source": []
  }
 ],
 "metadata": {
  "kernelspec": {
   "display_name": "py3_8_5",
   "language": "python",
   "name": "py3_8_5"
  },
  "language_info": {
   "codemirror_mode": {
    "name": "ipython",
    "version": 3
   },
   "file_extension": ".py",
   "mimetype": "text/x-python",
   "name": "python",
   "nbconvert_exporter": "python",
   "pygments_lexer": "ipython3",
   "version": "3.8.5"
  }
 },
 "nbformat": 4,
 "nbformat_minor": 5
}
