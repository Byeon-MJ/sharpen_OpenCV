{
 "cells": [
  {
   "cell_type": "code",
   "execution_count": 2,
   "id": "31c4c2b1",
   "metadata": {},
   "outputs": [],
   "source": [
    "import cv2"
   ]
  },
  {
   "cell_type": "code",
   "execution_count": 4,
   "id": "1fe80ab2",
   "metadata": {},
   "outputs": [],
   "source": [
    "file_path = './img/girl.jpg'\n",
    "\n",
    "# 이미지를 기본 값으로 읽기\n",
    "img = cv2.imread(file_path)\n",
    "# 이미지를 그레이 스케일로 읽기\n",
    "img_gray = cv2.imread(file_path, cv2.IMREAD_GRAYSCALE)\n",
    "\n",
    "# origin 이름으로 창 생성\n",
    "cv2.namedWindow('origin', cv2.WINDOW_AUTOSIZE)\n",
    "# gray 이름으로 창 생성\n",
    "cv2.namedWindow('gray', cv2.WINDOW_NORMAL)\n",
    "\n",
    "# origin 창에 이미지 표시\n",
    "cv2.imshow('origin', img)\n",
    "# gray 창에 이미지 표시\n",
    "cv2.imshow('gray', img_gray)\n",
    "\n",
    "# 창 위치 변경\n",
    "cv2.moveWindow('origin', 0, 0)\n",
    "cv2.moveWindow('gray', 100, 100)\n",
    "\n",
    "# 창 크기 변경\n",
    "cv2.waitKey(0)\n",
    "cv2.resizeWindow('origin', 200, 200)\n",
    "cv2.resizeWindow('gray', 100, 100)\n",
    "\n",
    "# gray창 닫기\n",
    "cv2.waitKey(0)\n",
    "cv2.destroyWindow('gray')\n",
    "\n",
    "# 모든 창 닫기\n",
    "cv2.waitKey(0)\n",
    "cv2.destroyAllWindows()"
   ]
  },
  {
   "cell_type": "code",
   "execution_count": null,
   "id": "8c4419bb",
   "metadata": {},
   "outputs": [],
   "source": []
  }
 ],
 "metadata": {
  "kernelspec": {
   "display_name": "py3_8_5",
   "language": "python",
   "name": "py3_8_5"
  },
  "language_info": {
   "codemirror_mode": {
    "name": "ipython",
    "version": 3
   },
   "file_extension": ".py",
   "mimetype": "text/x-python",
   "name": "python",
   "nbconvert_exporter": "python",
   "pygments_lexer": "ipython3",
   "version": "3.8.5"
  }
 },
 "nbformat": 4,
 "nbformat_minor": 5
}
