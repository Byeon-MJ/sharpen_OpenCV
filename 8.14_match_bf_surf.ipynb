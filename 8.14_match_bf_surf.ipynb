{
 "cells": [
  {
   "cell_type": "code",
   "execution_count": 1,
   "id": "71e068ad",
   "metadata": {},
   "outputs": [],
   "source": [
    "import cv2\n",
    "import numpy as np"
   ]
  },
  {
   "cell_type": "code",
   "execution_count": 2,
   "id": "28519dca",
   "metadata": {},
   "outputs": [],
   "source": [
    "img1 = cv2.imread('./img/taekwonv1.jpg')\n",
    "img2 = cv2.imread('./img/figures.jpg')\n",
    "gray1 = cv2.cvtColor(img1, cv2.COLOR_BGR2GRAY)\n",
    "gray2 = cv2.cvtColor(img2, cv2.COLOR_BGR2GRAY)"
   ]
  },
  {
   "cell_type": "code",
   "execution_count": null,
   "id": "395c2d59",
   "metadata": {},
   "outputs": [],
   "source": [
    "# SURF 디스크립터 추출기 생성\n",
    "detector = cv2.xfeatures2d.SURF_create()\n",
    "kp1, desc1 = detector.detecAndCompute(gray1, None)\n",
    "kp2, desc2 = detector.detecAndCompute(gray2, None)"
   ]
  },
  {
   "cell_type": "code",
   "execution_count": null,
   "id": "cb9a1804",
   "metadata": {},
   "outputs": [],
   "source": [
    "# BFMatcher 생성, L2 거리, 상호 체크\n",
    "matcher = cv2.BFMatcher(cv2.NORM_L2, crossCheck=True)"
   ]
  },
  {
   "cell_type": "code",
   "execution_count": null,
   "id": "587e2a0a",
   "metadata": {},
   "outputs": [],
   "source": [
    "# 매칭 계산\n",
    "matches = matcher.match(desc1, desc2)"
   ]
  },
  {
   "cell_type": "code",
   "execution_count": null,
   "id": "62a7182b",
   "metadata": {},
   "outputs": [],
   "source": [
    "# 매칭 결과 그리기\n",
    "res = cv2.drawMatches(img1, kp1, img2, kp2, matches, None,\n",
    "                     flags=cv2.DRAW_MATCHES_FLAGS_NOT_DRAW_SINGLE_POINTS)"
   ]
  },
  {
   "cell_type": "code",
   "execution_count": null,
   "id": "cc9ba575",
   "metadata": {},
   "outputs": [],
   "source": [
    "# 결과 출력\n",
    "cv2.imshow('BF + SURF', res)\n",
    "cv2.waitKey()\n",
    "cv2.destroyAllWindows()"
   ]
  },
  {
   "cell_type": "code",
   "execution_count": null,
   "id": "5d9789c4",
   "metadata": {},
   "outputs": [],
   "source": []
  }
 ],
 "metadata": {
  "kernelspec": {
   "display_name": "py3_8_5",
   "language": "python",
   "name": "py3_8_5"
  },
  "language_info": {
   "codemirror_mode": {
    "name": "ipython",
    "version": 3
   },
   "file_extension": ".py",
   "mimetype": "text/x-python",
   "name": "python",
   "nbconvert_exporter": "python",
   "pygments_lexer": "ipython3",
   "version": "3.8.5"
  }
 },
 "nbformat": 4,
 "nbformat_minor": 5
}
