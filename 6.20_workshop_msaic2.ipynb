{
 "cells": [
  {
   "cell_type": "code",
   "execution_count": 17,
   "id": "a42092b1",
   "metadata": {},
   "outputs": [],
   "source": [
    "import cv2\n",
    "import numpy as np"
   ]
  },
  {
   "cell_type": "code",
   "execution_count": 18,
   "id": "f2b2c688",
   "metadata": {},
   "outputs": [],
   "source": [
    "ksize = 30\n",
    "win_title = 'mosaic'\n",
    "img = cv2.imread('./img/taekwonv1.jpg')\n",
    "mosaic_img = img.copy()\n",
    "merged = np.hstack((img, mosaic_img))"
   ]
  },
  {
   "cell_type": "code",
   "execution_count": 19,
   "id": "14378096",
   "metadata": {},
   "outputs": [],
   "source": [
    "while True:\n",
    "    x, y, w, h = cv2.selectROI(win_title, merged, False)  # select ROI\n",
    "    if w > 0 and h > 0:                                   # ROI selection is completed, if both width and height are positive\n",
    "        roi = merged[y:y+h, x:x+w]                        # designate ROI\n",
    "        roi = cv2.blur(roi, (ksize, ksize))               # Blur(mosaic) effect\n",
    "        merged[y:y+h, x:x+w] = roi                        # apply to original image\n",
    "        cv2.imshow(win_title, merged)\n",
    "    else:\n",
    "        break\n",
    "cv2.destroyAllWindows()"
   ]
  },
  {
   "cell_type": "code",
   "execution_count": null,
   "id": "14759f80",
   "metadata": {},
   "outputs": [],
   "source": []
  }
 ],
 "metadata": {
  "kernelspec": {
   "display_name": "py3_8_5",
   "language": "python",
   "name": "py3_8_5"
  },
  "language_info": {
   "codemirror_mode": {
    "name": "ipython",
    "version": 3
   },
   "file_extension": ".py",
   "mimetype": "text/x-python",
   "name": "python",
   "nbconvert_exporter": "python",
   "pygments_lexer": "ipython3",
   "version": "3.8.5"
  }
 },
 "nbformat": 4,
 "nbformat_minor": 5
}
