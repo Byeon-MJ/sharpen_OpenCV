{
 "cells": [
  {
   "cell_type": "code",
   "execution_count": 2,
   "id": "74774f92",
   "metadata": {},
   "outputs": [],
   "source": [
    "import cv2\n",
    "\n",
    "cap = cv2.VideoCapture(0)\n",
    "if cap.isOpened:\n",
    "    file_path = './result/record.avi'\n",
    "    fps = 25.40\n",
    "    \n",
    "    # 인코딩 포맷 문자\n",
    "    fourcc = cv2.VideoWriter_fourcc(*'DIVX')\n",
    "    \n",
    "    width = cap.get(cv2.CAP_PROP_FRAME_WIDTH)\n",
    "    height = cap.get(cv2.CAP_PROP_FRAME_HEIGHT)\n",
    "    size = (int(width), int(height))\n",
    "    out = cv2.VideoWriter(file_path, fourcc, fps, size)\n",
    "    \n",
    "    while True:\n",
    "        ret, frame = cap.read()\n",
    "        if ret:\n",
    "            cv2.imshow('camera-recoding', frame)\n",
    "#             out.write(frame)\n",
    "#             if cv2.waitKey(int(1000/fps)) != -1:\n",
    "#                 break\n",
    "            \n",
    "            # 'a'를 입력할때만 녹화\n",
    "            if cv2.waitKey(25) == ord('a'):\n",
    "                out.write(frame)\n",
    "            \n",
    "            # 'q'를 입력하면 종료\n",
    "            if cv2.waitKey(1) == ord('q'):\n",
    "                break\n",
    "        \n",
    "        else:\n",
    "            print('no frame!')\n",
    "            break\n",
    "    out.release()\n",
    "else:\n",
    "    print(\"can't open camera!\")\n",
    "cap.release()\n",
    "cv2.destroyAllWindows()"
   ]
  },
  {
   "cell_type": "code",
   "execution_count": null,
   "id": "28ab614b",
   "metadata": {},
   "outputs": [],
   "source": []
  }
 ],
 "metadata": {
  "kernelspec": {
   "display_name": "py3_8_5",
   "language": "python",
   "name": "py3_8_5"
  },
  "language_info": {
   "codemirror_mode": {
    "name": "ipython",
    "version": 3
   },
   "file_extension": ".py",
   "mimetype": "text/x-python",
   "name": "python",
   "nbconvert_exporter": "python",
   "pygments_lexer": "ipython3",
   "version": "3.8.5"
  }
 },
 "nbformat": 4,
 "nbformat_minor": 5
}
