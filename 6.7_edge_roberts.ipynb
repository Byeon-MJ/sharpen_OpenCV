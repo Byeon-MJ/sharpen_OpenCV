{
 "cells": [
  {
   "cell_type": "code",
   "execution_count": 1,
   "id": "2dc8c43e",
   "metadata": {},
   "outputs": [],
   "source": [
    "import cv2\n",
    "import numpy as np"
   ]
  },
  {
   "cell_type": "code",
   "execution_count": 2,
   "id": "98f4c738",
   "metadata": {},
   "outputs": [],
   "source": [
    "img = cv2.imread('./img/sudoku.jpg')"
   ]
  },
  {
   "cell_type": "code",
   "execution_count": 3,
   "id": "00f8ecde",
   "metadata": {},
   "outputs": [],
   "source": [
    "# 로버츠 커널 생성\n",
    "gx_kernel = np.array([[1, 0], [0, -1]])\n",
    "gy_kernel = np.array([[0, 1], [-1, 0]])"
   ]
  },
  {
   "cell_type": "code",
   "execution_count": 4,
   "id": "8f938fc1",
   "metadata": {},
   "outputs": [],
   "source": [
    "# 커널 적용\n",
    "edge_gx = cv2.filter2D(img, -1, gx_kernel)\n",
    "edge_gy = cv2.filter2D(img, -1, gy_kernel)"
   ]
  },
  {
   "cell_type": "code",
   "execution_count": 5,
   "id": "0acf492b",
   "metadata": {},
   "outputs": [],
   "source": [
    "# 결과 출력\n",
    "merged = np.hstack((img, edge_gx, edge_gy, edge_gx+edge_gy))\n",
    "cv2.imshow('roberts cross', merged)\n",
    "cv2.waitKey()\n",
    "cv2.destroyAllWindows()"
   ]
  },
  {
   "cell_type": "code",
   "execution_count": null,
   "id": "8979326a",
   "metadata": {},
   "outputs": [],
   "source": []
  }
 ],
 "metadata": {
  "kernelspec": {
   "display_name": "py3_8_5",
   "language": "python",
   "name": "py3_8_5"
  },
  "language_info": {
   "codemirror_mode": {
    "name": "ipython",
    "version": 3
   },
   "file_extension": ".py",
   "mimetype": "text/x-python",
   "name": "python",
   "nbconvert_exporter": "python",
   "pygments_lexer": "ipython3",
   "version": "3.8.5"
  }
 },
 "nbformat": 4,
 "nbformat_minor": 5
}
