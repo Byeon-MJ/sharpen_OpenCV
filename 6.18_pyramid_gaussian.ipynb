{
 "cells": [
  {
   "cell_type": "code",
   "execution_count": 1,
   "id": "39adf0d2",
   "metadata": {},
   "outputs": [],
   "source": [
    "import cv2"
   ]
  },
  {
   "cell_type": "code",
   "execution_count": 2,
   "id": "52caee1c",
   "metadata": {},
   "outputs": [],
   "source": [
    "img = cv2.imread('./img/girl.jpg')"
   ]
  },
  {
   "cell_type": "code",
   "execution_count": 3,
   "id": "74c124e4",
   "metadata": {},
   "outputs": [],
   "source": [
    "# Gaussian image pyramid reduction\n",
    "smaller = cv2.pyrDown(img)  # img x 1/4\n",
    "\n",
    "# Gaussian image pyramid expansion\n",
    "bigger = cv2.pyrUp(img)  # img x 4"
   ]
  },
  {
   "cell_type": "code",
   "execution_count": 4,
   "id": "be31e291",
   "metadata": {},
   "outputs": [],
   "source": [
    "# output result\n",
    "cv2.imshow('img', img)\n",
    "cv2.imshow('pyrDown', smaller)\n",
    "cv2.imshow('pyrUp', bigger)\n",
    "cv2.waitKey()\n",
    "cv2.destroyAllWindows()"
   ]
  },
  {
   "cell_type": "code",
   "execution_count": null,
   "id": "1026a070",
   "metadata": {},
   "outputs": [],
   "source": []
  }
 ],
 "metadata": {
  "kernelspec": {
   "display_name": "py3_8_5",
   "language": "python",
   "name": "py3_8_5"
  },
  "language_info": {
   "codemirror_mode": {
    "name": "ipython",
    "version": 3
   },
   "file_extension": ".py",
   "mimetype": "text/x-python",
   "name": "python",
   "nbconvert_exporter": "python",
   "pygments_lexer": "ipython3",
   "version": "3.8.5"
  }
 },
 "nbformat": 4,
 "nbformat_minor": 5
}
