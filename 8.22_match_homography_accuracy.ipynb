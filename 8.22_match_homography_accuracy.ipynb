{
 "cells": [
  {
   "cell_type": "code",
   "execution_count": 22,
   "id": "a011185b",
   "metadata": {},
   "outputs": [],
   "source": [
    "import cv2\n",
    "import numpy as np"
   ]
  },
  {
   "cell_type": "code",
   "execution_count": 23,
   "id": "4335d900",
   "metadata": {},
   "outputs": [],
   "source": [
    "img1 = cv2.imread('./img/taekwonv1.jpg')\n",
    "img2 = cv2.imread('./img/figures2.jpg')\n",
    "gray1 = cv2.cvtColor(img1, cv2.COLOR_BGR2GRAY)\n",
    "gray2 = cv2.cvtColor(img2, cv2.COLOR_BGR2GRAY)"
   ]
  },
  {
   "cell_type": "code",
   "execution_count": 24,
   "id": "c7879a7f",
   "metadata": {},
   "outputs": [],
   "source": [
    "# ORB, BF-Hamming로 knnMatch\n",
    "detector = cv2.ORB_create()\n",
    "kp1, desc1 = detector.detectAndCompute(gray1, None)\n",
    "kp2, desc2 = detector.detectAndCompute(gray2, None)"
   ]
  },
  {
   "cell_type": "code",
   "execution_count": 25,
   "id": "83967249",
   "metadata": {},
   "outputs": [],
   "source": [
    "matcher = cv2.BFMatcher(cv2.NORM_HAMMING, crossCheck=True)\n",
    "matches = matcher.match(desc1, desc2)"
   ]
  },
  {
   "cell_type": "code",
   "execution_count": 26,
   "id": "08ec3e06",
   "metadata": {},
   "outputs": [],
   "source": [
    "# 매칭 결과를 거리 기준 오름차순 정렬\n",
    "matches = sorted(matches, key=lambda x:x.distance)"
   ]
  },
  {
   "cell_type": "code",
   "execution_count": 27,
   "id": "2d7b0d92",
   "metadata": {},
   "outputs": [],
   "source": [
    "# 모든 매칭점 그리기\n",
    "res1 = cv2.drawMatches(img1, kp1, img2, kp2, matches, None,\n",
    "                      flags = cv2.DRAW_MATCHES_FLAGS_NOT_DRAW_SINGLE_POINTS)"
   ]
  },
  {
   "cell_type": "code",
   "execution_count": 28,
   "id": "07455c12",
   "metadata": {},
   "outputs": [],
   "source": [
    "# 매칭점으로 원근 변환 및 영역 표시\n",
    "src_pts = np.float32([kp1[m.queryIdx].pt for m in matches])\n",
    "dst_pts = np.float32([kp2[m.trainIdx].pt for m in matches])"
   ]
  },
  {
   "cell_type": "code",
   "execution_count": 29,
   "id": "0008a072",
   "metadata": {},
   "outputs": [],
   "source": [
    "# RANSAC으로 변환행렬 근사 계산\n",
    "mtrx, mask = cv2.findHomography(src_pts, dst_pts, cv2.RANSAC, 5.0)\n",
    "h,w = img1.shape[:2]\n",
    "pts = np.float32([ [[0, 0]], [[0, h-1]], [[w-1, h-1]], [[w-1, 0]] ])\n",
    "dst = cv2.perspectiveTransform(pts, mtrx)\n",
    "img2 = cv2.polylines(img2, [np.int32(dst)], True, 255, 3, cv2.LINE_AA)"
   ]
  },
  {
   "cell_type": "code",
   "execution_count": 30,
   "id": "dede5263",
   "metadata": {},
   "outputs": [],
   "source": [
    "# 정상치 매칭만 그리기\n",
    "matchesMask = mask.ravel().tolist()\n",
    "res2 = cv2.drawMatches(img1, kp1, img2, kp2, matches, None,\n",
    "                     matchesMask = matchesMask,\n",
    "                     flags = cv2.DRAW_MATCHES_FLAGS_NOT_DRAW_SINGLE_POINTS)"
   ]
  },
  {
   "cell_type": "code",
   "execution_count": 31,
   "id": "4600e693",
   "metadata": {},
   "outputs": [
    {
     "name": "stdout",
     "output_type": "stream",
     "text": [
      "accuracy: 25/135(0.19)\n"
     ]
    }
   ],
   "source": [
    "# 모든 매칭점과 정상치 비율\n",
    "accuracy = float(mask.sum()) / mask.size\n",
    "print(f'accuracy: {mask.sum():d}/{mask.size:d}({accuracy:.2f})')"
   ]
  },
  {
   "cell_type": "code",
   "execution_count": 32,
   "id": "ab6fdb74",
   "metadata": {},
   "outputs": [],
   "source": [
    "# 결과 출력\n",
    "cv2.imshow('Matching-All', res1)\n",
    "cv2.imshow('Matching-Inlier', res2)\n",
    "cv2.waitKey()\n",
    "cv2.destroyAllWindows()"
   ]
  },
  {
   "cell_type": "code",
   "execution_count": null,
   "id": "3cb1f950",
   "metadata": {},
   "outputs": [],
   "source": []
  }
 ],
 "metadata": {
  "kernelspec": {
   "display_name": "Python 3 (ipykernel)",
   "language": "python",
   "name": "python3"
  },
  "language_info": {
   "codemirror_mode": {
    "name": "ipython",
    "version": 3
   },
   "file_extension": ".py",
   "mimetype": "text/x-python",
   "name": "python",
   "nbconvert_exporter": "python",
   "pygments_lexer": "ipython3",
   "version": "3.8.10"
  }
 },
 "nbformat": 4,
 "nbformat_minor": 5
}
