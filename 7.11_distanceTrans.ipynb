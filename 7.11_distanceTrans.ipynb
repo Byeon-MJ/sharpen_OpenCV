{
 "cells": [
  {
   "cell_type": "code",
   "execution_count": 1,
   "id": "a23f6ef0",
   "metadata": {},
   "outputs": [],
   "source": [
    "import cv2\n",
    "import numpy as np"
   ]
  },
  {
   "cell_type": "code",
   "execution_count": 15,
   "id": "2c7ee7b9",
   "metadata": {},
   "outputs": [],
   "source": [
    "# Read a image and convert to binary scale\n",
    "img = cv2.imread('./img/full_body.jpg', cv2.IMREAD_GRAYSCALE)\n",
    "_, biimg = cv2.threshold(img, 127, 255, cv2.THRESH_BINARY_INV)"
   ]
  },
  {
   "cell_type": "code",
   "execution_count": 18,
   "id": "7b1e58a9",
   "metadata": {},
   "outputs": [],
   "source": [
    "# Distance transform\n",
    "dst = cv2.distanceTransform(biimg, cv2.DIST_L2, 5)\n",
    "\n",
    "# Normalize distance values to a range of 0 to 255\n",
    "dst = (dst/(dst.max()-dst.min()) * 255).astype(np.uint8)\n",
    "\n",
    "# Find complete skeleton using threshold on distance values\n",
    "skeleton = cv2.adaptiveThreshold(dst, 255, cv2.ADAPTIVE_THRESH_GAUSSIAN_C, cv2.THRESH_BINARY, 7, -3)"
   ]
  },
  {
   "cell_type": "code",
   "execution_count": 19,
   "id": "aeec9b22",
   "metadata": {},
   "outputs": [],
   "source": [
    "# Output result\n",
    "merged = np.hstack((img, dst, skeleton))\n",
    "cv2.imshow('origin, dist, skel', merged)\n",
    "cv2.waitKey(0)\n",
    "cv2.destroyAllWindows()"
   ]
  },
  {
   "cell_type": "code",
   "execution_count": null,
   "id": "1670d22b",
   "metadata": {},
   "outputs": [],
   "source": []
  }
 ],
 "metadata": {
  "kernelspec": {
   "display_name": "py3_8_5",
   "language": "python",
   "name": "py3_8_5"
  },
  "language_info": {
   "codemirror_mode": {
    "name": "ipython",
    "version": 3
   },
   "file_extension": ".py",
   "mimetype": "text/x-python",
   "name": "python",
   "nbconvert_exporter": "python",
   "pygments_lexer": "ipython3",
   "version": "3.8.5"
  }
 },
 "nbformat": 4,
 "nbformat_minor": 5
}
