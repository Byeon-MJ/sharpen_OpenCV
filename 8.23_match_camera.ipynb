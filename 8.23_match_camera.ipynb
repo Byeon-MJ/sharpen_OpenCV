{
 "cells": [
  {
   "cell_type": "code",
   "execution_count": 1,
   "id": "5173ba59",
   "metadata": {},
   "outputs": [],
   "source": [
    "import cv2\n",
    "import numpy as np"
   ]
  },
  {
   "cell_type": "code",
   "execution_count": 2,
   "id": "8aa68304",
   "metadata": {},
   "outputs": [],
   "source": [
    "img1 = None\n",
    "win_name = 'Camera Matching'\n",
    "min_match = 10"
   ]
  },
  {
   "cell_type": "code",
   "execution_count": 3,
   "id": "2c9fed4f",
   "metadata": {},
   "outputs": [],
   "source": [
    "# ORB 검출기 생성\n",
    "detector = cv2.ORB_create(1000)"
   ]
  },
  {
   "cell_type": "code",
   "execution_count": 4,
   "id": "b1af2b1c",
   "metadata": {},
   "outputs": [],
   "source": [
    "# Flann 추출기 생성\n",
    "flann_index_lsh = 6\n",
    "index_params = dict(algorithm = flann_index_lsh, table_number = 6,\n",
    "                   key_size = 12, multi_probe_level = 1)\n",
    "search_params = dict(checks = 32)\n",
    "matcher = cv2.FlannBasedMatcher(index_params, search_params)"
   ]
  },
  {
   "cell_type": "code",
   "execution_count": 5,
   "id": "12053889",
   "metadata": {},
   "outputs": [
    {
     "data": {
      "text/plain": [
       "False"
      ]
     },
     "execution_count": 5,
     "metadata": {},
     "output_type": "execute_result"
    }
   ],
   "source": [
    "# 카메라 캡쳐 연결 및 프레임 크기 축소\n",
    "cap = cv2.VideoCapture(0)\n",
    "cap.set(cv2.CAP_PROP_FRAME_WIDTH, 640)\n",
    "cap.set(cv2.CAP_PROP_FRAME_HEIGHT, 480)"
   ]
  },
  {
   "cell_type": "code",
   "execution_count": 6,
   "id": "fb4d879c",
   "metadata": {},
   "outputs": [
    {
     "name": "stdout",
     "output_type": "stream",
     "text": [
      "can't open camera.\n"
     ]
    }
   ],
   "source": [
    "while cap.isOpened():\n",
    "    ret, frame = cap.read()\n",
    "    if img1 is None:  # 등록된 이미지 없음, 매칭 과정 없이 카메라 영상을 곧바로 출력\n",
    "        res = frame\n",
    "    else:             # 등록된 이미지가 있는 경우, 매칭 시작\n",
    "        img2 = frame\n",
    "        gray1 = cv2.cvtColor(img1, cv2.COLOR_BGR2GRAY)\n",
    "        gray2 = cv2.cvtColor(img2, cv2.COLOR_BGR2GRAY)\n",
    "        \n",
    "        # 키 포인트와 디스크립터 추출\n",
    "        kp1, desc1 = detector.detectAndCompute(gray1, None)\n",
    "        kp2, desc2 = detector.detectAndCompute(gray2, None)\n",
    "        \n",
    "        # knnMatch, k=2\n",
    "        matches = matcher.knnMatch(desc1, desc2, 2)\n",
    "        \n",
    "        # 이웃 거리의 75%로 좋은 매칭점 추출\n",
    "        ratio = 0.75\n",
    "        good_matches = [m[0] for m in matches \n",
    "                        if len(m) == 2 and m[0].distance < m[1].distance * ratio]\n",
    "        \n",
    "        print(f'good matches:{len(good_matches):d}/{len(matches):d}')\n",
    "        # 모든 매칭점을 그리지 못하게 마스크를 0으로 채움\n",
    "        matchesMask = np.zeros(len(good_matches)).tolist()\n",
    "        \n",
    "        # 좋은 매칭점이 최소 개수 이상인 경우\n",
    "        if len(good_matches) > min_matches:\n",
    "            \n",
    "            # 좋은 매칭점으로 원본과 대상 영상의 좌표 구하기\n",
    "            src_pts = np.float32([kp1[m.queryIdx].pt for m in good_matches])\n",
    "            dst_pts = np.float32([kp2[m.trainIdx].pt for m in good_matches])\n",
    "            \n",
    "            # 원근 변환행렬 구하기\n",
    "            mtrx, mask = cv2.findHomography(src_pts, dst_pts, cv2.RANSAC, 5.0)\n",
    "            accuracy = float(mask.sum()) / mask.size\n",
    "            print(f'accuracy:{mask.sum():d}/{mask.size:d}({accuracy:.2f}%)')\n",
    "            if mask.sum() > min_match:  # 정상치 매칭점이 최소 개수 이상인 경우\n",
    "                \n",
    "                # 이상점 매칭점만 그리게 마스크 설정\n",
    "                matchesMask = mask.ravel().tolist()\n",
    "                \n",
    "                # 원본 영상 좌표로 원근 변환 후 영역 표시\n",
    "                h, w, = img1.shape[:2]\n",
    "                pts = np.float32([ [[0, 0]], [[0, h-1]], [[w-1, h1]], [[w-1, 0]] ])\n",
    "                dst = cv2.perspectiveTransform(pts, mtrx)\n",
    "                img2 = cv2.polylines(img2, [np.int32(dst)], True, 255, 3, cv2.LINE_AA)\n",
    "        \n",
    "        # 마스크로 매칭점 그리기\n",
    "        res = cv2.drawMatches(img1, kp1, img2, kp2, good_matches, None,\n",
    "                             matchesMask=matchesMask,\n",
    "                             flags=cv2.DRAW_MATCHES_FLAGS_NOT_DRAW_SINGLE_POINTS)\n",
    "\n",
    "    # 결과 출력\n",
    "    cv2.imshow(win_name, res)\n",
    "    key = cv2.waitKey(1)\n",
    "    if key == 27:  # ESC, 종료\n",
    "        break\n",
    "    elif key == ord(' '):  # 스페이스바를 누르면 ROI로 img1 설정\n",
    "        x, y, w, h = cv2.selectROI(win_name, frame, False)\n",
    "        if w and h:\n",
    "            img1 = frame[y:y+h, x:x+w]\n",
    "else:\n",
    "    print(\"can't open camera.\")\n",
    "cap.release()\n",
    "cv2.destroyAllWindows()"
   ]
  },
  {
   "cell_type": "code",
   "execution_count": null,
   "id": "69861e95",
   "metadata": {},
   "outputs": [],
   "source": []
  }
 ],
 "metadata": {
  "kernelspec": {
   "display_name": "Python 3 (ipykernel)",
   "language": "python",
   "name": "python3"
  },
  "language_info": {
   "codemirror_mode": {
    "name": "ipython",
    "version": 3
   },
   "file_extension": ".py",
   "mimetype": "text/x-python",
   "name": "python",
   "nbconvert_exporter": "python",
   "pygments_lexer": "ipython3",
   "version": "3.8.10"
  }
 },
 "nbformat": 4,
 "nbformat_minor": 5
}
