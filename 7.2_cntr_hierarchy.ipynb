{
 "cells": [
  {
   "cell_type": "code",
   "execution_count": 1,
   "id": "87d6fbeb",
   "metadata": {},
   "outputs": [],
   "source": [
    "import cv2\n",
    "import numpy as np"
   ]
  },
  {
   "cell_type": "code",
   "execution_count": 2,
   "id": "808a1031",
   "metadata": {},
   "outputs": [],
   "source": [
    "# 영상 읽기\n",
    "img = cv2.imread('./img/shapes_donut.png')\n",
    "img2 = img.copy()"
   ]
  },
  {
   "cell_type": "code",
   "execution_count": 3,
   "id": "bd81784f",
   "metadata": {},
   "outputs": [],
   "source": [
    "# 바이너리 이미지로 변환\n",
    "img_gray = cv2.cvtColor(img, cv2.COLOR_BGR2GRAY)\n",
    "ret, imthres = cv2.threshold(img_gray, 127, 255, cv2.THRESH_BINARY_INV)"
   ]
  },
  {
   "cell_type": "code",
   "execution_count": 5,
   "id": "1f5586c1",
   "metadata": {},
   "outputs": [],
   "source": [
    "# 가장 바깥 컨투어만 수집\n",
    "contour, hierarchy = cv2.findContours(imthres, cv2.RETR_EXTERNAL, cv2.CHAIN_APPROX_NONE)[-2:]"
   ]
  },
  {
   "cell_type": "code",
   "execution_count": 6,
   "id": "d96d297f",
   "metadata": {},
   "outputs": [
    {
     "name": "stdout",
     "output_type": "stream",
     "text": [
      "3 [[[ 1 -1 -1 -1]\n",
      "  [ 2  0 -1 -1]\n",
      "  [-1  1 -1 -1]]]\n"
     ]
    }
   ],
   "source": [
    "# 컨투어 개수와 계층 트리 출력\n",
    "print(len(contour), hierarchy)"
   ]
  },
  {
   "cell_type": "code",
   "execution_count": 8,
   "id": "2bb0de6d",
   "metadata": {},
   "outputs": [],
   "source": [
    "# 모든 컨투어를 트리 계층으로 수집\n",
    "contour2, hierarchy2 = cv2.findContours(imthres, cv2.RETR_TREE, cv2.CHAIN_APPROX_SIMPLE)[-2:]"
   ]
  },
  {
   "cell_type": "code",
   "execution_count": 9,
   "id": "31789992",
   "metadata": {},
   "outputs": [
    {
     "name": "stdout",
     "output_type": "stream",
     "text": [
      "6 [[[ 2 -1  1 -1]\n",
      "  [-1 -1 -1  0]\n",
      "  [ 4  0  3 -1]\n",
      "  [-1 -1 -1  2]\n",
      "  [-1  2  5 -1]\n",
      "  [-1 -1 -1  4]]]\n"
     ]
    }
   ],
   "source": [
    "# 컨투어 개수와 계층 트리 출력\n",
    "print(len(contour2), hierarchy2)"
   ]
  },
  {
   "cell_type": "code",
   "execution_count": 10,
   "id": "b2aad6b9",
   "metadata": {},
   "outputs": [],
   "source": [
    "# 가장 바깥 컨투어만 그리기\n",
    "cv2.drawContours(img, contour, -1, (0, 255, 0), 3)\n",
    "\n",
    "# 모든 컨투어 그리기\n",
    "for idx, cont in enumerate(contour2):\n",
    "    # 랜덤한 컬러 추출\n",
    "    color = [int(i) for i in np.random.randint(0, 255, 3)]\n",
    "    # 컨투어 인덱스마다 랜덤한 색상으로 그리기\n",
    "    cv2.drawContours(img2, contour2, idx, color, 3)\n",
    "    # 컨투어 첫 좌표에 인덱스 숫자 표시\n",
    "    cv2.putText(img2, str(idx), tuple(cont[0][0]), cv2.FONT_HERSHEY_PLAIN, 1, (0, 0, 255))"
   ]
  },
  {
   "cell_type": "code",
   "execution_count": 11,
   "id": "d6202693",
   "metadata": {},
   "outputs": [],
   "source": [
    "# 화면 출력\n",
    "cv2.imshow('RETR_EXTERNAL', img)\n",
    "cv2.imshow('RETR_TREE', img2)\n",
    "cv2.waitKey()\n",
    "cv2.destroyAllWindows()"
   ]
  },
  {
   "cell_type": "code",
   "execution_count": null,
   "id": "87f3b462",
   "metadata": {},
   "outputs": [],
   "source": []
  }
 ],
 "metadata": {
  "kernelspec": {
   "display_name": "py3_8_5",
   "language": "python",
   "name": "py3_8_5"
  },
  "language_info": {
   "codemirror_mode": {
    "name": "ipython",
    "version": 3
   },
   "file_extension": ".py",
   "mimetype": "text/x-python",
   "name": "python",
   "nbconvert_exporter": "python",
   "pygments_lexer": "ipython3",
   "version": "3.8.5"
  }
 },
 "nbformat": 4,
 "nbformat_minor": 5
}
