{
 "cells": [
  {
   "cell_type": "code",
   "execution_count": 1,
   "id": "f76608e4",
   "metadata": {},
   "outputs": [],
   "source": [
    "import cv2\n",
    "import numpy as np"
   ]
  },
  {
   "cell_type": "code",
   "execution_count": 2,
   "id": "71f2e1e0",
   "metadata": {},
   "outputs": [],
   "source": [
    "img = cv2.imread('./img/taekwonv1.jpg')"
   ]
  },
  {
   "cell_type": "code",
   "execution_count": null,
   "id": "493ef8d8",
   "metadata": {},
   "outputs": [],
   "source": [
    "# Trackbar event handling function\n",
    "def onChange(x):\n",
    "    # sp, sr, level"
   ]
  }
 ],
 "metadata": {
  "kernelspec": {
   "display_name": "py3_8_5",
   "language": "python",
   "name": "py3_8_5"
  },
  "language_info": {
   "codemirror_mode": {
    "name": "ipython",
    "version": 3
   },
   "file_extension": ".py",
   "mimetype": "text/x-python",
   "name": "python",
   "nbconvert_exporter": "python",
   "pygments_lexer": "ipython3",
   "version": "3.8.5"
  }
 },
 "nbformat": 4,
 "nbformat_minor": 5
}
