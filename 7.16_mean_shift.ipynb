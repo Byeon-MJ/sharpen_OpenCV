{
 "cells": [
  {
   "cell_type": "code",
   "execution_count": 1,
   "id": "f76608e4",
   "metadata": {},
   "outputs": [],
   "source": [
    "import cv2\n",
    "import numpy as np"
   ]
  },
  {
   "cell_type": "code",
   "execution_count": 8,
   "id": "71f2e1e0",
   "metadata": {},
   "outputs": [],
   "source": [
    "img = cv2.imread('./img/taekwonv1.jpg')\n",
    "img2 = img.copy()"
   ]
  },
  {
   "cell_type": "code",
   "execution_count": 9,
   "id": "493ef8d8",
   "metadata": {},
   "outputs": [],
   "source": [
    "# Trackbar event handling function\n",
    "def onChange(x):\n",
    "    # Collect the selected values for sp, sr, level\n",
    "    sp = cv2.getTrackbarPos('sp', 'img')\n",
    "    sr = cv2.getTrackbarPos('sr', 'img')\n",
    "    lv = cv2.getTrackbarPos('lv', 'img')\n",
    "    \n",
    "    # Apply MeanShiftFiltering\n",
    "    mean = cv2.pyrMeanShiftFiltering(img, sp, sr, None, lv)\n",
    "    # Print converted image\n",
    "    cv2.imshow('img', np.hstack((img2, mean)))"
   ]
  },
  {
   "cell_type": "code",
   "execution_count": 10,
   "id": "503d9420",
   "metadata": {},
   "outputs": [],
   "source": [
    "# Output initial image\n",
    "cv2.imshow('img', np.hstack((img, img2)))\n",
    "# Connect trackbar handle function\n",
    "cv2.createTrackbar('sp', 'img', 0, 100, onChange)\n",
    "cv2.createTrackbar('sr', 'img', 0, 100, onChange)\n",
    "cv2.createTrackbar('lv', 'img', 0, 5, onChange)\n",
    "cv2.waitKey()\n",
    "cv2.destroyAllWindows()"
   ]
  },
  {
   "cell_type": "code",
   "execution_count": null,
   "id": "b6f8f996",
   "metadata": {},
   "outputs": [],
   "source": []
  }
 ],
 "metadata": {
  "kernelspec": {
   "display_name": "Python 3 (ipykernel)",
   "language": "python",
   "name": "python3"
  },
  "language_info": {
   "codemirror_mode": {
    "name": "ipython",
    "version": 3
   },
   "file_extension": ".py",
   "mimetype": "text/x-python",
   "name": "python",
   "nbconvert_exporter": "python",
   "pygments_lexer": "ipython3",
   "version": "3.8.10"
  }
 },
 "nbformat": 4,
 "nbformat_minor": 5
}
