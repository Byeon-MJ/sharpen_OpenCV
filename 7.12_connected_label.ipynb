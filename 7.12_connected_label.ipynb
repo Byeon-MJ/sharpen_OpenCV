{
 "cells": [
  {
   "cell_type": "code",
   "execution_count": 1,
   "id": "fc29b02d",
   "metadata": {},
   "outputs": [],
   "source": [
    "import cv2\n",
    "import numpy as np"
   ]
  },
  {
   "cell_type": "code",
   "execution_count": 4,
   "id": "662a8549",
   "metadata": {},
   "outputs": [],
   "source": [
    "# Read a image\n",
    "img = cv2.imread('./img/shapes_donut.png')\n",
    "# Create a result image\n",
    "img2 = np.zeros_like(img)\n",
    "# Convert to gray and binary scale\n",
    "gray = cv2.cvtColor(img, cv2.COLOR_BGR2GRAY)\n",
    "_, th = cv2.threshold(gray, 127, 255, cv2.THRESH_BINARY)"
   ]
  },
  {
   "cell_type": "code",
   "execution_count": 5,
   "id": "79c44c01",
   "metadata": {},
   "outputs": [],
   "source": [
    "# Apply connected component labeling\n",
    "cnt, labels = cv2.connectedComponents(th)\n",
    "# retval, labels, stats, cent = cv2.connectedComponentsWithStats(th)"
   ]
  },
  {
   "cell_type": "code",
   "execution_count": 6,
   "id": "66bbb2b1",
   "metadata": {},
   "outputs": [],
   "source": [
    "# Iterate as many as the number of labels\n",
    "for i in range(cnt):\n",
    "    # Apply random colors to areas with the same label\n",
    "    img2[labels==i] = [int(j) for j in np.random.randint(0, 255, 3)]"
   ]
  },
  {
   "cell_type": "code",
   "execution_count": 9,
   "id": "7c63c1f5",
   "metadata": {},
   "outputs": [],
   "source": [
    "# Output result\n",
    "merged = np.hstack((img, img2))\n",
    "cv2.imshow('origin, labeled', merged)\n",
    "cv2.waitKey()\n",
    "cv2.destroyAllWindows()"
   ]
  },
  {
   "cell_type": "code",
   "execution_count": null,
   "id": "0505c32b",
   "metadata": {},
   "outputs": [],
   "source": []
  }
 ],
 "metadata": {
  "kernelspec": {
   "display_name": "py3_8_5",
   "language": "python",
   "name": "py3_8_5"
  },
  "language_info": {
   "codemirror_mode": {
    "name": "ipython",
    "version": 3
   },
   "file_extension": ".py",
   "mimetype": "text/x-python",
   "name": "python",
   "nbconvert_exporter": "python",
   "pygments_lexer": "ipython3",
   "version": "3.8.5"
  }
 },
 "nbformat": 4,
 "nbformat_minor": 5
}
