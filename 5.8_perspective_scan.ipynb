{
 "cells": [
  {
   "cell_type": "code",
   "execution_count": 1,
   "id": "90200a86",
   "metadata": {},
   "outputs": [],
   "source": [
    "import cv2\n",
    "import numpy as np"
   ]
  },
  {
   "cell_type": "code",
   "execution_count": 12,
   "id": "ff2543fa",
   "metadata": {},
   "outputs": [],
   "source": [
    "win_name = 'scanning'\n",
    "img = cv2.imread('./img/paper.jpg')\n",
    "rows, cols = img.shape[:2]\n",
    "draw = img.copy()\n",
    "pts_cnt = 0\n",
    "pts = np.zeros((4, 2), dtype=np.float32)"
   ]
  },
  {
   "cell_type": "code",
   "execution_count": 13,
   "id": "593672f9",
   "metadata": {},
   "outputs": [],
   "source": [
    "# 마우스 이벤트 콜백 함수 구현\n",
    "def onMouse(event, x, y, flags, param):\n",
    "    global pts_cnt                           # 마우스 좌표 저장\n",
    "    if event == cv2.EVENT_LBUTTONDOWN:\n",
    "        cv2.circle(draw, (x, y), 10, (0, 255, 0), -1)  # 죄표에 초록색 동그라미 표시\n",
    "        cv2.imshow(win_name, draw)\n",
    "        \n",
    "        pts[pts_cnt] = [x, y]                 # 마우스 좌표 저장\n",
    "        pts_cnt += 1\n",
    "        \n",
    "        # 좌표가 4개 수집됨\n",
    "        if pts_cnt == 4:\n",
    "            # 죄표 4개 중 상하좌우 찾기\n",
    "            sm = pts.sum(axis=1)              # 4쌍의 좌표 각각 x+y 계산\n",
    "            diff = np.diff(pts, axis = 1)     # 4쌍의 좌표 각각 x-y 계산\n",
    "            \n",
    "            topLeft = pts[np.argmin(sm)]      # x+y가 가장 작은 값이 좌상단 좌표\n",
    "            bottomRight = pts[np.argmax(sm)]  # x+y가 가장 큰 값이 우하단 좌표\n",
    "            topRight = pts[np.argmin(diff)]   # x-y가 가장 작은 값이 우상단 좌표\n",
    "            bottomLeft = pts[np.argmax(diff)] # x-y가 가장 큰 값이 좌하단 좌표\n",
    "            \n",
    "            # 변환 전 4개의 좌표\n",
    "            pts1 = np.float32([topLeft, topRight, bottomRight, bottomLeft])\n",
    "            \n",
    "            # 변환 후 영상에 사용할 서류의 폭과 높이 계산\n",
    "            w1 = abs(bottomRight[0] - bottomLeft[0])    # 하단 좌우 좌표 거리\n",
    "            w2 = abs(topRight[0] - topLeft[0])          # 상단 좌우 좌표 거리\n",
    "            h1 = abs(topRight[1] - bottomRight[1])      # 우측 상하 좌표 거리\n",
    "            h2 = abs(topLeft[1] - bottomLeft[1])        # 좌측 상하 좌표 거리\n",
    "            width = max([w1, w2])                       # 두 좌우 거리 간의 최대 값이 서류의 폭\n",
    "            height = max([h1, h2])                      # 두 상하 거리 간의 최대 값이 서류의 높이\n",
    "            \n",
    "            # 변환 후 4개의 좌표\n",
    "            pts2 = np.float32([[0, 0], [width-1, 0], [width-1, height-1], [0, height-1]])\n",
    "            \n",
    "            # 변환행렬 계산\n",
    "            mtrx = cv2.getPerspectiveTransform(pts1, pts2)\n",
    "            \n",
    "            # 원근 변환 적용\n",
    "            result = cv2.warpPerspective(img, mtrx, (int(width), int(height)))\n",
    "            \n",
    "            cv2.imshow('scanned', result)"
   ]
  },
  {
   "cell_type": "code",
   "execution_count": 14,
   "id": "5df32838",
   "metadata": {},
   "outputs": [],
   "source": [
    "# 결과 출력\n",
    "cv2.imshow(win_name, img)\n",
    "cv2.setMouseCallback(win_name, onMouse)\n",
    "cv2.waitKey(0)\n",
    "cv2.destroyAllWindows()"
   ]
  },
  {
   "cell_type": "code",
   "execution_count": null,
   "id": "85a8420d",
   "metadata": {},
   "outputs": [],
   "source": []
  }
 ],
 "metadata": {
  "kernelspec": {
   "display_name": "Python 3 (ipykernel)",
   "language": "python",
   "name": "python3"
  },
  "language_info": {
   "codemirror_mode": {
    "name": "ipython",
    "version": 3
   },
   "file_extension": ".py",
   "mimetype": "text/x-python",
   "name": "python",
   "nbconvert_exporter": "python",
   "pygments_lexer": "ipython3",
   "version": "3.8.10"
  }
 },
 "nbformat": 4,
 "nbformat_minor": 5
}
