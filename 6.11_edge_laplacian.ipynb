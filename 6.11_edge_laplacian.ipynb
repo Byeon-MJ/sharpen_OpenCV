{
 "cells": [
  {
   "cell_type": "code",
   "execution_count": 1,
   "id": "0d6d83ab",
   "metadata": {},
   "outputs": [],
   "source": [
    "import cv2\n",
    "import numpy as np"
   ]
  },
  {
   "cell_type": "code",
   "execution_count": 2,
   "id": "634bbca2",
   "metadata": {},
   "outputs": [],
   "source": [
    "img = cv2.imread('./img/sudoku.jpg')"
   ]
  },
  {
   "cell_type": "code",
   "execution_count": 3,
   "id": "e4db8455",
   "metadata": {},
   "outputs": [],
   "source": [
    "# Apply Laplacian filter\n",
    "edge = cv2.Laplacian(img, -1)"
   ]
  },
  {
   "cell_type": "code",
   "execution_count": 4,
   "id": "7683677e",
   "metadata": {},
   "outputs": [],
   "source": [
    "# Output Result\n",
    "merged = np.hstack((img, edge))\n",
    "cv2.imshow('Laplacian', merged)\n",
    "cv2.waitKey()\n",
    "cv2.destroyAllWindows()"
   ]
  },
  {
   "cell_type": "code",
   "execution_count": null,
   "id": "d5793e61",
   "metadata": {},
   "outputs": [],
   "source": []
  }
 ],
 "metadata": {
  "kernelspec": {
   "display_name": "py3_8_5",
   "language": "python",
   "name": "py3_8_5"
  },
  "language_info": {
   "codemirror_mode": {
    "name": "ipython",
    "version": 3
   },
   "file_extension": ".py",
   "mimetype": "text/x-python",
   "name": "python",
   "nbconvert_exporter": "python",
   "pygments_lexer": "ipython3",
   "version": "3.8.5"
  }
 },
 "nbformat": 4,
 "nbformat_minor": 5
}
