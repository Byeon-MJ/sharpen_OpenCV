{
 "cells": [
  {
   "cell_type": "code",
   "execution_count": 1,
   "id": "9129e50d",
   "metadata": {},
   "outputs": [],
   "source": [
    "import cv2\n",
    "import numpy as np"
   ]
  },
  {
   "cell_type": "code",
   "execution_count": 2,
   "id": "347bef9b",
   "metadata": {},
   "outputs": [],
   "source": [
    "img = cv2.imread('./img/girl.jpg')\n",
    "\n",
    "# dtype 변경\n",
    "img2 = img.astype(np.uint16)\n",
    "\n",
    "# 채널별로 분리\n",
    "b, g, r = cv2.split(img2)\n",
    "\n",
    "# 평균값 연산 후 dtype 되돌리기\n",
    "gray1 = ((b + g + r)/3).astype(np.uint8)\n",
    "\n",
    "# BGR을 그레이 스케일로 변경\n",
    "gray2 = cv2.cvtColor(img, cv2.COLOR_BGR2GRAY)"
   ]
  },
  {
   "cell_type": "code",
   "execution_count": 3,
   "id": "0a4ba21f",
   "metadata": {},
   "outputs": [],
   "source": [
    "cv2.imshow('Original', img)\n",
    "cv2.imshow('Gray1', gray1)\n",
    "cv2.imshow('Gray2', gray2)\n",
    "\n",
    "cv2.waitKey(0)\n",
    "cv2.destroyAllWindows()"
   ]
  },
  {
   "cell_type": "code",
   "execution_count": null,
   "id": "1aaa5afb",
   "metadata": {},
   "outputs": [],
   "source": []
  }
 ],
 "metadata": {
  "kernelspec": {
   "display_name": "py3_8_5",
   "language": "python",
   "name": "py3_8_5"
  },
  "language_info": {
   "codemirror_mode": {
    "name": "ipython",
    "version": 3
   },
   "file_extension": ".py",
   "mimetype": "text/x-python",
   "name": "python",
   "nbconvert_exporter": "python",
   "pygments_lexer": "ipython3",
   "version": "3.8.5"
  }
 },
 "nbformat": 4,
 "nbformat_minor": 5
}
