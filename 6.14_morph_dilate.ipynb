{
 "cells": [
  {
   "cell_type": "code",
   "execution_count": 1,
   "id": "bd287045",
   "metadata": {},
   "outputs": [],
   "source": [
    "import cv2\n",
    "import numpy as np"
   ]
  },
  {
   "cell_type": "code",
   "execution_count": 2,
   "id": "6e2a2e80",
   "metadata": {},
   "outputs": [],
   "source": [
    "img = cv2.imread('./img/morph_hole.png')"
   ]
  },
  {
   "cell_type": "code",
   "execution_count": 3,
   "id": "b8c3d901",
   "metadata": {},
   "outputs": [],
   "source": [
    "# Structuring element kernel, Create rectangle(3 x 3)\n",
    "k = cv2.getStructuringElement(cv2.MORPH_RECT, (3, 3))\n",
    "\n",
    "# Apply dilatation\n",
    "dst = cv2.dilate(img, k)"
   ]
  },
  {
   "cell_type": "code",
   "execution_count": 4,
   "id": "aca0dc53",
   "metadata": {},
   "outputs": [],
   "source": [
    "# Output result\n",
    "merged = np.hstack((img, dst))\n",
    "cv2.imshow('Dilation', merged)\n",
    "cv2.waitKey()\n",
    "cv2.destroyAllWindows()"
   ]
  },
  {
   "cell_type": "code",
   "execution_count": null,
   "id": "5956fb4d",
   "metadata": {},
   "outputs": [],
   "source": []
  }
 ],
 "metadata": {
  "kernelspec": {
   "display_name": "py3_8_5",
   "language": "python",
   "name": "py3_8_5"
  },
  "language_info": {
   "codemirror_mode": {
    "name": "ipython",
    "version": 3
   },
   "file_extension": ".py",
   "mimetype": "text/x-python",
   "name": "python",
   "nbconvert_exporter": "python",
   "pygments_lexer": "ipython3",
   "version": "3.8.5"
  }
 },
 "nbformat": 4,
 "nbformat_minor": 5
}
