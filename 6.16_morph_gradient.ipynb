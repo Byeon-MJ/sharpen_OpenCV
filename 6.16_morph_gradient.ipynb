{
 "cells": [
  {
   "cell_type": "code",
   "execution_count": 1,
   "id": "f2261575",
   "metadata": {},
   "outputs": [],
   "source": [
    "import cv2\n",
    "import numpy as np"
   ]
  },
  {
   "cell_type": "code",
   "execution_count": 2,
   "id": "c1c7abcd",
   "metadata": {},
   "outputs": [],
   "source": [
    "img = cv2.imread('./img/morphological.png')"
   ]
  },
  {
   "cell_type": "code",
   "execution_count": 4,
   "id": "c64f3050",
   "metadata": {},
   "outputs": [],
   "source": [
    "# Structuring element kernel, Create rectangle(3 x 3)\n",
    "k = cv2.getStructuringElement(cv2.MORPH_RECT, (3, 3))"
   ]
  },
  {
   "cell_type": "code",
   "execution_count": 5,
   "id": "6d940dad",
   "metadata": {},
   "outputs": [],
   "source": [
    "# Apply gradient operation\n",
    "gradient = cv2.morphologyEx(img, cv2.MORPH_GRADIENT, k)"
   ]
  },
  {
   "cell_type": "code",
   "execution_count": 6,
   "id": "0adcae95",
   "metadata": {},
   "outputs": [],
   "source": [
    "# output result\n",
    "merged = np.hstack((img, gradient))\n",
    "cv2.imshow('gradient', merged)\n",
    "cv2.waitKey()\n",
    "cv2.destroyAllWindows()"
   ]
  },
  {
   "cell_type": "code",
   "execution_count": null,
   "id": "d07ba6e5",
   "metadata": {},
   "outputs": [],
   "source": []
  }
 ],
 "metadata": {
  "kernelspec": {
   "display_name": "py3_8_5",
   "language": "python",
   "name": "py3_8_5"
  },
  "language_info": {
   "codemirror_mode": {
    "name": "ipython",
    "version": 3
   },
   "file_extension": ".py",
   "mimetype": "text/x-python",
   "name": "python",
   "nbconvert_exporter": "python",
   "pygments_lexer": "ipython3",
   "version": "3.8.5"
  }
 },
 "nbformat": 4,
 "nbformat_minor": 5
}
