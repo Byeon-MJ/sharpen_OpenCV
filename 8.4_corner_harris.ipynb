{
 "cells": [
  {
   "cell_type": "code",
   "execution_count": 1,
   "id": "9c5bc484",
   "metadata": {},
   "outputs": [],
   "source": [
    "import cv2\n",
    "import numpy as np"
   ]
  },
  {
   "cell_type": "code",
   "execution_count": 2,
   "id": "b7fcd760",
   "metadata": {},
   "outputs": [],
   "source": [
    "img = cv2.imread('./img/house.jpg')\n",
    "gray = cv2.cvtColor(img, cv2.COLOR_BGR2GRAY)"
   ]
  },
  {
   "cell_type": "code",
   "execution_count": 3,
   "id": "f3daefc7",
   "metadata": {},
   "outputs": [],
   "source": [
    "# Harris corner detection\n",
    "corner = cv2.cornerHarris(gray, 2, 3, 0.04)\n",
    "# Get coordinates with a maximum difference of 10% in the result\n",
    "coord = np.where(corner > 0.1 * corner.max())\n",
    "coord = np.stack((coord[1], coord[0]), axis=-1)"
   ]
  },
  {
   "cell_type": "code",
   "execution_count": 4,
   "id": "03306784",
   "metadata": {},
   "outputs": [],
   "source": [
    "# Draw circle at the corner coordinates\n",
    "for x, y in coord:\n",
    "    cv2.circle(img, (x, y), 5, (0, 0, 255), 1, cv2.LINE_AA)"
   ]
  },
  {
   "cell_type": "code",
   "execution_count": null,
   "id": "be9fb1ba",
   "metadata": {},
   "outputs": [],
   "source": [
    "# Normalize "
   ]
  }
 ],
 "metadata": {
  "kernelspec": {
   "display_name": "py3_8_5",
   "language": "python",
   "name": "py3_8_5"
  },
  "language_info": {
   "codemirror_mode": {
    "name": "ipython",
    "version": 3
   },
   "file_extension": ".py",
   "mimetype": "text/x-python",
   "name": "python",
   "nbconvert_exporter": "python",
   "pygments_lexer": "ipython3",
   "version": "3.8.5"
  }
 },
 "nbformat": 4,
 "nbformat_minor": 5
}
