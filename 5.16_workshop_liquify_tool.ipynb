{
 "cells": [
  {
   "cell_type": "code",
   "execution_count": 1,
   "id": "288a3a09",
   "metadata": {},
   "outputs": [],
   "source": [
    "import cv2\n",
    "import numpy as np"
   ]
  },
  {
   "cell_type": "code",
   "execution_count": 2,
   "id": "b8280cf4",
   "metadata": {},
   "outputs": [],
   "source": [
    "win_title = 'Liquify'\n",
    "half = 50\n",
    "isDragging = False"
   ]
  },
  {
   "cell_type": "code",
   "execution_count": 3,
   "id": "495bc58b",
   "metadata": {},
   "outputs": [],
   "source": [
    "# 리퀴파이 함수\n",
    "def liquify(img, cx1, cy1, cx2, cy2):\n",
    "    # 대상 영역 좌표와 크기 설정\n",
    "    x, y, w, h = cx1-half, cy1-half, half*2, half*2\n",
    "    \n",
    "    # 관심영역 설정\n",
    "    roi = img[y:y+h, x:x+w].copy()\n",
    "    out = roi.copy()\n",
    "    \n",
    "    # 관심영역 기준으로 좌표 재설정\n",
    "    offset_cx1, offset_cy1 = cx1-x, cy1-y\n",
    "    offset_cx2, offset_cy2 = cx2-x, cy2-y\n",
    "    \n",
    "    # 변환 이전 4개의 삼각형 좌표\n",
    "    tri1 = [[[0, 0], [w, 0], [offset_cx1, offset_cy1]],    # 상, top\n",
    "            [[0, 0], [0, h], [offset_cx1, offset_cy1]],    # 좌, left\n",
    "            [[w, 0], [offset_cx1, offset_cy1], [w, h]],    # 우, right\n",
    "            [[0, h], [offset_cx1, offset_cy1], [w, h]]]    # 하, bottom\n",
    "    \n",
    "    # 변환 이후 4개의 삼각형 좌표\n",
    "    tri2 = [[[0, 0], [w, 0], [offset_cx2, offset_cy2]],    # 상, top\n",
    "            [[0, 0], [0, h], [offset_cx2, offset_cy2]],    # 좌, left\n",
    "            [[w, 0], [offset_cx2, offset_cy2], [w, h]],    # 우, right\n",
    "            [[0, h], [offset_cx2, offset_cy2], [w, h]]]    # 하, bottom\n",
    "    \n",
    "    for i in range(4):\n",
    "        # 각각의 삼각형 좌표에 대해 어핀 변환 적용\n",
    "        matrix = cv2.getAffineTransform(np.float32(tri1[i]), np.float32(tri2[i]))\n",
    "        \n",
    "        warped = cv2.warpAffine(roi.copy(), matrix, (w, h), \n",
    "                                None, flags=cv2.INTER_LINEAR, borderMode=cv2.BORDER_REFLECT_101)\n",
    "        \n",
    "        # 삼각형 모양의 마스크 생성\n",
    "        mask = np.zeros((h, w), dtype=np.uint8)\n",
    "        cv2.fillConvexPoly(mask, np.int32(tri2[i]), (255, 255, 255))\n",
    "        \n",
    "        # 마스킹 후 합성\n",
    "        warped = cv2.bitwise_and(warped, warped, mask=mask)\n",
    "        out = cv2.bitwise_and(out, out, mask=cv2.bitwise_not(mask))\n",
    "        out = out + warped\n",
    "        \n",
    "    # 관심영역을 원본 영상에 합성\n",
    "    img[y:y+h, x:x+w] = out\n",
    "    return img"
   ]
  },
  {
   "cell_type": "code",
   "execution_count": 4,
   "id": "9f3ac94a",
   "metadata": {},
   "outputs": [],
   "source": [
    "# 마우스 이벤트 핸들 함수\n",
    "def onMouse(event, x, y, flags, param):\n",
    "    global cx1, cy1, isDragging, img\n",
    "    \n",
    "    # 마우스 중심점을 기준으로 대상 영역 따라다니기\n",
    "    if event == cv2.EVENT_MOUSEMOVE:\n",
    "        if not isDragging:\n",
    "            img_draw = img.copy()\n",
    "            # 드래그 영역 표시\n",
    "            cv2.rectangle(img_draw, (x-half, y-half), (x+half, y+half), (0, 255, 0))\n",
    "            cv2.imshow(win_title, img_draw)\n",
    "    elif event == cv2.EVENT_LBUTTONDOWN:\n",
    "        isDragging = True\n",
    "        cx1, cy1 = x, y\n",
    "    elif event == cv2.EVENT_LBUTTONUP:\n",
    "        if isDragging:\n",
    "            isDragging = False\n",
    "            # 드래그 시작 좌표와 끝 좌표로 리퀴파이 적용 함수 호출\n",
    "            liquify(img, cx1, cy1, x, y)\n",
    "            cv2.imshow(win_title, img)"
   ]
  },
  {
   "cell_type": "code",
   "execution_count": 9,
   "id": "499fd0a8",
   "metadata": {},
   "outputs": [],
   "source": [
    "if __name__ == '__main__':\n",
    "    img = cv2.imread('./img/man_face.jpg')\n",
    "    h, w = img.shape[:2]\n",
    "    \n",
    "    cv2.namedWindow(win_title)\n",
    "    cv2.setMouseCallback(win_title, onMouse)\n",
    "    cv2.imshow(win_title, img)\n",
    "    while True:\n",
    "        key = cv2.waitKey(1)\n",
    "        if key & 0xFF == 27:\n",
    "            break\n",
    "    cv2.destroyAllWindows()"
   ]
  },
  {
   "cell_type": "code",
   "execution_count": null,
   "id": "d7e2e323",
   "metadata": {},
   "outputs": [],
   "source": []
  }
 ],
 "metadata": {
  "kernelspec": {
   "display_name": "py3_8_5",
   "language": "python",
   "name": "py3_8_5"
  },
  "language_info": {
   "codemirror_mode": {
    "name": "ipython",
    "version": 3
   },
   "file_extension": ".py",
   "mimetype": "text/x-python",
   "name": "python",
   "nbconvert_exporter": "python",
   "pygments_lexer": "ipython3",
   "version": "3.8.5"
  }
 },
 "nbformat": 4,
 "nbformat_minor": 5
}
