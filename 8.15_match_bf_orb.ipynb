{
 "cells": [
  {
   "cell_type": "code",
   "execution_count": 1,
   "id": "772f7e96",
   "metadata": {},
   "outputs": [],
   "source": [
    "import cv2\n",
    "import numpy as np"
   ]
  },
  {
   "cell_type": "code",
   "execution_count": 2,
   "id": "24d41298",
   "metadata": {},
   "outputs": [],
   "source": [
    "img1 = cv2.imread('./img/taekwonv1.jpg')\n",
    "img2 = cv2.imread('./img/figures.jpg')\n",
    "gray1 = cv2.cvtColor(img1, cv2.COLOR_BGR2GRAY)\n",
    "gray2 = cv2.cvtColor(img2, cv2.COLOR_BGR2GRAY)"
   ]
  },
  {
   "cell_type": "code",
   "execution_count": 3,
   "id": "c4e5a489",
   "metadata": {},
   "outputs": [],
   "source": [
    "# ORB 디스크립터 추출기 생성\n",
    "detector = cv2.ORB_create()"
   ]
  },
  {
   "cell_type": "code",
   "execution_count": 4,
   "id": "d4ce9cbe",
   "metadata": {},
   "outputs": [],
   "source": [
    "# 각 영상에 대해 키 포인트와 디스크립터 추출\n",
    "kp1, desc1 = detector.detectAndCompute(gray1, None)\n",
    "kp2, desc2 = detector.detectAndCompute(gray2, None)"
   ]
  },
  {
   "cell_type": "code",
   "execution_count": 5,
   "id": "a55b078e",
   "metadata": {},
   "outputs": [],
   "source": [
    "# BFMatcher 생성, 해밍 거리, 상호 체크\n",
    "matcher = cv2.BFMatcher(cv2.NORM_HAMMING, crossCheck=True)"
   ]
  },
  {
   "cell_type": "code",
   "execution_count": 6,
   "id": "5ddb637b",
   "metadata": {},
   "outputs": [],
   "source": [
    "# 매칭 계산\n",
    "matches = matcher.match(desc1, desc2)"
   ]
  },
  {
   "cell_type": "code",
   "execution_count": 15,
   "id": "246ac654",
   "metadata": {},
   "outputs": [],
   "source": [
    "# 매칭 결과 그리기\n",
    "res = cv2.drawMatches(img1, kp1, img2, kp2, matches, None, \n",
    "                     flags=cv2.DRAW_MATCHES_FLAGS_NOT_DRAW_SINGLE_POINTS)"
   ]
  },
  {
   "cell_type": "code",
   "execution_count": 16,
   "id": "4a9bb1ba",
   "metadata": {},
   "outputs": [],
   "source": [
    "# 결과 출력\n",
    "cv2.imshow('BFMatcher + ORB', res)\n",
    "cv2.waitKey()\n",
    "cv2.destroyAllWindows()"
   ]
  },
  {
   "cell_type": "code",
   "execution_count": null,
   "id": "8a29e721",
   "metadata": {},
   "outputs": [],
   "source": []
  }
 ],
 "metadata": {
  "kernelspec": {
   "display_name": "Python 3 (ipykernel)",
   "language": "python",
   "name": "python3"
  },
  "language_info": {
   "codemirror_mode": {
    "name": "ipython",
    "version": 3
   },
   "file_extension": ".py",
   "mimetype": "text/x-python",
   "name": "python",
   "nbconvert_exporter": "python",
   "pygments_lexer": "ipython3",
   "version": "3.8.10"
  }
 },
 "nbformat": 4,
 "nbformat_minor": 5
}
