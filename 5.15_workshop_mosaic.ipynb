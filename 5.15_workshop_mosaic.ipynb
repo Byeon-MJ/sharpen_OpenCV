{
 "cells": [
  {
   "cell_type": "code",
   "execution_count": 1,
   "id": "06598a5e",
   "metadata": {},
   "outputs": [],
   "source": [
    "import cv2"
   ]
  },
  {
   "cell_type": "code",
   "execution_count": 5,
   "id": "2c40c58a",
   "metadata": {},
   "outputs": [],
   "source": [
    "rate = 15     # 모자이크에 사용할 축소 비율\n",
    "win_title = 'mosaic'\n",
    "img = cv2.imread('./img/taekwonv1.jpg')"
   ]
  },
  {
   "cell_type": "code",
   "execution_count": 6,
   "id": "4c25d20a",
   "metadata": {},
   "outputs": [],
   "source": [
    "while True:\n",
    "    x, y, w, h = cv2.selectROI(win_title, img, False)\n",
    "    if w and h:\n",
    "        roi = img[y:y+h, x:x+w]\n",
    "        \n",
    "        # 1/rate 비율로 축소\n",
    "        roi = cv2.resize(roi, (w//rate, h//rate))\n",
    "        \n",
    "        # 원래 크기로 확대\n",
    "        roi = cv2.resize(roi, (w, h), interpolation=cv2.INTER_AREA)\n",
    "        img[y:y+h, x:x+w] = roi\n",
    "        cv2.imshow(win_title, img)\n",
    "    else:\n",
    "        break\n",
    "cv2.destroyAllWindows()"
   ]
  },
  {
   "cell_type": "code",
   "execution_count": null,
   "id": "5f200e00",
   "metadata": {},
   "outputs": [],
   "source": []
  }
 ],
 "metadata": {
  "kernelspec": {
   "display_name": "py3_8_5",
   "language": "python",
   "name": "py3_8_5"
  },
  "language_info": {
   "codemirror_mode": {
    "name": "ipython",
    "version": 3
   },
   "file_extension": ".py",
   "mimetype": "text/x-python",
   "name": "python",
   "nbconvert_exporter": "python",
   "pygments_lexer": "ipython3",
   "version": "3.8.5"
  }
 },
 "nbformat": 4,
 "nbformat_minor": 5
}
