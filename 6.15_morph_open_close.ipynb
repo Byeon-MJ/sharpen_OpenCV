{
 "cells": [
  {
   "cell_type": "code",
   "execution_count": 1,
   "id": "f697f651",
   "metadata": {},
   "outputs": [],
   "source": [
    "import cv2\n",
    "import numpy as np"
   ]
  },
  {
   "cell_type": "code",
   "execution_count": 2,
   "id": "e0f68170",
   "metadata": {},
   "outputs": [],
   "source": [
    "img1 = cv2.imread('./img/morph_dot.png', cv2.IMREAD_GRAYSCALE)\n",
    "img2 = cv2.imread('./img/morph_hole.png', cv2.IMREAD_GRAYSCALE)"
   ]
  },
  {
   "cell_type": "code",
   "execution_count": 3,
   "id": "1bc5ae7d",
   "metadata": {},
   "outputs": [],
   "source": [
    "# Structuring element kernel, Create rectangle(5 x 5)\n",
    "k = cv2.getStructuringElement(cv2.MORPH_RECT, (5, 5))\n",
    "\n",
    "# Apply opening operation\n",
    "opening = cv2.morphologyEx(img1, cv2.MORPH_OPEN, k)\n",
    "\n",
    "# Apply closing operation\n",
    "closing = cv2.morphologyEx(img2, cv2.MORPH_CLOSE, k)"
   ]
  },
  {
   "cell_type": "code",
   "execution_count": 5,
   "id": "94e19c3f",
   "metadata": {},
   "outputs": [],
   "source": [
    "# Output result\n",
    "merged1 = np.hstack((img1, opening))\n",
    "merged2 = np.hstack((img2, closing))\n",
    "merged = np.vstack((merged1, merged2))\n",
    "cv2.imshow('opening, closing', merged)\n",
    "cv2.waitKey()\n",
    "cv2.destroyAllWindows()"
   ]
  },
  {
   "cell_type": "code",
   "execution_count": null,
   "id": "6652de0e",
   "metadata": {},
   "outputs": [],
   "source": []
  }
 ],
 "metadata": {
  "kernelspec": {
   "display_name": "py3_8_5",
   "language": "python",
   "name": "py3_8_5"
  },
  "language_info": {
   "codemirror_mode": {
    "name": "ipython",
    "version": 3
   },
   "file_extension": ".py",
   "mimetype": "text/x-python",
   "name": "python",
   "nbconvert_exporter": "python",
   "pygments_lexer": "ipython3",
   "version": "3.8.5"
  }
 },
 "nbformat": 4,
 "nbformat_minor": 5
}
