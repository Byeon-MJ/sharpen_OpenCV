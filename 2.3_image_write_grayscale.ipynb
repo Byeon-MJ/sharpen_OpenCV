{
 "cells": [
  {
   "cell_type": "code",
   "execution_count": 3,
   "id": "95d306d8",
   "metadata": {},
   "outputs": [],
   "source": [
    "import cv2"
   ]
  },
  {
   "cell_type": "code",
   "execution_count": 4,
   "id": "f25d4b5f",
   "metadata": {},
   "outputs": [
    {
     "name": "stdout",
     "output_type": "stream",
     "text": [
      "['.git', '.gitignore', '.ipynb_checkpoints', '2.1_img_show.ipynb', '2.2_img_show_gray.ipynb', '2.3_image_write_grayscale.ipynb', 'event_key.ipynb', 'event_mouse_draw_circle.ipynb', 'event_mouse_draw_circle_flag.ipynb', 'event_trackbar.ipynb', 'img', 'README.md', 'result', 'video_cam_rec.ipynb', 'video_cam_take_pic.ipynb', 'video_play_fps.ipynb']\n"
     ]
    }
   ],
   "source": [
    "import os\n",
    "print(os.listdir(os.getcwd()))"
   ]
  },
  {
   "cell_type": "code",
   "execution_count": 5,
   "id": "52f9bddf",
   "metadata": {},
   "outputs": [],
   "source": [
    "img_file = './img/girl.jpg'\n",
    "save_file_name = './result/girl_gray.jpg'\n",
    "\n",
    "img = cv2.imread(img_file, cv2.IMREAD_GRAYSCALE)"
   ]
  },
  {
   "cell_type": "code",
   "execution_count": 6,
   "id": "1f14ad65",
   "metadata": {},
   "outputs": [],
   "source": [
    "if img is not None:\n",
    "    cv2.imshow(img_file, img)\n",
    "    cv2.imwrite(save_file_name, img)\n",
    "    cv2.waitKey()\n",
    "    cv2.destroyAllWindows()\n",
    "else:\n",
    "    print('No Image File.')"
   ]
  },
  {
   "cell_type": "code",
   "execution_count": null,
   "id": "e56f8ed7",
   "metadata": {},
   "outputs": [],
   "source": []
  }
 ],
 "metadata": {
  "kernelspec": {
   "display_name": "py3_8_5",
   "language": "python",
   "name": "py3_8_5"
  },
  "language_info": {
   "codemirror_mode": {
    "name": "ipython",
    "version": 3
   },
   "file_extension": ".py",
   "mimetype": "text/x-python",
   "name": "python",
   "nbconvert_exporter": "python",
   "pygments_lexer": "ipython3",
   "version": "3.8.5"
  }
 },
 "nbformat": 4,
 "nbformat_minor": 5
}
