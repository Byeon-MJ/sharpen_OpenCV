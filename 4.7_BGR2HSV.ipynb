{
 "cells": [
  {
   "cell_type": "code",
   "execution_count": 1,
   "id": "aaa05464",
   "metadata": {},
   "outputs": [],
   "source": [
    "import cv2\n",
    "import numpy as np"
   ]
  },
  {
   "cell_type": "code",
   "execution_count": 2,
   "id": "39c54c22",
   "metadata": {},
   "outputs": [],
   "source": [
    "# BGR 컬러 스페이스로 원색 픽셀 생성\n",
    "red_bgr = np.array([[[0, 0, 255]]], dtype=np.uint8)      # 빨강\n",
    "green_bgr = np.array([[[0, 255, 0]]], dtype=np.uint8)    # 초록\n",
    "blue_bgr = np.array([[[255, 0, 0]]], dtype=np.uint8)     # 파랑\n",
    "yellow_bgr = np.array([[[0, 255, 255]]], dtype=np.uint8) # 노랑"
   ]
  },
  {
   "cell_type": "code",
   "execution_count": 3,
   "id": "71b377f5",
   "metadata": {},
   "outputs": [],
   "source": [
    "# BGR to HSV\n",
    "red_hsv = cv2.cvtColor(red_bgr, cv2.COLOR_BGR2HSV)\n",
    "green_hsv = cv2.cvtColor(green_bgr, cv2.COLOR_BGR2HSV)\n",
    "blue_hsv = cv2.cvtColor(blue_bgr, cv2.COLOR_BGR2HSV)\n",
    "yellow_hsv = cv2.cvtColor(yellow_bgr, cv2.COLOR_BGR2HSV)"
   ]
  },
  {
   "cell_type": "code",
   "execution_count": 4,
   "id": "342e088c",
   "metadata": {},
   "outputs": [
    {
     "name": "stdout",
     "output_type": "stream",
     "text": [
      "red: [[[  0 255 255]]]\n",
      "green: [[[ 60 255 255]]]\n",
      "blue: [[[120 255 255]]]\n",
      "yellow: [[[ 30 255 255]]]\n"
     ]
    }
   ],
   "source": [
    "# HSV 픽셀 출력\n",
    "print('Red:', red_hsv)\n",
    "print('Green:', green_hsv)\n",
    "print('Blue:', blue_hsv)\n",
    "print('Yellow:', yellow_hsv)"
   ]
  },
  {
   "cell_type": "code",
   "execution_count": null,
   "id": "fb0b0281",
   "metadata": {},
   "outputs": [],
   "source": []
  }
 ],
 "metadata": {
  "kernelspec": {
   "display_name": "py3_8_5",
   "language": "python",
   "name": "py3_8_5"
  },
  "language_info": {
   "codemirror_mode": {
    "name": "ipython",
    "version": 3
   },
   "file_extension": ".py",
   "mimetype": "text/x-python",
   "name": "python",
   "nbconvert_exporter": "python",
   "pygments_lexer": "ipython3",
   "version": "3.8.5"
  }
 },
 "nbformat": 4,
 "nbformat_minor": 5
}
