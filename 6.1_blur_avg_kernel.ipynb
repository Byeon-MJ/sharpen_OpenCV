{
 "cells": [
  {
   "cell_type": "code",
   "execution_count": 1,
   "id": "2838d760",
   "metadata": {},
   "outputs": [],
   "source": [
    "import cv2\n",
    "import numpy as np"
   ]
  },
  {
   "cell_type": "code",
   "execution_count": 2,
   "id": "b706c13f",
   "metadata": {},
   "outputs": [],
   "source": [
    "img = cv2.imread('./img/girl.jpg')"
   ]
  },
  {
   "cell_type": "code",
   "execution_count": 3,
   "id": "504afd5c",
   "metadata": {},
   "outputs": [],
   "source": [
    "# 5x5 평균 필터 커널 생성\n",
    "kernel = np.ones((5, 5))/5**2"
   ]
  },
  {
   "cell_type": "code",
   "execution_count": 4,
   "id": "1d0c562f",
   "metadata": {},
   "outputs": [],
   "source": [
    "# 필터 적용\n",
    "blured = cv2.filter2D(img, -1, kernel)"
   ]
  },
  {
   "cell_type": "code",
   "execution_count": 5,
   "id": "be728846",
   "metadata": {},
   "outputs": [],
   "source": [
    "# 결과 출력\n",
    "cv2.imshow('origin', img)\n",
    "cv2.imshow('avrg blur', blured)\n",
    "cv2.waitKey()\n",
    "cv2.destroyAllWindows()"
   ]
  },
  {
   "cell_type": "code",
   "execution_count": null,
   "id": "16f9742a",
   "metadata": {},
   "outputs": [],
   "source": []
  }
 ],
 "metadata": {
  "kernelspec": {
   "display_name": "py3_8_5",
   "language": "python",
   "name": "py3_8_5"
  },
  "language_info": {
   "codemirror_mode": {
    "name": "ipython",
    "version": 3
   },
   "file_extension": ".py",
   "mimetype": "text/x-python",
   "name": "python",
   "nbconvert_exporter": "python",
   "pygments_lexer": "ipython3",
   "version": "3.8.5"
  }
 },
 "nbformat": 4,
 "nbformat_minor": 5
}
