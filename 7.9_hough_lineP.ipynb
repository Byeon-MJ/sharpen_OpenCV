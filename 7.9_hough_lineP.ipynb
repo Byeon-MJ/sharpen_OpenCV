{
 "cells": [
  {
   "cell_type": "code",
   "execution_count": 1,
   "id": "1c1fa3a4",
   "metadata": {},
   "outputs": [],
   "source": [
    "import cv2\n",
    "import numpy as np"
   ]
  },
  {
   "cell_type": "code",
   "execution_count": 6,
   "id": "0f6f8f83",
   "metadata": {},
   "outputs": [],
   "source": [
    "img = cv2.imread('./img/sudoku.jpg')\n",
    "img2 = img.copy()"
   ]
  },
  {
   "cell_type": "code",
   "execution_count": 7,
   "id": "2f4e094d",
   "metadata": {},
   "outputs": [],
   "source": [
    "# Gray scale conversion and edge detection\n",
    "img_gray = cv2.cvtColor(img, cv2.COLOR_BGR2GRAY)\n",
    "edges = cv2.Canny(img_gray, 50, 200)"
   ]
  },
  {
   "cell_type": "code",
   "execution_count": 8,
   "id": "41891577",
   "metadata": {},
   "outputs": [],
   "source": [
    "# Apply progressive probabilistic hough transform\n",
    "lines = cv2.HoughLinesP(edges, 1, np.pi/180, 10, None, 20, 2)\n",
    "for line in lines:\n",
    "    # Draw the detected line\n",
    "    x1, y1, x2, y2 = line[0]\n",
    "    cv2.line(img2, (x1, y1), (x2, y2), (0, 255, 0), 1)"
   ]
  },
  {
   "cell_type": "code",
   "execution_count": 10,
   "id": "2a72e861",
   "metadata": {},
   "outputs": [],
   "source": [
    "merged = np.hstack((img, img2))\n",
    "cv2.imshow('Probability hough line', merged)\n",
    "cv2.waitKey()\n",
    "cv2.destroyAllWindows()"
   ]
  },
  {
   "cell_type": "code",
   "execution_count": null,
   "id": "78f1a276",
   "metadata": {},
   "outputs": [],
   "source": []
  }
 ],
 "metadata": {
  "kernelspec": {
   "display_name": "py3_8_5",
   "language": "python",
   "name": "py3_8_5"
  },
  "language_info": {
   "codemirror_mode": {
    "name": "ipython",
    "version": 3
   },
   "file_extension": ".py",
   "mimetype": "text/x-python",
   "name": "python",
   "nbconvert_exporter": "python",
   "pygments_lexer": "ipython3",
   "version": "3.8.5"
  }
 },
 "nbformat": 4,
 "nbformat_minor": 5
}
