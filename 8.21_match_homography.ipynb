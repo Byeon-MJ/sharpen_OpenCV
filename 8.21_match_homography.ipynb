{
 "cells": [
  {
   "cell_type": "code",
   "execution_count": 1,
   "id": "ede79b82",
   "metadata": {},
   "outputs": [],
   "source": [
    "import cv2\n",
    "import numpy as np"
   ]
  },
  {
   "cell_type": "code",
   "execution_count": 2,
   "id": "5f3b6983",
   "metadata": {},
   "outputs": [],
   "source": [
    "img1 = cv2.imread('./img/taekwonv1.jpg')\n",
    "img2 = cv2.imread('./img/figures.jpg')\n",
    "gray1 = cv2.cvtColor(img1, cv2.COLOR_BGR2GRAY)\n",
    "gray2 = cv2.cvtColor(img2, cv2.COLOR_BGR2GRAY)"
   ]
  },
  {
   "cell_type": "code",
   "execution_count": 4,
   "id": "8366a5b4",
   "metadata": {},
   "outputs": [],
   "source": [
    "# ORB, BF-Mamming로 knnMatch\n",
    "detector = cv2.ORB_create()\n",
    "kp1, desc1 = detector.detectAndCompute(gray1, None)\n",
    "kp2, desc2 = detector.detectAndCompute(gray2, None)\n",
    "matcher = cv2.BFMatcher(cv2.NORM_HAMMING2)\n",
    "matches = matcher.knnMatch(desc1, desc2, 2)"
   ]
  },
  {
   "cell_type": "code",
   "execution_count": 8,
   "id": "0329a5e3",
   "metadata": {},
   "outputs": [
    {
     "name": "stdout",
     "output_type": "stream",
     "text": [
      "good matches:23/500\n"
     ]
    }
   ],
   "source": [
    "# 이웃 거리의 75%로 좋은 매칭점 추출\n",
    "ratio = 0.75\n",
    "good_matches = [first for first, second in matches\n",
    "               if first.distance < second.distance * ratio]\n",
    "print(f'good matches:{len(good_matches):d}/{len(matches):d}')"
   ]
  },
  {
   "cell_type": "code",
   "execution_count": 10,
   "id": "c08e24c8",
   "metadata": {},
   "outputs": [],
   "source": [
    "# 좋은 매칭점의 queryIdx로 원본 영상의 좌표 구하기\n",
    "src_pts = np.float32([kp1[m.queryIdx].pt for m in good_matches])"
   ]
  },
  {
   "cell_type": "code",
   "execution_count": 11,
   "id": "6454e2f6",
   "metadata": {},
   "outputs": [],
   "source": [
    "# 좋은 매칭점의 trainIdx로 대상 영역의 좌표 구하기\n",
    "dst_pts = np.float32([kp2[m.trainIdx].pt for m in good_matches])"
   ]
  },
  {
   "cell_type": "code",
   "execution_count": 12,
   "id": "5c585b04",
   "metadata": {},
   "outputs": [],
   "source": [
    "# 원근 변환행렬 구하기\n",
    "mtrx, mask = cv2.findHomography(src_pts, dst_pts)"
   ]
  },
  {
   "cell_type": "code",
   "execution_count": 14,
   "id": "165143bf",
   "metadata": {},
   "outputs": [],
   "source": [
    "# 원본 영상 크기로 변환 영역 좌표 생성\n",
    "h, w, = img1.shape[:2]\n",
    "pts = np.float32([ [[0, 0]], [[0, h-1]], [[w-1, h-1]], [[w-1, 0]] ])"
   ]
  },
  {
   "cell_type": "code",
   "execution_count": 15,
   "id": "d47dc4c5",
   "metadata": {},
   "outputs": [],
   "source": [
    "# 원본 영상 좌표를 원근 변환\n",
    "dst = cv2.perspectiveTransform(pts, mtrx)"
   ]
  },
  {
   "cell_type": "code",
   "execution_count": 16,
   "id": "6d3e5a86",
   "metadata": {},
   "outputs": [],
   "source": [
    "# 변환 좌표 영역을 대상 영상에 그리기\n",
    "img2 = cv2.polylines(img2, [np.int32(dst)], True, 255, 3, cv2.LINE_AA)"
   ]
  },
  {
   "cell_type": "code",
   "execution_count": 17,
   "id": "87eab9fa",
   "metadata": {},
   "outputs": [],
   "source": [
    "# 좋은 매칭점을 그려서 출력\n",
    "res = cv2.drawMatches(img1, kp1, img2, kp2, good_matches, None,\n",
    "                     flags = cv2.DRAW_MATCHES_FLAGS_NOT_DRAW_SINGLE_POINTS)"
   ]
  },
  {
   "cell_type": "code",
   "execution_count": 18,
   "id": "b18b53e4",
   "metadata": {},
   "outputs": [],
   "source": [
    "# 결과 출력\n",
    "cv2.imshow('Matching Homography', res)\n",
    "cv2.waitKey()\n",
    "cv2.destroyAllWindows()"
   ]
  },
  {
   "cell_type": "code",
   "execution_count": null,
   "id": "b1e91831",
   "metadata": {},
   "outputs": [],
   "source": []
  }
 ],
 "metadata": {
  "kernelspec": {
   "display_name": "Python 3 (ipykernel)",
   "language": "python",
   "name": "python3"
  },
  "language_info": {
   "codemirror_mode": {
    "name": "ipython",
    "version": 3
   },
   "file_extension": ".py",
   "mimetype": "text/x-python",
   "name": "python",
   "nbconvert_exporter": "python",
   "pygments_lexer": "ipython3",
   "version": "3.8.10"
  }
 },
 "nbformat": 4,
 "nbformat_minor": 5
}
