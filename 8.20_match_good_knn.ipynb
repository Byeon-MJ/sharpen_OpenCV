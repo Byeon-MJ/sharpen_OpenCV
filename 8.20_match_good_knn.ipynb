{
 "cells": [
  {
   "cell_type": "code",
   "execution_count": 1,
   "id": "a0cdc369",
   "metadata": {},
   "outputs": [],
   "source": [
    "import cv2\n",
    "import numpy as np"
   ]
  },
  {
   "cell_type": "code",
   "execution_count": 3,
   "id": "37e77119",
   "metadata": {},
   "outputs": [],
   "source": [
    "img1 = cv2.imread('./img/taekwonv1.jpg')\n",
    "img2 = cv2.imread('./img/figures.jpg')\n",
    "gray1 = cv2.cvtColor(img1, cv2.COLOR_BGR2GRAY)\n",
    "gray2 = cv2.cvtColor(img2, cv2.COLOR_BGR2GRAY)"
   ]
  },
  {
   "cell_type": "code",
   "execution_count": 5,
   "id": "eab57fc3",
   "metadata": {},
   "outputs": [],
   "source": [
    "# ORB로 디스크립터 추출\n",
    "detector = cv2.ORB_create()\n",
    "kp1, desc1 = detector.detectAndCompute(gray1, None)\n",
    "kp2, desc2 = detector.detectAndCompute(gray2, None)"
   ]
  },
  {
   "cell_type": "code",
   "execution_count": 6,
   "id": "a4a91433",
   "metadata": {},
   "outputs": [],
   "source": [
    "# BF-Hamming 생성\n",
    "matcher = cv2.BFMatcher(cv2.NORM_HAMMING2)\n",
    "\n",
    "# knnMatch, k=2\n",
    "matches = matcher.knnMatch(desc1, desc2, 2)"
   ]
  },
  {
   "cell_type": "code",
   "execution_count": 8,
   "id": "c9d827a1",
   "metadata": {},
   "outputs": [
    {
     "name": "stdout",
     "output_type": "stream",
     "text": [
      "matches:23/500\n"
     ]
    }
   ],
   "source": [
    "# 첫 번째 이웃 거리가 두 번째 이웃 거리의 75% 이내인 것만 추출\n",
    "ratio = 0.75\n",
    "good_matches = [first for first, second in matches \n",
    "                if first.distance < second.distance * ratio]\n",
    "print(f'matches:{len(good_matches):d}/{len(matches):d}')"
   ]
  },
  {
   "cell_type": "code",
   "execution_count": 9,
   "id": "519410d0",
   "metadata": {},
   "outputs": [],
   "source": [
    "# 좋은 매칭만 그리기\n",
    "res = cv2.drawMatches(img1, kp1, img2, kp2, good_matches, None,\n",
    "                     flags=cv2.DRAW_MATCHES_FLAGS_NOT_DRAW_SINGLE_POINTS)"
   ]
  },
  {
   "cell_type": "code",
   "execution_count": 10,
   "id": "e2fc9f0c",
   "metadata": {},
   "outputs": [],
   "source": [
    "# 결과 출력\n",
    "cv2.imshow('Matching', res)\n",
    "cv2.waitKey()\n",
    "cv2.destroyAllWindows()"
   ]
  },
  {
   "cell_type": "code",
   "execution_count": null,
   "id": "6749ab6f",
   "metadata": {},
   "outputs": [],
   "source": []
  }
 ],
 "metadata": {
  "kernelspec": {
   "display_name": "Python 3 (ipykernel)",
   "language": "python",
   "name": "python3"
  },
  "language_info": {
   "codemirror_mode": {
    "name": "ipython",
    "version": 3
   },
   "file_extension": ".py",
   "mimetype": "text/x-python",
   "name": "python",
   "nbconvert_exporter": "python",
   "pygments_lexer": "ipython3",
   "version": "3.8.10"
  }
 },
 "nbformat": 4,
 "nbformat_minor": 5
}
