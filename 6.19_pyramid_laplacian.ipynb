{
 "cells": [
  {
   "cell_type": "code",
   "execution_count": 1,
   "id": "fe59698d",
   "metadata": {},
   "outputs": [],
   "source": [
    "import cv2\n",
    "import numpy as np"
   ]
  },
  {
   "cell_type": "code",
   "execution_count": 2,
   "id": "692d9fd8",
   "metadata": {},
   "outputs": [],
   "source": [
    "img = cv2.imread('./img/taekwonv1.jpg')"
   ]
  },
  {
   "cell_type": "code",
   "execution_count": 3,
   "id": "60d2d6eb",
   "metadata": {},
   "outputs": [],
   "source": [
    "# Reduce the original video using a Gaussian pyramid\n",
    "smaller = cv2.pyrDown(img)\n",
    "\n",
    "# Enlarge the reduced video using a Gaussian pyramid\n",
    "bigger = cv2.pyrUp(smaller)"
   ]
  },
  {
   "cell_type": "code",
   "execution_count": 4,
   "id": "537e5368",
   "metadata": {},
   "outputs": [],
   "source": [
    "# Subtract the enlarged video from the original\n",
    "laplacian = cv2.subtract(img, bigger)"
   ]
  },
  {
   "cell_type": "code",
   "execution_count": 5,
   "id": "0f84bca3",
   "metadata": {},
   "outputs": [],
   "source": [
    "# Restore by adding a Laplacian image to an enlarged image\n",
    "restored = bigger + laplacian"
   ]
  },
  {
   "cell_type": "code",
   "execution_count": 6,
   "id": "7a45394c",
   "metadata": {},
   "outputs": [],
   "source": [
    "# output result\n",
    "merged = np.hstack((img, laplacian, bigger, restored))\n",
    "cv2.imshow('Laplacian Pyramid', merged)\n",
    "cv2.waitKey()\n",
    "cv2.destroyAllWindows()"
   ]
  },
  {
   "cell_type": "code",
   "execution_count": null,
   "id": "69adc794",
   "metadata": {},
   "outputs": [],
   "source": []
  }
 ],
 "metadata": {
  "kernelspec": {
   "display_name": "py3_8_5",
   "language": "python",
   "name": "py3_8_5"
  },
  "language_info": {
   "codemirror_mode": {
    "name": "ipython",
    "version": 3
   },
   "file_extension": ".py",
   "mimetype": "text/x-python",
   "name": "python",
   "nbconvert_exporter": "python",
   "pygments_lexer": "ipython3",
   "version": "3.8.5"
  }
 },
 "nbformat": 4,
 "nbformat_minor": 5
}
