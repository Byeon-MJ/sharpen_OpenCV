{
 "cells": [
  {
   "cell_type": "code",
   "execution_count": 1,
   "id": "c79ad894",
   "metadata": {},
   "outputs": [],
   "source": [
    "import cv2"
   ]
  },
  {
   "cell_type": "code",
   "execution_count": 2,
   "id": "a747e0d6",
   "metadata": {},
   "outputs": [],
   "source": [
    "img = cv2.imread('./img/fish.jpg')\n",
    "rows, cols = img.shape[:2]"
   ]
  },
  {
   "cell_type": "code",
   "execution_count": 3,
   "id": "77558e96",
   "metadata": {},
   "outputs": [],
   "source": [
    "# 회전을 위한 변환행렬 구하기\n",
    "# 회전축 중앙, 각도 45, 배율 0.5\n",
    "m45 = cv2.getRotationMatrix2D((cols/2, rows/2), 45, 0.5)\n",
    "# 회전축 중앙, 각도 90, 배율 1.5\n",
    "m90 = cv2.getRotationMatrix2D((cols/2, rows/2), 90, 1.5)"
   ]
  },
  {
   "cell_type": "code",
   "execution_count": 4,
   "id": "ab84a8bf",
   "metadata": {},
   "outputs": [],
   "source": [
    "# 변환행렬 적용\n",
    "img45 = cv2.warpAffine(img, m45, (cols, rows))\n",
    "img90 = cv2.warpAffine(img, m90, (cols, rows))"
   ]
  },
  {
   "cell_type": "code",
   "execution_count": 5,
   "id": "aa9f96b5",
   "metadata": {},
   "outputs": [],
   "source": [
    "# 결과 출력\n",
    "cv2.imshow('origin', img)\n",
    "cv2.imshow('45', img45)\n",
    "cv2.imshow('90', img90)\n",
    "cv2.waitKey(0)\n",
    "cv2.destroyAllWindows()"
   ]
  },
  {
   "cell_type": "code",
   "execution_count": null,
   "id": "e6d7460b",
   "metadata": {},
   "outputs": [],
   "source": []
  }
 ],
 "metadata": {
  "kernelspec": {
   "display_name": "py3_8_5",
   "language": "python",
   "name": "py3_8_5"
  },
  "language_info": {
   "codemirror_mode": {
    "name": "ipython",
    "version": 3
   },
   "file_extension": ".py",
   "mimetype": "text/x-python",
   "name": "python",
   "nbconvert_exporter": "python",
   "pygments_lexer": "ipython3",
   "version": "3.8.5"
  }
 },
 "nbformat": 4,
 "nbformat_minor": 5
}
