{
 "cells": [
  {
   "cell_type": "code",
   "execution_count": 1,
   "id": "0cab8bbf",
   "metadata": {},
   "outputs": [],
   "source": [
    "import cv2\n",
    "import numpy as np"
   ]
  },
  {
   "cell_type": "code",
   "execution_count": 8,
   "id": "2222fb29",
   "metadata": {},
   "outputs": [],
   "source": [
    "# 감도 설정(카메라 품질에 따라 조정 필요)\n",
    "thresh = 25\n",
    "max_diff = 5"
   ]
  },
  {
   "cell_type": "code",
   "execution_count": 7,
   "id": "405b9c70",
   "metadata": {},
   "outputs": [],
   "source": [
    "# 카메라 캡션 장치 준비\n",
    "a, b, c = None, None, None\n",
    "cap = cv2.VideoCapture(0)\n",
    "cap.set(cv2.CAP_PROP_FRAME_WIDTH, 480)\n",
    "cap.set(cv2.CAP_PROP_FRAME_HEIGHT, 320)\n",
    "\n",
    "if cap.isOpened():\n",
    "    ret, a = cap.read()\n",
    "    ret, b = cap.read()\n",
    "    \n",
    "    while ret:\n",
    "        ret, c = cap.read()\n",
    "        draw = c.copy()\n",
    "        if not ret:\n",
    "            break\n",
    "        \n",
    "        # 3개의 영상을 그레이 스케일로 변경\n",
    "        a_gray = cv2.cvtColor(a, cv2.COLOR_BGR2GRAY)\n",
    "        b_gray = cv2.cvtColor(b, cv2.COLOR_BGR2GRAY)\n",
    "        c_gray = cv2.cvtColor(c, cv2.COLOR_BGR2GRAY)\n",
    "        \n",
    "        # a-b, b-c 절대값 차 구하기\n",
    "        diff1 = cv2.absdiff(a_gray, b_gray)\n",
    "        diff2 = cv2.absdiff(b_gray, c_gray)\n",
    "        \n",
    "        # 스레시홀드로 기준치 이내의 차이는 무시\n",
    "        ret, diff1_t = cv2.threshold(diff1, thresh, 255, cv2.THRESH_BINARY)\n",
    "        ret, diff2_t = cv2.threshold(diff2, thresh, 255, cv2.THRESH_BINARY)\n",
    "        \n",
    "        # 두 차이에 대해서 AND 연산, 두 영상의 차이가 모두 발견될 경우\n",
    "        diff = cv2.bitwise_and(diff1_t, diff2_t)\n",
    "        \n",
    "        # 열림 연산으로 노이즈 제거\n",
    "        k = cv2.getStructuringElement(cv2.MORPH_CROSS, (3, 3))\n",
    "        diff = cv2.morphologyEx(diff, cv2.MORPH_OPEN, k)\n",
    "        \n",
    "        # 차이가 발생한 픽셀이 개수 판단 후 사각형 그리기\n",
    "        diff_cnt = cv2.countNonZero(diff)\n",
    "        if diff_cnt > max_diff:\n",
    "            nzero = np.nonzero(diff)\n",
    "            cv2.rectangle(draw, (min(nzero[1]), min(nzero[0])), (max(nzero[1]), max(nzero[0])), (0, 255, 0), 2)\n",
    "            cv2.putText(draw, 'Motion Detected', (10, 30), cv2.FONT_HERSHEY_DUPLEX, 0.5, (0, 0, 255))\n",
    "            \n",
    "        # 컬러 스케일 영상과 스레시홀드 영상을 통합해서 출력\n",
    "        stacked = np.hstack((draw, cv2.cvtColor(diff, cv2.COLOR_GRAY2BGR)))\n",
    "        cv2.imshow('motion sensor', stacked)\n",
    "        \n",
    "        # 다음 비교를 위해 영상 순서 정리 \n",
    "        a = b\n",
    "        b = c\n",
    "        \n",
    "        if cv2.waitKey(1) & 0xFF == 27:\n",
    "            break\n",
    "\n",
    "cap.release()\n",
    "cv2.destroyAllWindows()"
   ]
  },
  {
   "cell_type": "code",
   "execution_count": null,
   "id": "be402b7f",
   "metadata": {},
   "outputs": [],
   "source": []
  }
 ],
 "metadata": {
  "kernelspec": {
   "display_name": "py3_8_5",
   "language": "python",
   "name": "py3_8_5"
  },
  "language_info": {
   "codemirror_mode": {
    "name": "ipython",
    "version": 3
   },
   "file_extension": ".py",
   "mimetype": "text/x-python",
   "name": "python",
   "nbconvert_exporter": "python",
   "pygments_lexer": "ipython3",
   "version": "3.8.5"
  }
 },
 "nbformat": 4,
 "nbformat_minor": 5
}
