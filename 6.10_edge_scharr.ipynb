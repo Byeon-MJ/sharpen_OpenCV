{
 "cells": [
  {
   "cell_type": "code",
   "execution_count": 1,
   "id": "59709dc3",
   "metadata": {},
   "outputs": [],
   "source": [
    "import cv2\n",
    "import numpy as np"
   ]
  },
  {
   "cell_type": "code",
   "execution_count": 2,
   "id": "7de5e5cf",
   "metadata": {},
   "outputs": [],
   "source": [
    "img = cv2.imread('./img/sudoku.jpg')"
   ]
  },
  {
   "cell_type": "code",
   "execution_count": 3,
   "id": "9335736a",
   "metadata": {},
   "outputs": [],
   "source": [
    "# Create Scharr Kernel directly for edge detection\n",
    "gx_kernel = np.array([[-3, 0, 3], [-10, 0, 10], [-3, 0, 3]])\n",
    "gy_kernel = np.array([[-3, -10, -3], [0, 0, 0], [3, 10, 3]])\n",
    "edge_gx = cv2.filter2D(img, -1, gx_kernel)\n",
    "edge_gy = cv2.filter2D(img, -1, gy_kernel)"
   ]
  },
  {
   "cell_type": "code",
   "execution_count": 4,
   "id": "d788e01f",
   "metadata": {},
   "outputs": [],
   "source": [
    "# Edge detection with Scharr API\n",
    "scharr_x = cv2.Scharr(img, -1, 1, 0)\n",
    "scharr_y = cv2.Scharr(img, -1, 0, 1)"
   ]
  },
  {
   "cell_type": "code",
   "execution_count": 6,
   "id": "6299502c",
   "metadata": {},
   "outputs": [],
   "source": [
    "# Output Result\n",
    "merged1 = np.hstack((img, edge_gx, edge_gy))\n",
    "merged2 = np.hstack((img, scharr_x, scharr_y))\n",
    "merged = np.vstack((merged1, merged2))\n",
    "cv2.imshow('Scharr', merged)\n",
    "cv2.waitKey()\n",
    "cv2.destroyAllWindows()"
   ]
  },
  {
   "cell_type": "code",
   "execution_count": null,
   "id": "7754bb0e",
   "metadata": {},
   "outputs": [],
   "source": []
  }
 ],
 "metadata": {
  "kernelspec": {
   "display_name": "py3_8_5",
   "language": "python",
   "name": "py3_8_5"
  },
  "language_info": {
   "codemirror_mode": {
    "name": "ipython",
    "version": 3
   },
   "file_extension": ".py",
   "mimetype": "text/x-python",
   "name": "python",
   "nbconvert_exporter": "python",
   "pygments_lexer": "ipython3",
   "version": "3.8.5"
  }
 },
 "nbformat": 4,
 "nbformat_minor": 5
}
