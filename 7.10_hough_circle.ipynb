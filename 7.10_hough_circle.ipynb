{
 "cells": [
  {
   "cell_type": "code",
   "execution_count": 1,
   "id": "4933722a",
   "metadata": {},
   "outputs": [],
   "source": [
    "import cv2\n",
    "import numpy as np"
   ]
  },
  {
   "cell_type": "code",
   "execution_count": 2,
   "id": "c34ecab9",
   "metadata": {},
   "outputs": [],
   "source": [
    "img = cv2.imread('./img/coins_spread1.jpg')"
   ]
  },
  {
   "cell_type": "code",
   "execution_count": 3,
   "id": "f915d7e9",
   "metadata": {},
   "outputs": [],
   "source": [
    "# Convert to gray scale\n",
    "gray = cv2.cvtColor(img, cv2.COLOR_BGR2GRAY)"
   ]
  },
  {
   "cell_type": "code",
   "execution_count": 4,
   "id": "42776cc8",
   "metadata": {},
   "outputs": [],
   "source": [
    "# Gaussian blurring to remove noise\n",
    "blur = cv2.GaussianBlur(gray, (3, 3), 0)"
   ]
  },
  {
   "cell_type": "code",
   "execution_count": 6,
   "id": "4709e531",
   "metadata": {},
   "outputs": [],
   "source": [
    "# Apply hough circle transform(dp=1.5, minDist=30, cany_max=200)\n",
    "circles = cv2.HoughCircles(blur, cv2.HOUGH_GRADIENT, 1.5, 30, None, 200)\n",
    "if circles is not None:\n",
    "    circles = np.uint16(np.around(circles))\n",
    "    for i in circles[0, :]:\n",
    "        # Draw green circles around the circumference of the circle\n",
    "        cv2.circle(img, (i[0], i[1]), i[2], (0, 255, 0), 2)\n",
    "        # Draw red dot at the center of the circle\n",
    "        cv2.circle(img, (i[0], i[1]), 2, (0, 0, 255), 5)"
   ]
  },
  {
   "cell_type": "code",
   "execution_count": 7,
   "id": "db1d3151",
   "metadata": {},
   "outputs": [],
   "source": [
    "# Output result\n",
    "cv2.imshow('hough circle', img)\n",
    "cv2.waitKey()\n",
    "cv2.destroyAllWindows()"
   ]
  },
  {
   "cell_type": "code",
   "execution_count": null,
   "id": "7fbb2b6e",
   "metadata": {},
   "outputs": [],
   "source": []
  }
 ],
 "metadata": {
  "kernelspec": {
   "display_name": "py3_8_5",
   "language": "python",
   "name": "py3_8_5"
  },
  "language_info": {
   "codemirror_mode": {
    "name": "ipython",
    "version": 3
   },
   "file_extension": ".py",
   "mimetype": "text/x-python",
   "name": "python",
   "nbconvert_exporter": "python",
   "pygments_lexer": "ipython3",
   "version": "3.8.5"
  }
 },
 "nbformat": 4,
 "nbformat_minor": 5
}
