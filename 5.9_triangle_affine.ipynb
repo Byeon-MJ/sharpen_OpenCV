{
 "cells": [
  {
   "cell_type": "code",
   "execution_count": 1,
   "id": "54c6d434",
   "metadata": {},
   "outputs": [],
   "source": [
    "import cv2\n",
    "import numpy as np"
   ]
  },
  {
   "cell_type": "code",
   "execution_count": 2,
   "id": "796a4ef0",
   "metadata": {},
   "outputs": [],
   "source": [
    "img = cv2.imread('./img/taekwonv1.jpg')\n",
    "img2 = img.copy()\n",
    "draw = img.copy()"
   ]
  },
  {
   "cell_type": "code",
   "execution_count": 3,
   "id": "4ac49262",
   "metadata": {},
   "outputs": [],
   "source": [
    "# 변환 전, 후 삼각형 좌표\n",
    "pts1 = np.float32([[188, 14], [85, 202], [294, 216]])\n",
    "pts2 = np.float32([[128, 40], [85, 307], [306, 167]])"
   ]
  },
  {
   "cell_type": "code",
   "execution_count": 4,
   "id": "c65e2c17",
   "metadata": {},
   "outputs": [],
   "source": [
    "# 각 삼각형을 완전히 감싸는 사각형 좌표 구하기\n",
    "x1, y1, w1, h1 = cv2.boundingRect(pts1)\n",
    "x2, y2, w2, h2 = cv2.boundingRect(pts2)"
   ]
  },
  {
   "cell_type": "code",
   "execution_count": 5,
   "id": "0f4aee95",
   "metadata": {},
   "outputs": [],
   "source": [
    "# 사각형을 이용한 관심영역 설정\n",
    "roi1 = img[y1:y1+h1, x1:x1+w1]\n",
    "roi2 = img2[y2:y2+h2, x2:x2+w2]"
   ]
  },
  {
   "cell_type": "code",
   "execution_count": 7,
   "id": "8ed06a7f",
   "metadata": {},
   "outputs": [],
   "source": [
    "# 관심영역을 기준으로 좌표 계산\n",
    "offset1 = np.zeros((3, 2), dtype=np.float32)\n",
    "offset2 = np.zeros((3, 2), dtype=np.float32)\n",
    "for i in range(3):\n",
    "    offset1[i][0], offset1[i][1] = pts1[i][0]-x1, pts1[i][1]-y1\n",
    "    offset2[i][0], offset2[i][1] = pts2[i][0]-x2, pts2[i][1]-y2"
   ]
  },
  {
   "cell_type": "code",
   "execution_count": 8,
   "id": "f40d3be4",
   "metadata": {},
   "outputs": [],
   "source": [
    "# 관심영역을 주어진 삼각형 좌표로 어핀 변환\n",
    "mtrx = cv2.getAffineTransform(offset1, offset2)\n",
    "warped = cv2.warpAffine(roi1, mtrx, (w2, h2), None, cv2.INTER_LINEAR, cv2.BORDER_REFLECT_101)"
   ]
  },
  {
   "cell_type": "code",
   "execution_count": 9,
   "id": "b1d0e529",
   "metadata": {},
   "outputs": [
    {
     "data": {
      "text/plain": [
       "array([[  0,   0,   0, ...,   0,   0,   0],\n",
       "       [  0,   0,   0, ...,   0,   0,   0],\n",
       "       [  0,   0,   0, ...,   0,   0,   0],\n",
       "       ...,\n",
       "       [255, 255, 255, ...,   0,   0,   0],\n",
       "       [255, 255, 255, ...,   0,   0,   0],\n",
       "       [255,   0,   0, ...,   0,   0,   0]], dtype=uint8)"
      ]
     },
     "execution_count": 9,
     "metadata": {},
     "output_type": "execute_result"
    }
   ],
   "source": [
    "# 어핀 변환 후 삼각형만 골라 내기 위한 마스크 생성\n",
    "mask = np.zeros((h2, w2), dtype = np.uint8)\n",
    "cv2.fillConvexPoly(mask, np.int32(offset2), (255))"
   ]
  },
  {
   "cell_type": "code",
   "execution_count": 10,
   "id": "0b0c081f",
   "metadata": {},
   "outputs": [],
   "source": [
    "# 삼각형 영역만 마스킹해서 합성\n",
    "warped_masked = cv2.bitwise_and(warped, warped, mask=mask)\n",
    "roi2_masked = cv2.bitwise_and(roi2, roi2, mask=cv2.bitwise_not(mask))\n",
    "roi2_masked = roi2_masked + warped_masked\n",
    "img2[y2:y2+h2, x2:x2+w2] = roi2_masked"
   ]
  },
  {
   "cell_type": "code",
   "execution_count": 11,
   "id": "8ffa835c",
   "metadata": {},
   "outputs": [],
   "source": [
    "# 관심영역과 삼각형에 선을 그려서 출력\n",
    "cv2.rectangle(draw, (x1, y1), (x1+w1, y1+h1), (0, 255, 0), 1)\n",
    "cv2.polylines(draw, [pts1.astype(np.int32)], True, (255, 0, 0), 1)\n",
    "cv2.rectangle(img2, (x2, y2), (x2+w2, y2+h2), (0, 255, 0), 1)\n",
    "cv2.imshow('origin', draw)\n",
    "cv2.imshow('warped triangle', img2)\n",
    "cv2.waitKey(0)\n",
    "cv2.destroyAllWindows()"
   ]
  },
  {
   "cell_type": "code",
   "execution_count": null,
   "id": "27f7396c",
   "metadata": {},
   "outputs": [],
   "source": []
  }
 ],
 "metadata": {
  "kernelspec": {
   "display_name": "py3_8_5",
   "language": "python",
   "name": "py3_8_5"
  },
  "language_info": {
   "codemirror_mode": {
    "name": "ipython",
    "version": 3
   },
   "file_extension": ".py",
   "mimetype": "text/x-python",
   "name": "python",
   "nbconvert_exporter": "python",
   "pygments_lexer": "ipython3",
   "version": "3.8.5"
  }
 },
 "nbformat": 4,
 "nbformat_minor": 5
}
