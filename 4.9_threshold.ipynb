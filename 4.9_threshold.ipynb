{
 "cells": [
  {
   "cell_type": "code",
   "execution_count": 1,
   "id": "49a0736a",
   "metadata": {},
   "outputs": [],
   "source": [
    "import cv2\n",
    "import numpy as np\n",
    "import matplotlib.pyplot as plt"
   ]
  },
  {
   "cell_type": "code",
   "execution_count": 2,
   "id": "ef3c91d4",
   "metadata": {},
   "outputs": [],
   "source": [
    "# 이미지 그레이 스케일로 읽기\n",
    "img = cv2.imread('./img/gray_gradient.jpg', cv2.IMREAD_GRAYSCALE)"
   ]
  },
  {
   "cell_type": "code",
   "execution_count": 3,
   "id": "2cd31fca",
   "metadata": {},
   "outputs": [],
   "source": [
    "# Numpy 연산으로 바이너리 이미지 만들기\n",
    "thresh_np = np.zeros_like(img)  # 원본과 동일한 0으로 채워진 이미지\n",
    "thresh_np[img > 127] = 255      # 127보다 큰 값만 255로 변경"
   ]
  },
  {
   "cell_type": "code",
   "execution_count": 4,
   "id": "360e6d21",
   "metadata": {},
   "outputs": [
    {
     "name": "stdout",
     "output_type": "stream",
     "text": [
      "127.0\n"
     ]
    }
   ],
   "source": [
    "# OpenCV 함수로 바이너리 이미지 만들기\n",
    "ret, thresh_cv = cv2.threshold(img, 127, 255, cv2.THRESH_BINARY)\n",
    "print(ret)"
   ]
  },
  {
   "cell_type": "code",
   "execution_count": 5,
   "id": "67697fb7",
   "metadata": {},
   "outputs": [
    {
     "data": {
      "image/png": "[encoded data removed]",
      "text/plain": [
       "<Figure size 640x480 with 3 Axes>"
      ]
     },
     "metadata": {},
     "output_type": "display_data"
    }
   ],
   "source": [
    "# 원본과 결과물 출력\n",
    "imgs ={'Original':img, 'Numpy API':thresh_np, 'cv2.threshold':thresh_cv}\n",
    "\n",
    "for i, (key, value) in enumerate(imgs.items()):\n",
    "    plt.subplot(1, 3, i+1)\n",
    "    plt.title(key)\n",
    "    plt.imshow(value, cmap='gray')\n",
    "    plt.xticks([])\n",
    "    plt.yticks([])\n",
    "\n",
    "plt.show()"
   ]
  },
  {
   "cell_type": "code",
   "execution_count": null,
   "id": "18489a53",
   "metadata": {},
   "outputs": [],
   "source": []
  }
 ],
 "metadata": {
  "kernelspec": {
   "display_name": "py3_8_5",
   "language": "python",
   "name": "py3_8_5"
  },
  "language_info": {
   "codemirror_mode": {
    "name": "ipython",
    "version": 3
   },
   "file_extension": ".py",
   "mimetype": "text/x-python",
   "name": "python",
   "nbconvert_exporter": "python",
   "pygments_lexer": "ipython3",
   "version": "3.8.5"
  }
 },
 "nbformat": 4,
 "nbformat_minor": 5
}
