{
 "cells": [
  {
   "cell_type": "code",
   "execution_count": 11,
   "id": "23f1eb81",
   "metadata": {},
   "outputs": [],
   "source": [
    "import cv2\n",
    "import numpy as np"
   ]
  },
  {
   "cell_type": "code",
   "execution_count": 12,
   "id": "07676cf3",
   "metadata": {},
   "outputs": [],
   "source": [
    "img = cv2.imread('./img/taekwonv1.jpg')\n",
    "rows, cols = img.shape[:2]"
   ]
  },
  {
   "cell_type": "code",
   "execution_count": 13,
   "id": "b7edb3be",
   "metadata": {},
   "outputs": [],
   "source": [
    "# Create mask, 2 pixels larger than the original image\n",
    "mask = np.zeros((rows+2, cols+2), np.uint8)\n",
    "\n",
    "# Colors to use for filling\n",
    "newVal = (255, 255, 255)\n",
    "\n",
    "# Minimum/maximum difference value\n",
    "loDiff, upDiff = (10, 10, 10), (10, 10, 10)"
   ]
  },
  {
   "cell_type": "code",
   "execution_count": 14,
   "id": "809b6f70",
   "metadata": {},
   "outputs": [],
   "source": [
    "# Mouse event handling function\n",
    "def onMouse(event, x, y, flags, param):\n",
    "    global mask, img\n",
    "    if event == cv2.EVENT_LBUTTONDOWN:\n",
    "        seed = (x, y)\n",
    "        # Apply fill color\n",
    "        retval = cv2.floodFill(img, mask, seed, newVal, loDiff, upDiff)\n",
    "        # Display change results for fillable fields\n",
    "        cv2.imshow('img', img)"
   ]
  },
  {
   "cell_type": "code",
   "execution_count": 15,
   "id": "f24b6144",
   "metadata": {},
   "outputs": [],
   "source": [
    "# Output result\n",
    "cv2.imshow('img', img)\n",
    "cv2.setMouseCallback('img', onMouse)\n",
    "cv2.waitKey()\n",
    "cv2.destroyAllWindows()"
   ]
  },
  {
   "cell_type": "code",
   "execution_count": null,
   "id": "cfd32015",
   "metadata": {},
   "outputs": [],
   "source": []
  }
 ],
 "metadata": {
  "kernelspec": {
   "display_name": "py3_8_5",
   "language": "python",
   "name": "py3_8_5"
  },
  "language_info": {
   "codemirror_mode": {
    "name": "ipython",
    "version": 3
   },
   "file_extension": ".py",
   "mimetype": "text/x-python",
   "name": "python",
   "nbconvert_exporter": "python",
   "pygments_lexer": "ipython3",
   "version": "3.8.5"
  }
 },
 "nbformat": 4,
 "nbformat_minor": 5
}
