{
 "cells": [
  {
   "cell_type": "code",
   "execution_count": 2,
   "id": "131184d9",
   "metadata": {},
   "outputs": [],
   "source": [
    "    import cv2\n",
    "    import numpy as np\n",
    "    import matplotlib.pyplot as plt"
   ]
  },
  {
   "cell_type": "code",
   "execution_count": 3,
   "id": "7ecab5be",
   "metadata": {},
   "outputs": [],
   "source": [
    "img = cv2.imread('./img/fish.jpg')\n",
    "height, width = img.shape[:2]"
   ]
  },
  {
   "cell_type": "code",
   "execution_count": 4,
   "id": "4a809595",
   "metadata": {},
   "outputs": [],
   "source": [
    "# 0.5배 축소 변환행렬\n",
    "m_small = np.float32([[0.5, 0, 0], [0, 0.5, 0]])\n",
    "\n",
    "# 2배 확대 변환행렬\n",
    "m_big = np.float32([[2, 0, 0], [0, 2, 0]])"
   ]
  },
  {
   "cell_type": "code",
   "execution_count": 5,
   "id": "b51ec7a6",
   "metadata": {},
   "outputs": [],
   "source": [
    "# 보간법 적용 없이 확대/축소\n",
    "dst1 = cv2.warpAffine(img, m_small, (int(height*0.5), int(width*0.5)))\n",
    "dst2 = cv2.warpAffine(img, m_big, (int(height*2), int(width*2)))\n",
    "\n",
    "# 보간법 적용한 확대/축소\n",
    "dst3 = cv2.warpAffine(img, m_small, (int(height*0.5), int(width*0.5)), None, cv2.INTER_AREA)\n",
    "dst4 = cv2.warpAffine(img, m_big, (int(height*2), int(width*2)), None, cv2.INTER_CUBIC)"
   ]
  },
  {
   "cell_type": "code",
   "execution_count": 17,
   "id": "eea722db",
   "metadata": {},
   "outputs": [],
   "source": [
    "# 결과 출력\n",
    "cv2.imshow('original', img)\n",
    "cv2.imshow('small', dst1)\n",
    "cv2.imshow('big', dst2)\n",
    "cv2.imshow('small INTER_AREA', dst3)\n",
    "cv2.imshow('big INTER_CUBIC', dst4)\n",
    "cv2.waitKey(0)\n",
    "cv2.destroyAllWindows()"
   ]
  },
  {
   "cell_type": "code",
   "execution_count": null,
   "id": "cb1ead4f",
   "metadata": {},
   "outputs": [],
   "source": []
  }
 ],
 "metadata": {
  "kernelspec": {
   "display_name": "py3_8_5",
   "language": "python",
   "name": "py3_8_5"
  },
  "language_info": {
   "codemirror_mode": {
    "name": "ipython",
    "version": 3
   },
   "file_extension": ".py",
   "mimetype": "text/x-python",
   "name": "python",
   "nbconvert_exporter": "python",
   "pygments_lexer": "ipython3",
   "version": "3.8.5"
  }
 },
 "nbformat": 4,
 "nbformat_minor": 5
}
