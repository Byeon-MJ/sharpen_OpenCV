{
 "cells": [
  {
   "cell_type": "code",
   "execution_count": 1,
   "id": "d2ea0ad9",
   "metadata": {},
   "outputs": [],
   "source": [
    "import cv2\n",
    "import numpy as np\n",
    "import matplotlib.pyplot as plt"
   ]
  },
  {
   "cell_type": "code",
   "execution_count": 2,
   "id": "6c51e3dd",
   "metadata": {},
   "outputs": [],
   "source": [
    "img = cv2.imread('./img/fish.jpg')\n",
    "rows, cols = img.shape[:2]"
   ]
  },
  {
   "cell_type": "code",
   "execution_count": 3,
   "id": "b7e4a1dc",
   "metadata": {},
   "outputs": [],
   "source": [
    "# 라디안 각도 계산(60진법을 호도법으로 변경)\n",
    "d45 = 45.0 * np.pi / 180\n",
    "d90 = 90.0 * np.pi / 180"
   ]
  },
  {
   "cell_type": "code",
   "execution_count": 4,
   "id": "67d79119",
   "metadata": {},
   "outputs": [],
   "source": [
    "# 회전을 위한 변환행렬 생성\n",
    "m45 = np.float32([[np.cos(d45), -1*np.sin(d45), rows//2], \n",
    "                 [np.sin(d45), np.cos(d45), -1*cols//4]])\n",
    "m90 = np.float32([[np.cos(d90), -1*np.sin(d90), rows],\n",
    "                 [np.sin(d90), np.cos(d90), 0]])"
   ]
  },
  {
   "cell_type": "code",
   "execution_count": 5,
   "id": "c9d93a7b",
   "metadata": {},
   "outputs": [],
   "source": [
    "# 회전 변환행렬 적용\n",
    "r45 = cv2.warpAffine(img, m45, (cols, rows))\n",
    "r90 = cv2.warpAffine(img, m90, (rows, cols))"
   ]
  },
  {
   "cell_type": "code",
   "execution_count": 6,
   "id": "b95f6575",
   "metadata": {},
   "outputs": [],
   "source": [
    "# 결과 출력\n",
    "cv2.imshow('origin', img)\n",
    "cv2.imshow('45', r45)\n",
    "cv2.imshow('90', r90)\n",
    "cv2.waitKey(0)\n",
    "cv2.destroyAllWindows()"
   ]
  },
  {
   "cell_type": "code",
   "execution_count": null,
   "id": "0af6067d",
   "metadata": {},
   "outputs": [],
   "source": []
  }
 ],
 "metadata": {
  "kernelspec": {
   "display_name": "py3_8_5",
   "language": "python",
   "name": "py3_8_5"
  },
  "language_info": {
   "codemirror_mode": {
    "name": "ipython",
    "version": 3
   },
   "file_extension": ".py",
   "mimetype": "text/x-python",
   "name": "python",
   "nbconvert_exporter": "python",
   "pygments_lexer": "ipython3",
   "version": "3.8.5"
  }
 },
 "nbformat": 4,
 "nbformat_minor": 5
}
