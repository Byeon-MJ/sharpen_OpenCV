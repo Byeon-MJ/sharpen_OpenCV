{
 "cells": [
  {
   "cell_type": "code",
   "execution_count": 1,
   "id": "4c340e1b",
   "metadata": {},
   "outputs": [],
   "source": [
    "import cv2\n",
    "import numpy as np"
   ]
  },
  {
   "cell_type": "code",
   "execution_count": 2,
   "id": "a88e3c7a",
   "metadata": {},
   "outputs": [],
   "source": [
    "isDragging = False\n",
    "x0, y0, w, h = -1, -1, -1, -1\n",
    "blue, red = (255, 0, 0), (0, 0, 255)"
   ]
  },
  {
   "cell_type": "code",
   "execution_count": 3,
   "id": "23171365",
   "metadata": {},
   "outputs": [],
   "source": [
    "# 마우스 이벤트 핸들 함수\n",
    "def onMouse(event, x, y, flags, param):\n",
    "    global isDragging, x0, y0, img\n",
    "    # 드래그 시작\n",
    "    if event == cv2.EVENT_LBUTTONDOWN:\n",
    "        isDragging = True\n",
    "        x0 = x\n",
    "        y0 = y\n",
    "    # 마우스 드래그\n",
    "    elif event == cv2.EVENT_MOUSEMOVE:\n",
    "        # 드래그 진행 중\n",
    "        if isDragging:\n",
    "            img_draw = img.copy()        # 사각형 그림 표현을 위한 이미지 복제\n",
    "            cv2.rectangle(img_draw, (x0, y0), (x, y), blue, 2)  # 드래그 진행 영역 표시\n",
    "            cv2.imshow('img', img_draw)  # 사각형으로 표시된 그림 화면 출력\n",
    "    # 드래그 종료\n",
    "    elif event == cv2.EVENT_LBUTTONUP:\n",
    "        if isDragging:\n",
    "            isDragging = False\n",
    "            w = x - x0             # 너비 계산\n",
    "            h = y - y0             # 높이 계산\n",
    "            print(f'x:{x0}, y:{y0}, w:{w}, h:{h}')\n",
    "\n",
    "            if w > 0 and h > 0:\n",
    "                img_draw = img.copy()\n",
    "                cv2.rectangle(img_draw, (x0, y0), (x, y), red, 2)\n",
    "                cv2.imshow('img', img_draw)\n",
    "                roi = img[y0:y0+h, x0:x0+w]\n",
    "                cv2.imshow('cropped', roi)\n",
    "                cv2.moveWindow('cropped', 0, 0)\n",
    "                cv2.imwrite('./result/cropped.jpg', roi)\n",
    "                print('cropped.')\n",
    "            # 드래그 방향이 잘못된 경우\n",
    "            else:\n",
    "                cv2.imshow('img', img)\n",
    "                print('좌측 상단에서 우측 하단으로 영역을 드래그하세요.')          "
   ]
  },
  {
   "cell_type": "code",
   "execution_count": 4,
   "id": "39fb48fa",
   "metadata": {},
   "outputs": [
    {
     "name": "stdout",
     "output_type": "stream",
     "text": [
      "x:299, y:119, w:96, h:94\n",
      "cropped.\n",
      "x:367, y:138, w:-1, h:1\n",
      "좌측 상단에서 우측 하단으로 영역을 드래그하세요.\n"
     ]
    }
   ],
   "source": [
    "img = cv2.imread('./img/sunset.jpg')\n",
    "\n",
    "cv2.imshow('img', img)\n",
    "cv2.setMouseCallback('img', onMouse)\n",
    "cv2.waitKey()\n",
    "cv2.destroyAllWindows()"
   ]
  },
  {
   "cell_type": "code",
   "execution_count": null,
   "id": "c1710780",
   "metadata": {},
   "outputs": [],
   "source": []
  }
 ],
 "metadata": {
  "kernelspec": {
   "display_name": "py3_8_5",
   "language": "python",
   "name": "py3_8_5"
  },
  "language_info": {
   "codemirror_mode": {
    "name": "ipython",
    "version": 3
   },
   "file_extension": ".py",
   "mimetype": "text/x-python",
   "name": "python",
   "nbconvert_exporter": "python",
   "pygments_lexer": "ipython3",
   "version": "3.8.5"
  }
 },
 "nbformat": 4,
 "nbformat_minor": 5
}
