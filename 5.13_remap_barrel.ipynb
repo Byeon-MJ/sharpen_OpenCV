{
 "cells": [
  {
   "cell_type": "code",
   "execution_count": 1,
   "id": "dcbc2334",
   "metadata": {},
   "outputs": [],
   "source": [
    "import cv2\n",
    "import numpy as np"
   ]
  },
  {
   "cell_type": "code",
   "execution_count": 2,
   "id": "b523cf85",
   "metadata": {},
   "outputs": [],
   "source": [
    "# 왜곡 계수 설정\n",
    "k1, k2, k3 = 0.5, 0.2, 0.0   # 배럴 왜곡\n",
    "# k1, k2, k3 = -0.3, 0, 0      # 핀쿠션 왜곡"
   ]
  },
  {
   "cell_type": "code",
   "execution_count": 3,
   "id": "49ecb7ab",
   "metadata": {},
   "outputs": [],
   "source": [
    "img = cv2.imread('./img/girl.jpg')\n",
    "rows, cols = img.shape[:2]"
   ]
  },
  {
   "cell_type": "code",
   "execution_count": 4,
   "id": "c33df232",
   "metadata": {},
   "outputs": [],
   "source": [
    "# 매핑 배열 생성\n",
    "mapy, mapx = np.indices((rows, cols), dtype=np.float32)"
   ]
  },
  {
   "cell_type": "code",
   "execution_count": 5,
   "id": "b896c23c",
   "metadata": {},
   "outputs": [],
   "source": [
    "# 중앙점 좌표로 -1~1 정규화 및 극좌표 변환\n",
    "mapx = 2*mapx/(cols - 1) - 1\n",
    "mapy = 2*mapy/(rows - 1) - 1\n",
    "r, theta = cv2.cartToPolar(mapx, mapy)"
   ]
  },
  {
   "cell_type": "code",
   "execution_count": 6,
   "id": "f099901b",
   "metadata": {},
   "outputs": [],
   "source": [
    "# 방사 왜곡 변형 연산\n",
    "ru = r*(1+k1*(r**2) + k2*(r**4) + k3*(r**6))"
   ]
  },
  {
   "cell_type": "code",
   "execution_count": 7,
   "id": "8db1b0c6",
   "metadata": {},
   "outputs": [],
   "source": [
    "# 직교좌표 및 좌상단 기준으로 복원\n",
    "mapx, mapy = cv2.polarToCart(ru, theta)\n",
    "mapx = ((mapx + 1)*cols -1)/2\n",
    "mapy = ((mapy + 1)*rows -1)/2"
   ]
  },
  {
   "cell_type": "code",
   "execution_count": 8,
   "id": "e23984b0",
   "metadata": {},
   "outputs": [],
   "source": [
    "# 리매핑\n",
    "distorted = cv2.remap(img, mapx, mapy, cv2.INTER_LINEAR)"
   ]
  },
  {
   "cell_type": "code",
   "execution_count": 9,
   "id": "a06eb4a3",
   "metadata": {},
   "outputs": [],
   "source": [
    "# 결과 출력\n",
    "cv2.imshow('original', img)\n",
    "cv2.imshow('distorted', distorted)\n",
    "cv2.waitKey()\n",
    "cv2.destroyAllWindows()"
   ]
  },
  {
   "cell_type": "code",
   "execution_count": null,
   "id": "b5620d88",
   "metadata": {},
   "outputs": [],
   "source": []
  }
 ],
 "metadata": {
  "kernelspec": {
   "display_name": "py3_8_5",
   "language": "python",
   "name": "py3_8_5"
  },
  "language_info": {
   "codemirror_mode": {
    "name": "ipython",
    "version": 3
   },
   "file_extension": ".py",
   "mimetype": "text/x-python",
   "name": "python",
   "nbconvert_exporter": "python",
   "pygments_lexer": "ipython3",
   "version": "3.8.5"
  }
 },
 "nbformat": 4,
 "nbformat_minor": 5
}
