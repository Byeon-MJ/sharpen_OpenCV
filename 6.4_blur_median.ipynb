{
 "cells": [
  {
   "cell_type": "code",
   "execution_count": 1,
   "id": "9d7fc5de",
   "metadata": {},
   "outputs": [],
   "source": [
    "import cv2\n",
    "import numpy as np"
   ]
  },
  {
   "cell_type": "code",
   "execution_count": 2,
   "id": "78bb4053",
   "metadata": {},
   "outputs": [],
   "source": [
    "img = cv2.imread('./img/salt_pepper_noise.jpg')"
   ]
  },
  {
   "cell_type": "code",
   "execution_count": 3,
   "id": "7adbffab",
   "metadata": {},
   "outputs": [],
   "source": [
    "# 미디언 블러 적용\n",
    "blur = cv2.medianBlur(img, 5)"
   ]
  },
  {
   "cell_type": "code",
   "execution_count": 4,
   "id": "d21476da",
   "metadata": {},
   "outputs": [],
   "source": [
    "# 결과 출력\n",
    "merged = np.hstack((img, blur))\n",
    "cv2.imshow('median', merged)\n",
    "cv2.waitKey()\n",
    "cv2.destroyAllWindows()"
   ]
  },
  {
   "cell_type": "code",
   "execution_count": null,
   "id": "a07c00e1",
   "metadata": {},
   "outputs": [],
   "source": []
  }
 ],
 "metadata": {
  "kernelspec": {
   "display_name": "py3_8_5",
   "language": "python",
   "name": "py3_8_5"
  },
  "language_info": {
   "codemirror_mode": {
    "name": "ipython",
    "version": 3
   },
   "file_extension": ".py",
   "mimetype": "text/x-python",
   "name": "python",
   "nbconvert_exporter": "python",
   "pygments_lexer": "ipython3",
   "version": "3.8.5"
  }
 },
 "nbformat": 4,
 "nbformat_minor": 5
}
