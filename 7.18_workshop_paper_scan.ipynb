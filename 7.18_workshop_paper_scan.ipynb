{
 "cells": [
  {
   "cell_type": "code",
   "execution_count": 2,
   "id": "14d8ba4b",
   "metadata": {},
   "outputs": [],
   "source": [
    "import cv2\n",
    "import numpy as np"
   ]
  },
  {
   "cell_type": "code",
   "execution_count": 3,
   "id": "d0f9268e",
   "metadata": {},
   "outputs": [],
   "source": [
    "win_name = 'scan'\n",
    "# Read image\n",
    "img = cv2.imread('./img/paper.jpg')\n",
    "cv2.imshow('original', img)\n",
    "cv2.waitKey(0)\n",
    "cv2.destroyAllWindows()\n",
    "draw = img.copy()"
   ]
  },
  {
   "cell_type": "code",
   "execution_count": null,
   "id": "d5354651",
   "metadata": {},
   "outputs": [],
   "source": [
    "# Convert to gray scale and canny edge\n"
   ]
  },
  {
   "cell_type": "code",
   "execution_count": null,
   "id": "5906cb59",
   "metadata": {},
   "outputs": [],
   "source": []
  }
 ],
 "metadata": {
  "kernelspec": {
   "display_name": "Python 3 (ipykernel)",
   "language": "python",
   "name": "python3"
  },
  "language_info": {
   "codemirror_mode": {
    "name": "ipython",
    "version": 3
   },
   "file_extension": ".py",
   "mimetype": "text/x-python",
   "name": "python",
   "nbconvert_exporter": "python",
   "pygments_lexer": "ipython3",
   "version": "3.8.10"
  }
 },
 "nbformat": 4,
 "nbformat_minor": 5
}
