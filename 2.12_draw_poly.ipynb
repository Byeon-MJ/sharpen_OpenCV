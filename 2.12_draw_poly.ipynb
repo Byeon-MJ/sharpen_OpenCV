{
 "cells": [
  {
   "cell_type": "code",
   "execution_count": 1,
   "id": "27483a08",
   "metadata": {},
   "outputs": [],
   "source": [
    "import cv2\n",
    "import numpy as np"
   ]
  },
  {
   "cell_type": "code",
   "execution_count": 2,
   "id": "b0e34029",
   "metadata": {},
   "outputs": [],
   "source": [
    "img = cv2.imread('./img/blank_500.jpg')"
   ]
  },
  {
   "cell_type": "code",
   "execution_count": 4,
   "id": "03546309",
   "metadata": {},
   "outputs": [],
   "source": [
    "# Numpy 배열로 좌표 생성\n",
    "# 번개 모양 선 좌표\n",
    "pts1 = np.array([[50, 50], [150, 150], [100, 140], [200, 240]], dtype=np.int32)\n",
    "# 삼각형 좌표\n",
    "pts2 = np.array([[350, 50], [250, 200], [450, 200]], dtype=np.int32)\n",
    "pts3 = np.array([[150, 300], [50, 450], [250, 450]], dtype=np.int32)\n",
    "# 오각형 좌표\n",
    "pts4 = np.array([[350, 250], [450, 350], [400, 450], [300, 450], [250, 350]], \n",
    "                dtype=np.int32)"
   ]
  },
  {
   "cell_type": "code",
   "execution_count": 5,
   "id": "bd290c30",
   "metadata": {},
   "outputs": [],
   "source": [
    "# 다각형 그리기\n",
    "cv2.polylines(img, [pts1], False, (255, 0, 0))\n",
    "cv2.polylines(img, [pts2], False, (0, 0, 0), 10)\n",
    "cv2.polylines(img, [pts3], True, (0, 0, 255), 10)\n",
    "cv2.polylines(img, [pts4], True, (0, 0, 0))\n",
    "\n",
    "cv2.imshow('polyline', img)\n",
    "cv2.waitKey(0)\n",
    "cv2.destroyAllWindows()"
   ]
  },
  {
   "cell_type": "code",
   "execution_count": null,
   "id": "d56e69bd",
   "metadata": {},
   "outputs": [],
   "source": []
  }
 ],
 "metadata": {
  "kernelspec": {
   "display_name": "py3_8_5",
   "language": "python",
   "name": "py3_8_5"
  },
  "language_info": {
   "codemirror_mode": {
    "name": "ipython",
    "version": 3
   },
   "file_extension": ".py",
   "mimetype": "text/x-python",
   "name": "python",
   "nbconvert_exporter": "python",
   "pygments_lexer": "ipython3",
   "version": "3.8.5"
  }
 },
 "nbformat": 4,
 "nbformat_minor": 5
}
