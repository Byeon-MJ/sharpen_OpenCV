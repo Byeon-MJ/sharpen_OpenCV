{
 "cells": [
  {
   "cell_type": "code",
   "execution_count": 1,
   "id": "a3268a58",
   "metadata": {},
   "outputs": [],
   "source": [
    "import cv2\n",
    "import numpy as np"
   ]
  },
  {
   "cell_type": "code",
   "execution_count": 15,
   "id": "b1876464",
   "metadata": {},
   "outputs": [],
   "source": [
    "# Read Image, convert gray scale and threshold\n",
    "img = cv2.imread('./img/5shapes.jpg')\n",
    "img2 = img.copy()\n",
    "img_gray = cv2.cvtColor(img, cv2.COLOR_BGR2GRAY)\n",
    "ret, th = cv2.threshold(img_gray, 127, 255, cv2.THRESH_BINARY_INV)"
   ]
  },
  {
   "cell_type": "code",
   "execution_count": 16,
   "id": "ca6a729c",
   "metadata": {},
   "outputs": [
    {
     "name": "stdout",
     "output_type": "stream",
     "text": [
      "vertices: 10\n",
      "vertices: 16\n",
      "vertices: 3\n",
      "vertices: 4\n",
      "vertices: 4\n"
     ]
    }
   ],
   "source": [
    "# Find contour\n",
    "contours, _ = cv2.findContours(th, cv2.RETR_EXTERNAL, cv2.CHAIN_APPROX_SIMPLE)[-2:]\n",
    "\n",
    "for contour in contours:\n",
    "    # Approximate contour with simplification\n",
    "    approx = cv2.approxPolyDP(contour, 0.01*cv2.arcLength(contour, True), True)\n",
    "    # Number of vertices\n",
    "    vertices = len(approx)\n",
    "    print('vertices:', vertices)\n",
    "    \n",
    "    # Find the controid\n",
    "    mmt = cv2.moments(contour)\n",
    "    cx, cy = int(mmt['m10']/mmt['m00']), int(mmt['m01']/mmt['m00'])\n",
    "    \n",
    "    name = 'Unknown'\n",
    "    if vertices == 3:          # Triangle\n",
    "        name = 'Triangle'\n",
    "        color = (0, 255, 0)\n",
    "    elif vertices == 4:        # Rectangle\n",
    "        x, y, w, h = cv2.boundingRect(contour)\n",
    "        if abs(w-h) <= 3:      # Square if the difference between its width and height is less than 3\n",
    "            name = 'Square'\n",
    "            color = (0, 125, 255)\n",
    "        else:                  # Rectangle if the difference between its width and height is more than 3\n",
    "            name = 'Rectangle'\n",
    "            color = (0, 0, 255)\n",
    "    elif vertices == 10:       # Star\n",
    "        name = 'Star'\n",
    "        color = (255, 255, 0)\n",
    "    elif vertices >= 11:       # Circle\n",
    "        name = 'Circle'\n",
    "        color = (0, 255, 255)\n",
    "    # Draw contour\n",
    "    cv2.drawContours(img2, [contour], -1, color, -1)\n",
    "    # Print shape name\n",
    "    cv2.putText(img2, name, (cx-50, cy), cv2.FONT_HERSHEY_COMPLEX_SMALL, \n",
    "                1, (100, 100, 100), 1)"
   ]
  },
  {
   "cell_type": "code",
   "execution_count": 17,
   "id": "6276966d",
   "metadata": {},
   "outputs": [],
   "source": [
    "# Output result\n",
    "merged = np.hstack((img, img2))\n",
    "cv2.imshow('Input Shapes & Recognizing Shapes', merged)\n",
    "cv2.waitKey()\n",
    "cv2.destroyAllWindows()"
   ]
  },
  {
   "cell_type": "code",
   "execution_count": null,
   "id": "13587aee",
   "metadata": {},
   "outputs": [],
   "source": []
  }
 ],
 "metadata": {
  "kernelspec": {
   "display_name": "Python 3 (ipykernel)",
   "language": "python",
   "name": "python3"
  },
  "language_info": {
   "codemirror_mode": {
    "name": "ipython",
    "version": 3
   },
   "file_extension": ".py",
   "mimetype": "text/x-python",
   "name": "python",
   "nbconvert_exporter": "python",
   "pygments_lexer": "ipython3",
   "version": "3.8.10"
  }
 },
 "nbformat": 4,
 "nbformat_minor": 5
}
