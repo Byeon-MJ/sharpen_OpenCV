{
 "cells": [
  {
   "cell_type": "code",
   "execution_count": 1,
   "id": "a34529c7",
   "metadata": {},
   "outputs": [],
   "source": [
    "import cv2\n",
    "import numpy as np"
   ]
  },
  {
   "cell_type": "code",
   "execution_count": 2,
   "id": "435a0875",
   "metadata": {},
   "outputs": [],
   "source": [
    "# Read image for matching\n",
    "target = cv2.imread('./img/4star.jpg')\n",
    "shapes = cv2.imread('./img/shapestomatch.jpg')"
   ]
  },
  {
   "cell_type": "code",
   "execution_count": 3,
   "id": "d8f5c232",
   "metadata": {},
   "outputs": [],
   "source": [
    "# Convert to gray scale\n",
    "target_gray = cv2.cvtColor(target, cv2.COLOR_BGR2GRAY)\n",
    "shapes_gray = cv2.cvtColor(shapes, cv2.COLOR_BGR2GRAY)\n",
    "\n",
    "# Convert to binary scale\n",
    "ret, target_th = cv2.threshold(target_gray, 127, 255, cv2.THRESH_BINARY_INV)\n",
    "ret, shapes_th = cv2.threshold(shapes_gray, 127, 255, cv2.THRESH_BINARY_INV)"
   ]
  },
  {
   "cell_type": "code",
   "execution_count": 4,
   "id": "d96a2caa",
   "metadata": {},
   "outputs": [],
   "source": [
    "# Find contours\n",
    "cntr_target, _ = cv2.findContours(target_th, cv2.RETR_EXTERNAL, cv2.CHAIN_APPROX_SIMPLE)[-2:]\n",
    "cntr_shapes, _ = cv2.findContours(shapes_th, cv2.RETR_EXTERNAL, cv2.CHAIN_APPROX_SIMPLE)[-2:]"
   ]
  },
  {
   "cell_type": "code",
   "execution_count": 7,
   "id": "bff9aca5",
   "metadata": {},
   "outputs": [],
   "source": [
    "# Loop for matching each shape\n",
    "matchs = []    # List for saving contour and matching score\n",
    "for cntr in cntr_shapes:\n",
    "    # Match the target shape with one of the several shapes\n",
    "    match = cv2.matchShapes(cntr_target[0], cntr, cv2.CONTOURS_MATCH_I2, 0.0)\n",
    "    # Save matching scores and contours of the corresponding shapes as a pair\n",
    "    matchs.append((match, cntr))\n",
    "    # Display matching score at the starting point of the contour of the corresponding shape\n",
    "    cv2.putText(shapes, f'{match:.2f}', tuple(cntr[0][0]), cv2.FONT_HERSHEY_PLAIN, 1, (0, 0, 255), 1)"
   ]
  },
  {
   "cell_type": "code",
   "execution_count": 8,
   "id": "4df2ebe6",
   "metadata": {},
   "outputs": [],
   "source": [
    "# Sort by matching score\n",
    "matchs.sort(key=lambda x : x[0])"
   ]
  },
  {
   "cell_type": "code",
   "execution_count": 9,
   "id": "fe7eded0",
   "metadata": {},
   "outputs": [],
   "source": [
    "# Draw a line on the contour of the shape with the lowest matching score\n",
    "cv2.drawContours(shapes, [matchs[0][1]], -1, (0, 255, 0), 3)\n",
    "cv2.imshow('target', target)\n",
    "cv2.imshow('Match Shape', shapes)\n",
    "cv2.waitKey()\n",
    "cv2.destroyAllWindows()"
   ]
  },
  {
   "cell_type": "code",
   "execution_count": null,
   "id": "99aaacfd",
   "metadata": {},
   "outputs": [],
   "source": []
  }
 ],
 "metadata": {
  "kernelspec": {
   "display_name": "py3_8_5",
   "language": "python",
   "name": "py3_8_5"
  },
  "language_info": {
   "codemirror_mode": {
    "name": "ipython",
    "version": 3
   },
   "file_extension": ".py",
   "mimetype": "text/x-python",
   "name": "python",
   "nbconvert_exporter": "python",
   "pygments_lexer": "ipython3",
   "version": "3.8.5"
  }
 },
 "nbformat": 4,
 "nbformat_minor": 5
}
